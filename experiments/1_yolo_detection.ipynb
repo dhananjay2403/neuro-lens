{
 "cells": [
  {
   "cell_type": "code",
   "execution_count": null,
   "id": "ac66fe2b",
   "metadata": {},
   "outputs": [],
   "source": [
    "import os\n",
    "from ultralytics import YOLO"
   ]
  },
  {
   "cell_type": "code",
   "execution_count": null,
   "id": "3ac64cc8",
   "metadata": {},
   "outputs": [],
   "source": [
    "# Detect objects in a single image using a trained YOLOv8 model & save the annotated output image\n",
    "def detect_image(\n",
    "    image_filename='test.jpg',                                      # Name of the input image file in the test_images folder\n",
    "    model_weights='../runs/detect/full_training/weights/best.pt',   # Path to the trained YOLOv8 model weights file\n",
    "    confidence_threshold=0.5                                        # Minimum confidence score for detections\n",
    "):\n",
    "    \n",
    "    # Create full path to image from the test_images folder (inside neuro-lens)\n",
    "    image_path = os.path.join('..', 'test_images', image_filename)\n",
    "\n",
    "    # Load the model\n",
    "    model = YOLO(model_weights)\n",
    "\n",
    "    # Run prediction on image\n",
    "    model.predict(\n",
    "        source=image_path,\n",
    "        show=True,                           # Display image while processing\n",
    "        save=True,                           # Save the annotated image\n",
    "        conf=confidence_threshold,\n",
    "        line_width=2,                        # Bounding box thickness\n",
    "        project='../results',                # Save results to neuro-lens/results\n",
    "        name='yolo_detection_image'          # Custom subfolder for this experiment\n",
    "    )\n",
    "\n",
    "    print(f\"Output saved to ../results/yolo_detection_image/{os.path.basename(image_filename)}\")\n",
    "\n",
    "if __name__ == \"__main__\":\n",
    "    detect_image(image_filename='test_image.jpg')            # Change this to an actual image filename in your test_images folder"
   ]
  },
  {
   "cell_type": "code",
   "execution_count": null,
   "id": "ba1a8b10",
   "metadata": {},
   "outputs": [],
   "source": []
  }
 ],
 "metadata": {
  "language_info": {
   "name": "python"
  }
 },
 "nbformat": 4,
 "nbformat_minor": 5
}
