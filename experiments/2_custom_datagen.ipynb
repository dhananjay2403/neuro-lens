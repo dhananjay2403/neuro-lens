{
 "cells": [
  {
   "cell_type": "code",
   "execution_count": null,
   "id": "4a82b45c",
   "metadata": {},
   "outputs": [],
   "source": [
    "\"\"\"\n",
    "Custom data generator to work with BraTS2020 dataset.\n",
    "Can be used as a template to create your own custom data generators. \n",
    "\n",
    "No image processing operations are performed here, just load data from local directory\n",
    "in batches. \n",
    "\n",
    "\"\"\"\n",
    "\n",
    "#from tifffile import imsave, imread\n",
    "import os\n",
    "import numpy as np"
   ]
  },
  {
   "cell_type": "code",
   "execution_count": null,
   "id": "a08a253c",
   "metadata": {},
   "outputs": [],
   "source": [
    "def load_img(img_dir, img_list):\n",
    "    images=[]\n",
    "    for i, image_name in enumerate(img_list):    \n",
    "        if (image_name.split('.')[1] == 'npy'):\n",
    "            \n",
    "            image = np.load(img_dir+image_name)         # Load the nupy array\n",
    "                      \n",
    "            images.append(image)\n",
    "    images = np.array(images)\n",
    "    \n",
    "    return(images)\n"
   ]
  },
  {
   "cell_type": "code",
   "execution_count": null,
   "id": "1cbcb0c2",
   "metadata": {},
   "outputs": [],
   "source": [
    "def imageLoader(img_dir, img_list, mask_dir, mask_list, batch_size):\n",
    "\n",
    "    L = len(img_list)               # how many images are present\n",
    "\n",
    "    # keras needs the generator infinite, so we will use while true  \n",
    "    while True:\n",
    "\n",
    "        # Counters initialised\n",
    "        batch_start = 0\n",
    "        batch_end = batch_size\n",
    "\n",
    "        while batch_start < L:\n",
    "            limit = min(batch_end, L)\n",
    "                       \n",
    "            X = load_img(img_dir, img_list[batch_start:limit])          # Loads image\n",
    "            Y = load_img(mask_dir, mask_list[batch_start:limit])        # Loads mask\n",
    "\n",
    "            # Note: We'll use yield instead of return\n",
    "            yield (X,Y) # a tuple with two numpy arrays with batch_size samples     \n",
    "\n",
    "            # Create counter increments\n",
    "            batch_start += batch_size   \n",
    "            batch_end += batch_size"
   ]
  },
  {
   "cell_type": "code",
   "execution_count": null,
   "id": "8bd69b9a",
   "metadata": {},
   "outputs": [],
   "source": [
    "#Test the generator\n",
    "\n",
    "from matplotlib import pyplot as plt\n",
    "import random\n",
    "\n",
    "train_img_dir = \"BraTS2020_TrainingData/input_data_128/train/images/\"\n",
    "train_mask_dir = \"BraTS2020_TrainingData/input_data_128/train/masks/\""
   ]
  },
  {
   "cell_type": "code",
   "execution_count": null,
   "id": "8ca4dc5d",
   "metadata": {},
   "outputs": [],
   "source": [
    "train_img_list=os.listdir(train_img_dir)\n",
    "train_mask_list = os.listdir(train_mask_dir)"
   ]
  },
  {
   "cell_type": "code",
   "execution_count": null,
   "id": "20a02b21",
   "metadata": {},
   "outputs": [],
   "source": [
    "batch_size = 2\n",
    "\n",
    "train_img_datagen = imageLoader(train_img_dir, train_img_list, \n",
    "                                train_mask_dir, train_mask_list, batch_size)"
   ]
  },
  {
   "cell_type": "code",
   "execution_count": null,
   "id": "aae8e446",
   "metadata": {},
   "outputs": [],
   "source": [
    "#Verify generator.... In python 3 next() is renamed as __next__()\n",
    "img, msk = train_img_datagen.__next__()"
   ]
  },
  {
   "cell_type": "code",
   "execution_count": null,
   "id": "089d92f3",
   "metadata": {},
   "outputs": [],
   "source": [
    "# Plot it\n",
    "img_num = random.randint(0,img.shape[0]-1)\n",
    "test_img=img[img_num]\n",
    "test_mask=msk[img_num]\n",
    "test_mask=np.argmax(test_mask, axis=3)          # Using argmax to convert categorical into integer\n",
    "\n",
    "n_slice=random.randint(0, test_mask.shape[2])\n",
    "plt.figure(figsize=(12, 8))\n",
    "\n",
    "plt.subplot(221)\n",
    "plt.imshow(test_img[:,:,n_slice, 0], cmap='gray')\n",
    "plt.title('Image flair')\n",
    "plt.subplot(222)\n",
    "plt.imshow(test_img[:,:,n_slice, 1], cmap='gray')\n",
    "plt.title('Image t1ce')\n",
    "plt.subplot(223)\n",
    "plt.imshow(test_img[:,:,n_slice, 2], cmap='gray')\n",
    "plt.title('Image t2')\n",
    "plt.subplot(224)\n",
    "plt.imshow(test_mask[:,:,n_slice])\n",
    "plt.title('Mask')\n",
    "plt.show()"
   ]
  },
  {
   "cell_type": "code",
   "execution_count": null,
   "id": "a39edf9a",
   "metadata": {},
   "outputs": [],
   "source": []
  }
 ],
 "metadata": {
  "language_info": {
   "name": "python"
  }
 },
 "nbformat": 4,
 "nbformat_minor": 5
}
