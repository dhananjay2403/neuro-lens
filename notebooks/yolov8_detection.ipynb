{
 "cells": [
  {
   "cell_type": "markdown",
   "metadata": {},
   "source": [
    "Dataset used: https://www.kaggle.com/datasets/pkdarabi/medical-image-dataset-brain-tumor-detection"
   ]
  },
  {
   "cell_type": "code",
   "execution_count": null,
   "metadata": {
    "_cell_guid": "b1076dfc-b9ad-4769-8c92-a6c4dae69d19",
    "_uuid": "8f2839f25d086af736a60e9eeb907d3b93b6e0e5",
    "execution": {
     "iopub.execute_input": "2025-06-13T02:58:03.925828Z",
     "iopub.status.busy": "2025-06-13T02:58:03.925591Z",
     "iopub.status.idle": "2025-06-13T02:58:35.405671Z",
     "shell.execute_reply": "2025-06-13T02:58:35.404922Z",
     "shell.execute_reply.started": "2025-06-13T02:58:03.925810Z"
    },
    "scrolled": true
   },
   "outputs": [],
   "source": [
    "# This Python 3 environment comes with many helpful analytics libraries installed\n",
    "# It is defined by the kaggle/python Docker image: https://github.com/kaggle/docker-python\n",
    "# For example, here's several helpful packages to load\n",
    "\n",
    "import numpy as np # linear algebra\n",
    "import pandas as pd # data processing, CSV file I/O (e.g. pd.read_csv)\n",
    "\n",
    "# Input data files are available in the read-only \"../input/\" directory\n",
    "# For example, running this (by clicking run or pressing Shift+Enter) will list all files under the input directory\n",
    "\n",
    "import os\n",
    "for dirname, _, filenames in os.walk('/kaggle/input'):\n",
    "    for filename in filenames:\n",
    "        print(os.path.join(dirname, filename))\n",
    "\n",
    "# You can write up to 20GB to the current directory (/kaggle/working/) that gets preserved as output when you create a version using \"Save & Run All\" \n",
    "# You can also write temporary files to /kaggle/temp/, but they won't be saved outside of the current session"
   ]
  },
  {
   "cell_type": "code",
   "execution_count": null,
   "metadata": {
    "execution": {
     "iopub.execute_input": "2025-06-13T05:26:02.183875Z",
     "iopub.status.busy": "2025-06-13T05:26:02.183228Z",
     "iopub.status.idle": "2025-06-13T05:27:29.335550Z",
     "shell.execute_reply": "2025-06-13T05:27:29.334633Z",
     "shell.execute_reply.started": "2025-06-13T05:26:02.183844Z"
    }
   },
   "outputs": [],
   "source": [
    "pip install ultralytics"
   ]
  },
  {
   "cell_type": "code",
   "execution_count": 10,
   "metadata": {
    "execution": {
     "iopub.execute_input": "2025-06-13T05:19:17.589273Z",
     "iopub.status.busy": "2025-06-13T05:19:17.588982Z",
     "iopub.status.idle": "2025-06-13T05:19:17.593061Z",
     "shell.execute_reply": "2025-06-13T05:19:17.592355Z",
     "shell.execute_reply.started": "2025-06-13T05:19:17.589251Z"
    }
   },
   "outputs": [],
   "source": [
    "from ultralytics import YOLO"
   ]
  },
  {
   "cell_type": "code",
   "execution_count": 11,
   "metadata": {
    "execution": {
     "iopub.execute_input": "2025-06-13T05:19:20.349986Z",
     "iopub.status.busy": "2025-06-13T05:19:20.349719Z",
     "iopub.status.idle": "2025-06-13T05:19:20.354368Z",
     "shell.execute_reply": "2025-06-13T05:19:20.353652Z",
     "shell.execute_reply.started": "2025-06-13T05:19:20.349970Z"
    }
   },
   "outputs": [],
   "source": [
    "yaml_content = \"\"\"\n",
    "# Train images\n",
    "train: /kaggle/input/medical-image-dataset-brain-tumor-detection/BrainTumor/BrainTumorYolov8/train/images\n",
    "\n",
    "# Validation images\n",
    "val: /kaggle/input/medical-image-dataset-brain-tumor-detection/BrainTumor/BrainTumorYolov8/valid/images\n",
    "\n",
    "# Test images\n",
    "test: /kaggle/input/medical-image-dataset-brain-tumor-detection/BrainTumor/BrainTumorYolov8/test/images\n",
    "\n",
    "# No. of classes\n",
    "nc: 3\n",
    "\n",
    "# Class names\n",
    "names: ['glioma', 'meningioma', 'pituitary']\n",
    "\"\"\"\n",
    "\n",
    "with open(\"data.yaml\", \"w\") as f:\n",
    "    f.write(yaml_content)"
   ]
  },
  {
   "cell_type": "markdown",
   "metadata": {},
   "source": [
    "## Model Training"
   ]
  },
  {
   "cell_type": "markdown",
   "metadata": {},
   "source": [
    "![Screenshot 2025-06-13 at 10.05.47.jpg](../img/Screenshot%202025-06-13%20at%2010.05.47.jpg) ![Screenshot 2025-06-13 at 10.06.49.jpg](../img/Screenshot%202025-06-13%20at%2010.06.49.jpg)"
   ]
  },
  {
   "cell_type": "code",
   "execution_count": 6,
   "metadata": {
    "execution": {
     "iopub.execute_input": "2025-06-13T03:02:27.221440Z",
     "iopub.status.busy": "2025-06-13T03:02:27.220712Z",
     "iopub.status.idle": "2025-06-13T04:07:43.081954Z",
     "shell.execute_reply": "2025-06-13T04:07:43.081205Z",
     "shell.execute_reply.started": "2025-06-13T03:02:27.221414Z"
    }
   },
   "outputs": [
    {
     "name": "stdout",
     "output_type": "stream",
     "text": [
      "Downloading https://github.com/ultralytics/assets/releases/download/v8.3.0/yolov8m.pt to 'yolov8m.pt'...\n"
     ]
    },
    {
     "name": "stderr",
     "output_type": "stream",
     "text": [
      "100%|██████████| 49.7M/49.7M [00:00<00:00, 227MB/s]\n"
     ]
    },
    {
     "name": "stdout",
     "output_type": "stream",
     "text": [
      "Ultralytics 8.3.154 🚀 Python-3.11.11 torch-2.6.0+cu124 CUDA:0 (Tesla T4, 15095MiB)\n",
      "\u001b[34m\u001b[1mengine/trainer: \u001b[0magnostic_nms=False, amp=True, augment=False, auto_augment=randaugment, batch=16, bgr=0.0, box=7.5, cache=False, cfg=None, classes=None, close_mosaic=10, cls=0.5, conf=None, copy_paste=0.0, copy_paste_mode=flip, cos_lr=False, cutmix=0.0, data=data.yaml, degrees=0.0, deterministic=True, device=None, dfl=1.5, dnn=False, dropout=0.0, dynamic=False, embed=None, epochs=50, erasing=0.4, exist_ok=False, fliplr=0.5, flipud=0.0, format=torchscript, fraction=1.0, freeze=None, half=False, hsv_h=0.015, hsv_s=0.7, hsv_v=0.4, imgsz=640, int8=False, iou=0.7, keras=False, kobj=1.0, line_width=None, lr0=0.01, lrf=0.01, mask_ratio=4, max_det=300, mixup=0.0, mode=train, model=yolov8m.pt, momentum=0.937, mosaic=1.0, multi_scale=False, name=custom_exp, nbs=64, nms=False, opset=None, optimize=False, optimizer=auto, overlap_mask=True, patience=100, perspective=0.0, plots=True, pose=12.0, pretrained=True, profile=False, project=/kaggle/working/runs/full_training, rect=False, resume=False, retina_masks=False, save=True, save_conf=False, save_crop=False, save_dir=/kaggle/working/runs/full_training/custom_exp, save_frames=False, save_json=False, save_period=-1, save_txt=False, scale=0.5, seed=0, shear=0.0, show=False, show_boxes=True, show_conf=True, show_labels=True, simplify=True, single_cls=False, source=None, split=val, stream_buffer=False, task=detect, time=None, tracker=botsort.yaml, translate=0.1, val=True, verbose=True, vid_stride=1, visualize=False, warmup_bias_lr=0.1, warmup_epochs=3.0, warmup_momentum=0.8, weight_decay=0.0005, workers=8, workspace=None\n",
      "Downloading https://ultralytics.com/assets/Arial.ttf to '/root/.config/Ultralytics/Arial.ttf'...\n"
     ]
    },
    {
     "name": "stderr",
     "output_type": "stream",
     "text": [
      "100%|██████████| 755k/755k [00:00<00:00, 17.5MB/s]\n"
     ]
    },
    {
     "name": "stdout",
     "output_type": "stream",
     "text": [
      "Overriding model.yaml nc=80 with nc=3\n",
      "\n",
      "                   from  n    params  module                                       arguments                     \n",
      "  0                  -1  1      1392  ultralytics.nn.modules.conv.Conv             [3, 48, 3, 2]                 \n",
      "  1                  -1  1     41664  ultralytics.nn.modules.conv.Conv             [48, 96, 3, 2]                \n",
      "  2                  -1  2    111360  ultralytics.nn.modules.block.C2f             [96, 96, 2, True]             \n",
      "  3                  -1  1    166272  ultralytics.nn.modules.conv.Conv             [96, 192, 3, 2]               \n",
      "  4                  -1  4    813312  ultralytics.nn.modules.block.C2f             [192, 192, 4, True]           \n",
      "  5                  -1  1    664320  ultralytics.nn.modules.conv.Conv             [192, 384, 3, 2]              \n",
      "  6                  -1  4   3248640  ultralytics.nn.modules.block.C2f             [384, 384, 4, True]           \n",
      "  7                  -1  1   1991808  ultralytics.nn.modules.conv.Conv             [384, 576, 3, 2]              \n",
      "  8                  -1  2   3985920  ultralytics.nn.modules.block.C2f             [576, 576, 2, True]           \n",
      "  9                  -1  1    831168  ultralytics.nn.modules.block.SPPF            [576, 576, 5]                 \n",
      " 10                  -1  1         0  torch.nn.modules.upsampling.Upsample         [None, 2, 'nearest']          \n",
      " 11             [-1, 6]  1         0  ultralytics.nn.modules.conv.Concat           [1]                           \n",
      " 12                  -1  2   1993728  ultralytics.nn.modules.block.C2f             [960, 384, 2]                 \n",
      " 13                  -1  1         0  torch.nn.modules.upsampling.Upsample         [None, 2, 'nearest']          \n",
      " 14             [-1, 4]  1         0  ultralytics.nn.modules.conv.Concat           [1]                           \n",
      " 15                  -1  2    517632  ultralytics.nn.modules.block.C2f             [576, 192, 2]                 \n",
      " 16                  -1  1    332160  ultralytics.nn.modules.conv.Conv             [192, 192, 3, 2]              \n",
      " 17            [-1, 12]  1         0  ultralytics.nn.modules.conv.Concat           [1]                           \n",
      " 18                  -1  2   1846272  ultralytics.nn.modules.block.C2f             [576, 384, 2]                 \n",
      " 19                  -1  1   1327872  ultralytics.nn.modules.conv.Conv             [384, 384, 3, 2]              \n",
      " 20             [-1, 9]  1         0  ultralytics.nn.modules.conv.Concat           [1]                           \n",
      " 21                  -1  2   4207104  ultralytics.nn.modules.block.C2f             [960, 576, 2]                 \n",
      " 22        [15, 18, 21]  1   3777433  ultralytics.nn.modules.head.Detect           [3, [192, 384, 576]]          \n",
      "Model summary: 169 layers, 25,858,057 parameters, 25,858,041 gradients, 79.1 GFLOPs\n",
      "\n",
      "Transferred 469/475 items from pretrained weights\n",
      "Freezing layer 'model.22.dfl.conv.weight'\n",
      "\u001b[34m\u001b[1mAMP: \u001b[0mrunning Automatic Mixed Precision (AMP) checks...\n",
      "Downloading https://github.com/ultralytics/assets/releases/download/v8.3.0/yolo11n.pt to 'yolo11n.pt'...\n"
     ]
    },
    {
     "name": "stderr",
     "output_type": "stream",
     "text": [
      "100%|██████████| 5.35M/5.35M [00:00<00:00, 53.1MB/s]\n"
     ]
    },
    {
     "name": "stdout",
     "output_type": "stream",
     "text": [
      "\u001b[34m\u001b[1mAMP: \u001b[0mchecks passed ✅\n",
      "\u001b[34m\u001b[1mtrain: \u001b[0mFast image access ✅ (ping: 0.2±0.5 ms, read: 3.9±1.1 MB/s, size: 31.9 KB)\n"
     ]
    },
    {
     "name": "stderr",
     "output_type": "stream",
     "text": [
      "\u001b[34m\u001b[1mtrain: \u001b[0mScanning /kaggle/input/medical-image-dataset-brain-tumor-detection/BrainTumor/BrainTumorYolov8/train/labels... 2144 images, 0 backgrounds, 0 corrupt: 100%|██████████| 2144/2144 [00:12<00:00, 166.97it/s]\n"
     ]
    },
    {
     "name": "stdout",
     "output_type": "stream",
     "text": [
      "WARNING ⚠️ \u001b[34m\u001b[1mtrain: \u001b[0mCache directory /kaggle/input/medical-image-dataset-brain-tumor-detection/BrainTumor/BrainTumorYolov8/train is not writeable, cache not saved.\n",
      "WARNING ⚠️ Box and segment counts should be equal, but got len(segments) = 2143, len(boxes) = 2144. To resolve this only boxes will be used and all segments will be removed. To avoid this please supply either a detect or segment dataset, not a detect-segment mixed dataset.\n",
      "\u001b[34m\u001b[1malbumentations: \u001b[0mBlur(p=0.01, blur_limit=(3, 7)), MedianBlur(p=0.01, blur_limit=(3, 7)), ToGray(p=0.01, num_output_channels=3, method='weighted_average'), CLAHE(p=0.01, clip_limit=(1.0, 4.0), tile_grid_size=(8, 8))\n",
      "\u001b[34m\u001b[1mval: \u001b[0mFast image access ✅ (ping: 1.0±0.6 ms, read: 4.6±0.4 MB/s, size: 34.0 KB)\n"
     ]
    },
    {
     "name": "stderr",
     "output_type": "stream",
     "text": [
      "\u001b[34m\u001b[1mval: \u001b[0mScanning /kaggle/input/medical-image-dataset-brain-tumor-detection/BrainTumor/BrainTumorYolov8/valid/labels... 612 images, 0 backgrounds, 0 corrupt: 100%|██████████| 612/612 [00:03<00:00, 167.99it/s]"
     ]
    },
    {
     "name": "stdout",
     "output_type": "stream",
     "text": [
      "WARNING ⚠️ \u001b[34m\u001b[1mval: \u001b[0mCache directory /kaggle/input/medical-image-dataset-brain-tumor-detection/BrainTumor/BrainTumorYolov8/valid is not writeable, cache not saved.\n"
     ]
    },
    {
     "name": "stderr",
     "output_type": "stream",
     "text": [
      "\n"
     ]
    },
    {
     "name": "stdout",
     "output_type": "stream",
     "text": [
      "Plotting labels to /kaggle/working/runs/full_training/custom_exp/labels.jpg... \n",
      "\u001b[34m\u001b[1moptimizer:\u001b[0m 'optimizer=auto' found, ignoring 'lr0=0.01' and 'momentum=0.937' and determining best 'optimizer', 'lr0' and 'momentum' automatically... \n",
      "\u001b[34m\u001b[1moptimizer:\u001b[0m AdamW(lr=0.001429, momentum=0.9) with parameter groups 77 weight(decay=0.0), 84 weight(decay=0.0005), 83 bias(decay=0.0)\n",
      "Image sizes 640 train, 640 val\n",
      "Using 2 dataloader workers\n",
      "Logging results to \u001b[1m/kaggle/working/runs/full_training/custom_exp\u001b[0m\n",
      "Starting training for 50 epochs...\n",
      "\n",
      "      Epoch    GPU_mem   box_loss   cls_loss   dfl_loss  Instances       Size\n"
     ]
    },
    {
     "name": "stderr",
     "output_type": "stream",
     "text": [
      "       1/50      6.11G      1.331      2.791      1.494         31        640: 100%|██████████| 134/134 [01:06<00:00,  2.00it/s]\n",
      "                 Class     Images  Instances      Box(P          R      mAP50  mAP50-95): 100%|██████████| 20/20 [00:09<00:00,  2.10it/s]\n"
     ]
    },
    {
     "name": "stdout",
     "output_type": "stream",
     "text": [
      "                   all        612        612      0.447      0.219      0.154      0.079\n",
      "\n",
      "      Epoch    GPU_mem   box_loss   cls_loss   dfl_loss  Instances       Size\n"
     ]
    },
    {
     "name": "stderr",
     "output_type": "stream",
     "text": [
      "       2/50      7.31G      1.448      2.011      1.585         24        640: 100%|██████████| 134/134 [01:08<00:00,  1.97it/s]\n",
      "                 Class     Images  Instances      Box(P          R      mAP50  mAP50-95): 100%|██████████| 20/20 [00:08<00:00,  2.30it/s]\n"
     ]
    },
    {
     "name": "stdout",
     "output_type": "stream",
     "text": [
      "                   all        612        612      0.205      0.498      0.219      0.117\n",
      "\n",
      "      Epoch    GPU_mem   box_loss   cls_loss   dfl_loss  Instances       Size\n"
     ]
    },
    {
     "name": "stderr",
     "output_type": "stream",
     "text": [
      "       3/50      7.38G      1.436      1.917      1.576         20        640: 100%|██████████| 134/134 [01:08<00:00,  1.96it/s]\n",
      "                 Class     Images  Instances      Box(P          R      mAP50  mAP50-95): 100%|██████████| 20/20 [00:08<00:00,  2.38it/s]"
     ]
    },
    {
     "name": "stdout",
     "output_type": "stream",
     "text": [
      "                   all        612        612      0.203      0.301      0.198       0.13\n"
     ]
    },
    {
     "name": "stderr",
     "output_type": "stream",
     "text": [
      "\n"
     ]
    },
    {
     "name": "stdout",
     "output_type": "stream",
     "text": [
      "\n",
      "      Epoch    GPU_mem   box_loss   cls_loss   dfl_loss  Instances       Size\n"
     ]
    },
    {
     "name": "stderr",
     "output_type": "stream",
     "text": [
      "       4/50      6.28G       1.41      1.824      1.568         30        640: 100%|██████████| 134/134 [01:08<00:00,  1.97it/s]\n",
      "                 Class     Images  Instances      Box(P          R      mAP50  mAP50-95): 100%|██████████| 20/20 [00:08<00:00,  2.41it/s]"
     ]
    },
    {
     "name": "stdout",
     "output_type": "stream",
     "text": [
      "                   all        612        612      0.592      0.546      0.593      0.378\n"
     ]
    },
    {
     "name": "stderr",
     "output_type": "stream",
     "text": [
      "\n"
     ]
    },
    {
     "name": "stdout",
     "output_type": "stream",
     "text": [
      "\n",
      "      Epoch    GPU_mem   box_loss   cls_loss   dfl_loss  Instances       Size\n"
     ]
    },
    {
     "name": "stderr",
     "output_type": "stream",
     "text": [
      "       5/50      6.34G      1.328       1.64      1.503         25        640: 100%|██████████| 134/134 [01:08<00:00,  1.97it/s]\n",
      "                 Class     Images  Instances      Box(P          R      mAP50  mAP50-95): 100%|██████████| 20/20 [00:08<00:00,  2.40it/s]"
     ]
    },
    {
     "name": "stdout",
     "output_type": "stream",
     "text": [
      "                   all        612        612      0.586      0.481      0.506      0.325\n"
     ]
    },
    {
     "name": "stderr",
     "output_type": "stream",
     "text": [
      "\n"
     ]
    },
    {
     "name": "stdout",
     "output_type": "stream",
     "text": [
      "\n",
      "      Epoch    GPU_mem   box_loss   cls_loss   dfl_loss  Instances       Size\n"
     ]
    },
    {
     "name": "stderr",
     "output_type": "stream",
     "text": [
      "       6/50      6.89G      1.346      1.608      1.525         20        640: 100%|██████████| 134/134 [01:08<00:00,  1.97it/s]\n",
      "                 Class     Images  Instances      Box(P          R      mAP50  mAP50-95): 100%|██████████| 20/20 [00:08<00:00,  2.41it/s]"
     ]
    },
    {
     "name": "stdout",
     "output_type": "stream",
     "text": [
      "                   all        612        612      0.586      0.475      0.507      0.339\n"
     ]
    },
    {
     "name": "stderr",
     "output_type": "stream",
     "text": [
      "\n"
     ]
    },
    {
     "name": "stdout",
     "output_type": "stream",
     "text": [
      "\n",
      "      Epoch    GPU_mem   box_loss   cls_loss   dfl_loss  Instances       Size\n"
     ]
    },
    {
     "name": "stderr",
     "output_type": "stream",
     "text": [
      "       7/50      6.96G      1.319      1.552      1.498         35        640: 100%|██████████| 134/134 [01:08<00:00,  1.97it/s]\n",
      "                 Class     Images  Instances      Box(P          R      mAP50  mAP50-95): 100%|██████████| 20/20 [00:08<00:00,  2.40it/s]"
     ]
    },
    {
     "name": "stdout",
     "output_type": "stream",
     "text": [
      "                   all        612        612      0.579      0.505      0.533      0.344\n"
     ]
    },
    {
     "name": "stderr",
     "output_type": "stream",
     "text": [
      "\n"
     ]
    },
    {
     "name": "stdout",
     "output_type": "stream",
     "text": [
      "\n",
      "      Epoch    GPU_mem   box_loss   cls_loss   dfl_loss  Instances       Size\n"
     ]
    },
    {
     "name": "stderr",
     "output_type": "stream",
     "text": [
      "       8/50      7.03G      1.252      1.461       1.45         29        640: 100%|██████████| 134/134 [01:08<00:00,  1.97it/s]\n",
      "                 Class     Images  Instances      Box(P          R      mAP50  mAP50-95): 100%|██████████| 20/20 [00:08<00:00,  2.40it/s]"
     ]
    },
    {
     "name": "stdout",
     "output_type": "stream",
     "text": [
      "                   all        612        612      0.758       0.59      0.675      0.475\n"
     ]
    },
    {
     "name": "stderr",
     "output_type": "stream",
     "text": [
      "\n"
     ]
    },
    {
     "name": "stdout",
     "output_type": "stream",
     "text": [
      "\n",
      "      Epoch    GPU_mem   box_loss   cls_loss   dfl_loss  Instances       Size\n"
     ]
    },
    {
     "name": "stderr",
     "output_type": "stream",
     "text": [
      "       9/50      6.49G      1.254      1.446      1.459         23        640: 100%|██████████| 134/134 [01:08<00:00,  1.97it/s]\n",
      "                 Class     Images  Instances      Box(P          R      mAP50  mAP50-95): 100%|██████████| 20/20 [00:08<00:00,  2.40it/s]"
     ]
    },
    {
     "name": "stdout",
     "output_type": "stream",
     "text": [
      "                   all        612        612      0.735      0.707      0.755      0.527\n"
     ]
    },
    {
     "name": "stderr",
     "output_type": "stream",
     "text": [
      "\n"
     ]
    },
    {
     "name": "stdout",
     "output_type": "stream",
     "text": [
      "\n",
      "      Epoch    GPU_mem   box_loss   cls_loss   dfl_loss  Instances       Size\n"
     ]
    },
    {
     "name": "stderr",
     "output_type": "stream",
     "text": [
      "      10/50       7.3G      1.192      1.327      1.417         17        640: 100%|██████████| 134/134 [01:07<00:00,  1.97it/s]\n",
      "                 Class     Images  Instances      Box(P          R      mAP50  mAP50-95): 100%|██████████| 20/20 [00:08<00:00,  2.41it/s]"
     ]
    },
    {
     "name": "stdout",
     "output_type": "stream",
     "text": [
      "                   all        612        612      0.728      0.616      0.699      0.479\n"
     ]
    },
    {
     "name": "stderr",
     "output_type": "stream",
     "text": [
      "\n"
     ]
    },
    {
     "name": "stdout",
     "output_type": "stream",
     "text": [
      "\n",
      "      Epoch    GPU_mem   box_loss   cls_loss   dfl_loss  Instances       Size\n"
     ]
    },
    {
     "name": "stderr",
     "output_type": "stream",
     "text": [
      "      11/50      7.33G      1.213      1.332      1.441         30        640: 100%|██████████| 134/134 [01:08<00:00,  1.97it/s]\n",
      "                 Class     Images  Instances      Box(P          R      mAP50  mAP50-95): 100%|██████████| 20/20 [00:08<00:00,  2.41it/s]"
     ]
    },
    {
     "name": "stdout",
     "output_type": "stream",
     "text": [
      "                   all        612        612      0.702      0.693       0.72      0.513\n"
     ]
    },
    {
     "name": "stderr",
     "output_type": "stream",
     "text": [
      "\n"
     ]
    },
    {
     "name": "stdout",
     "output_type": "stream",
     "text": [
      "\n",
      "      Epoch    GPU_mem   box_loss   cls_loss   dfl_loss  Instances       Size\n"
     ]
    },
    {
     "name": "stderr",
     "output_type": "stream",
     "text": [
      "      12/50      7.39G      1.192      1.287       1.42         28        640: 100%|██████████| 134/134 [01:07<00:00,  1.97it/s]\n",
      "                 Class     Images  Instances      Box(P          R      mAP50  mAP50-95): 100%|██████████| 20/20 [00:08<00:00,  2.42it/s]"
     ]
    },
    {
     "name": "stdout",
     "output_type": "stream",
     "text": [
      "                   all        612        612      0.754      0.703       0.77      0.537\n"
     ]
    },
    {
     "name": "stderr",
     "output_type": "stream",
     "text": [
      "\n"
     ]
    },
    {
     "name": "stdout",
     "output_type": "stream",
     "text": [
      "\n",
      "      Epoch    GPU_mem   box_loss   cls_loss   dfl_loss  Instances       Size\n"
     ]
    },
    {
     "name": "stderr",
     "output_type": "stream",
     "text": [
      "      13/50      6.28G       1.15       1.23      1.372         28        640: 100%|██████████| 134/134 [01:07<00:00,  1.97it/s]\n",
      "                 Class     Images  Instances      Box(P          R      mAP50  mAP50-95): 100%|██████████| 20/20 [00:08<00:00,  2.42it/s]"
     ]
    },
    {
     "name": "stdout",
     "output_type": "stream",
     "text": [
      "                   all        612        612      0.749      0.755      0.795      0.579\n"
     ]
    },
    {
     "name": "stderr",
     "output_type": "stream",
     "text": [
      "\n"
     ]
    },
    {
     "name": "stdout",
     "output_type": "stream",
     "text": [
      "\n",
      "      Epoch    GPU_mem   box_loss   cls_loss   dfl_loss  Instances       Size\n"
     ]
    },
    {
     "name": "stderr",
     "output_type": "stream",
     "text": [
      "      14/50      6.83G      1.148      1.192       1.38         19        640: 100%|██████████| 134/134 [01:07<00:00,  1.97it/s]\n",
      "                 Class     Images  Instances      Box(P          R      mAP50  mAP50-95): 100%|██████████| 20/20 [00:08<00:00,  2.41it/s]"
     ]
    },
    {
     "name": "stdout",
     "output_type": "stream",
     "text": [
      "                   all        612        612      0.817       0.73      0.804      0.583\n"
     ]
    },
    {
     "name": "stderr",
     "output_type": "stream",
     "text": [
      "\n"
     ]
    },
    {
     "name": "stdout",
     "output_type": "stream",
     "text": [
      "\n",
      "      Epoch    GPU_mem   box_loss   cls_loss   dfl_loss  Instances       Size\n"
     ]
    },
    {
     "name": "stderr",
     "output_type": "stream",
     "text": [
      "      15/50       6.9G      1.123      1.164      1.373         26        640: 100%|██████████| 134/134 [01:07<00:00,  1.97it/s]\n",
      "                 Class     Images  Instances      Box(P          R      mAP50  mAP50-95): 100%|██████████| 20/20 [00:08<00:00,  2.42it/s]"
     ]
    },
    {
     "name": "stdout",
     "output_type": "stream",
     "text": [
      "                   all        612        612      0.751      0.746      0.797      0.569\n"
     ]
    },
    {
     "name": "stderr",
     "output_type": "stream",
     "text": [
      "\n"
     ]
    },
    {
     "name": "stdout",
     "output_type": "stream",
     "text": [
      "\n",
      "      Epoch    GPU_mem   box_loss   cls_loss   dfl_loss  Instances       Size\n"
     ]
    },
    {
     "name": "stderr",
     "output_type": "stream",
     "text": [
      "      16/50      6.96G      1.105      1.125      1.355         18        640: 100%|██████████| 134/134 [01:07<00:00,  1.97it/s]\n",
      "                 Class     Images  Instances      Box(P          R      mAP50  mAP50-95): 100%|██████████| 20/20 [00:08<00:00,  2.40it/s]"
     ]
    },
    {
     "name": "stdout",
     "output_type": "stream",
     "text": [
      "                   all        612        612      0.702      0.684      0.704      0.509\n"
     ]
    },
    {
     "name": "stderr",
     "output_type": "stream",
     "text": [
      "\n"
     ]
    },
    {
     "name": "stdout",
     "output_type": "stream",
     "text": [
      "\n",
      "      Epoch    GPU_mem   box_loss   cls_loss   dfl_loss  Instances       Size\n"
     ]
    },
    {
     "name": "stderr",
     "output_type": "stream",
     "text": [
      "      17/50      7.03G      1.095      1.093      1.347         20        640: 100%|██████████| 134/134 [01:07<00:00,  1.97it/s]\n",
      "                 Class     Images  Instances      Box(P          R      mAP50  mAP50-95): 100%|██████████| 20/20 [00:08<00:00,  2.41it/s]"
     ]
    },
    {
     "name": "stdout",
     "output_type": "stream",
     "text": [
      "                   all        612        612      0.716      0.697        0.7      0.497\n"
     ]
    },
    {
     "name": "stderr",
     "output_type": "stream",
     "text": [
      "\n"
     ]
    },
    {
     "name": "stdout",
     "output_type": "stream",
     "text": [
      "\n",
      "      Epoch    GPU_mem   box_loss   cls_loss   dfl_loss  Instances       Size\n"
     ]
    },
    {
     "name": "stderr",
     "output_type": "stream",
     "text": [
      "      18/50       7.1G      1.101      1.115      1.351         24        640: 100%|██████████| 134/134 [01:08<00:00,  1.97it/s]\n",
      "                 Class     Images  Instances      Box(P          R      mAP50  mAP50-95): 100%|██████████| 20/20 [00:08<00:00,  2.41it/s]"
     ]
    },
    {
     "name": "stdout",
     "output_type": "stream",
     "text": [
      "                   all        612        612       0.79      0.798      0.835      0.602\n"
     ]
    },
    {
     "name": "stderr",
     "output_type": "stream",
     "text": [
      "\n"
     ]
    },
    {
     "name": "stdout",
     "output_type": "stream",
     "text": [
      "\n",
      "      Epoch    GPU_mem   box_loss   cls_loss   dfl_loss  Instances       Size\n"
     ]
    },
    {
     "name": "stderr",
     "output_type": "stream",
     "text": [
      "      19/50      7.16G       1.06      1.036      1.327         24        640: 100%|██████████| 134/134 [01:07<00:00,  1.97it/s]\n",
      "                 Class     Images  Instances      Box(P          R      mAP50  mAP50-95): 100%|██████████| 20/20 [00:08<00:00,  2.41it/s]"
     ]
    },
    {
     "name": "stdout",
     "output_type": "stream",
     "text": [
      "                   all        612        612      0.796      0.757      0.821       0.59\n"
     ]
    },
    {
     "name": "stderr",
     "output_type": "stream",
     "text": [
      "\n"
     ]
    },
    {
     "name": "stdout",
     "output_type": "stream",
     "text": [
      "\n",
      "      Epoch    GPU_mem   box_loss   cls_loss   dfl_loss  Instances       Size\n"
     ]
    },
    {
     "name": "stderr",
     "output_type": "stream",
     "text": [
      "      20/50      7.23G      1.063      1.039      1.332         30        640: 100%|██████████| 134/134 [01:08<00:00,  1.97it/s]\n",
      "                 Class     Images  Instances      Box(P          R      mAP50  mAP50-95): 100%|██████████| 20/20 [00:08<00:00,  2.39it/s]"
     ]
    },
    {
     "name": "stdout",
     "output_type": "stream",
     "text": [
      "                   all        612        612      0.806      0.763      0.829      0.604\n"
     ]
    },
    {
     "name": "stderr",
     "output_type": "stream",
     "text": [
      "\n"
     ]
    },
    {
     "name": "stdout",
     "output_type": "stream",
     "text": [
      "\n",
      "      Epoch    GPU_mem   box_loss   cls_loss   dfl_loss  Instances       Size\n"
     ]
    },
    {
     "name": "stderr",
     "output_type": "stream",
     "text": [
      "      21/50       7.3G      1.055      1.001      1.326         28        640: 100%|██████████| 134/134 [01:07<00:00,  1.97it/s]\n",
      "                 Class     Images  Instances      Box(P          R      mAP50  mAP50-95): 100%|██████████| 20/20 [00:08<00:00,  2.42it/s]"
     ]
    },
    {
     "name": "stdout",
     "output_type": "stream",
     "text": [
      "                   all        612        612       0.82      0.807      0.851      0.627\n"
     ]
    },
    {
     "name": "stderr",
     "output_type": "stream",
     "text": [
      "\n"
     ]
    },
    {
     "name": "stdout",
     "output_type": "stream",
     "text": [
      "\n",
      "      Epoch    GPU_mem   box_loss   cls_loss   dfl_loss  Instances       Size\n"
     ]
    },
    {
     "name": "stderr",
     "output_type": "stream",
     "text": [
      "      22/50      7.37G      1.046     0.9937      1.313         29        640: 100%|██████████| 134/134 [01:07<00:00,  1.97it/s]\n",
      "                 Class     Images  Instances      Box(P          R      mAP50  mAP50-95): 100%|██████████| 20/20 [00:08<00:00,  2.41it/s]"
     ]
    },
    {
     "name": "stdout",
     "output_type": "stream",
     "text": [
      "                   all        612        612      0.804      0.773      0.843      0.622\n"
     ]
    },
    {
     "name": "stderr",
     "output_type": "stream",
     "text": [
      "\n"
     ]
    },
    {
     "name": "stdout",
     "output_type": "stream",
     "text": [
      "\n",
      "      Epoch    GPU_mem   box_loss   cls_loss   dfl_loss  Instances       Size\n"
     ]
    },
    {
     "name": "stderr",
     "output_type": "stream",
     "text": [
      "      23/50      6.56G      1.023     0.9527      1.294         20        640: 100%|██████████| 134/134 [01:08<00:00,  1.97it/s]\n",
      "                 Class     Images  Instances      Box(P          R      mAP50  mAP50-95): 100%|██████████| 20/20 [00:08<00:00,  2.41it/s]"
     ]
    },
    {
     "name": "stdout",
     "output_type": "stream",
     "text": [
      "                   all        612        612      0.799      0.795      0.848      0.602\n"
     ]
    },
    {
     "name": "stderr",
     "output_type": "stream",
     "text": [
      "\n"
     ]
    },
    {
     "name": "stdout",
     "output_type": "stream",
     "text": [
      "\n",
      "      Epoch    GPU_mem   box_loss   cls_loss   dfl_loss  Instances       Size\n"
     ]
    },
    {
     "name": "stderr",
     "output_type": "stream",
     "text": [
      "      24/50      7.37G      1.017     0.9448      1.294         20        640: 100%|██████████| 134/134 [01:08<00:00,  1.97it/s]\n",
      "                 Class     Images  Instances      Box(P          R      mAP50  mAP50-95): 100%|██████████| 20/20 [00:08<00:00,  2.41it/s]"
     ]
    },
    {
     "name": "stdout",
     "output_type": "stream",
     "text": [
      "                   all        612        612      0.828      0.785      0.847      0.618\n"
     ]
    },
    {
     "name": "stderr",
     "output_type": "stream",
     "text": [
      "\n"
     ]
    },
    {
     "name": "stdout",
     "output_type": "stream",
     "text": [
      "\n",
      "      Epoch    GPU_mem   box_loss   cls_loss   dfl_loss  Instances       Size\n"
     ]
    },
    {
     "name": "stderr",
     "output_type": "stream",
     "text": [
      "      25/50      7.37G      1.001      0.926      1.288         29        640: 100%|██████████| 134/134 [01:08<00:00,  1.97it/s]\n",
      "                 Class     Images  Instances      Box(P          R      mAP50  mAP50-95): 100%|██████████| 20/20 [00:08<00:00,  2.41it/s]"
     ]
    },
    {
     "name": "stdout",
     "output_type": "stream",
     "text": [
      "                   all        612        612      0.861       0.77      0.868      0.645\n"
     ]
    },
    {
     "name": "stderr",
     "output_type": "stream",
     "text": [
      "\n"
     ]
    },
    {
     "name": "stdout",
     "output_type": "stream",
     "text": [
      "\n",
      "      Epoch    GPU_mem   box_loss   cls_loss   dfl_loss  Instances       Size\n"
     ]
    },
    {
     "name": "stderr",
     "output_type": "stream",
     "text": [
      "      26/50       7.4G      1.005     0.8924      1.288         26        640: 100%|██████████| 134/134 [01:07<00:00,  1.97it/s]\n",
      "                 Class     Images  Instances      Box(P          R      mAP50  mAP50-95): 100%|██████████| 20/20 [00:08<00:00,  2.42it/s]"
     ]
    },
    {
     "name": "stdout",
     "output_type": "stream",
     "text": [
      "                   all        612        612      0.859      0.782       0.86      0.638\n"
     ]
    },
    {
     "name": "stderr",
     "output_type": "stream",
     "text": [
      "\n"
     ]
    },
    {
     "name": "stdout",
     "output_type": "stream",
     "text": [
      "\n",
      "      Epoch    GPU_mem   box_loss   cls_loss   dfl_loss  Instances       Size\n"
     ]
    },
    {
     "name": "stderr",
     "output_type": "stream",
     "text": [
      "      27/50      6.29G     0.9772      0.916      1.278         15        640: 100%|██████████| 134/134 [01:08<00:00,  1.97it/s]\n",
      "                 Class     Images  Instances      Box(P          R      mAP50  mAP50-95): 100%|██████████| 20/20 [00:08<00:00,  2.39it/s]"
     ]
    },
    {
     "name": "stdout",
     "output_type": "stream",
     "text": [
      "                   all        612        612      0.824      0.781      0.852      0.629\n"
     ]
    },
    {
     "name": "stderr",
     "output_type": "stream",
     "text": [
      "\n"
     ]
    },
    {
     "name": "stdout",
     "output_type": "stream",
     "text": [
      "\n",
      "      Epoch    GPU_mem   box_loss   cls_loss   dfl_loss  Instances       Size\n"
     ]
    },
    {
     "name": "stderr",
     "output_type": "stream",
     "text": [
      "      28/50      6.35G     0.9585     0.8505      1.243         23        640: 100%|██████████| 134/134 [01:07<00:00,  1.97it/s]\n",
      "                 Class     Images  Instances      Box(P          R      mAP50  mAP50-95): 100%|██████████| 20/20 [00:08<00:00,  2.42it/s]"
     ]
    },
    {
     "name": "stdout",
     "output_type": "stream",
     "text": [
      "                   all        612        612      0.854      0.831      0.887      0.647\n"
     ]
    },
    {
     "name": "stderr",
     "output_type": "stream",
     "text": [
      "\n"
     ]
    },
    {
     "name": "stdout",
     "output_type": "stream",
     "text": [
      "\n",
      "      Epoch    GPU_mem   box_loss   cls_loss   dfl_loss  Instances       Size\n"
     ]
    },
    {
     "name": "stderr",
     "output_type": "stream",
     "text": [
      "      29/50      6.91G     0.9453     0.8256      1.229         21        640: 100%|██████████| 134/134 [01:08<00:00,  1.97it/s]\n",
      "                 Class     Images  Instances      Box(P          R      mAP50  mAP50-95): 100%|██████████| 20/20 [00:08<00:00,  2.41it/s]"
     ]
    },
    {
     "name": "stdout",
     "output_type": "stream",
     "text": [
      "                   all        612        612      0.871      0.795      0.869      0.647\n"
     ]
    },
    {
     "name": "stderr",
     "output_type": "stream",
     "text": [
      "\n"
     ]
    },
    {
     "name": "stdout",
     "output_type": "stream",
     "text": [
      "\n",
      "      Epoch    GPU_mem   box_loss   cls_loss   dfl_loss  Instances       Size\n"
     ]
    },
    {
     "name": "stderr",
     "output_type": "stream",
     "text": [
      "      30/50      6.97G       0.97     0.8654      1.277         27        640: 100%|██████████| 134/134 [01:08<00:00,  1.97it/s]\n",
      "                 Class     Images  Instances      Box(P          R      mAP50  mAP50-95): 100%|██████████| 20/20 [00:08<00:00,  2.42it/s]"
     ]
    },
    {
     "name": "stdout",
     "output_type": "stream",
     "text": [
      "                   all        612        612      0.873      0.811      0.859      0.639\n"
     ]
    },
    {
     "name": "stderr",
     "output_type": "stream",
     "text": [
      "\n"
     ]
    },
    {
     "name": "stdout",
     "output_type": "stream",
     "text": [
      "\n",
      "      Epoch    GPU_mem   box_loss   cls_loss   dfl_loss  Instances       Size\n"
     ]
    },
    {
     "name": "stderr",
     "output_type": "stream",
     "text": [
      "      31/50      7.04G     0.9463     0.8224      1.241         28        640: 100%|██████████| 134/134 [01:07<00:00,  1.97it/s]\n",
      "                 Class     Images  Instances      Box(P          R      mAP50  mAP50-95): 100%|██████████| 20/20 [00:08<00:00,  2.42it/s]"
     ]
    },
    {
     "name": "stdout",
     "output_type": "stream",
     "text": [
      "                   all        612        612       0.86      0.826      0.884      0.662\n"
     ]
    },
    {
     "name": "stderr",
     "output_type": "stream",
     "text": [
      "\n"
     ]
    },
    {
     "name": "stdout",
     "output_type": "stream",
     "text": [
      "\n",
      "      Epoch    GPU_mem   box_loss   cls_loss   dfl_loss  Instances       Size\n"
     ]
    },
    {
     "name": "stderr",
     "output_type": "stream",
     "text": [
      "      32/50      7.11G     0.9159     0.7976      1.224         28        640: 100%|██████████| 134/134 [01:07<00:00,  1.97it/s]\n",
      "                 Class     Images  Instances      Box(P          R      mAP50  mAP50-95): 100%|██████████| 20/20 [00:08<00:00,  2.41it/s]"
     ]
    },
    {
     "name": "stdout",
     "output_type": "stream",
     "text": [
      "                   all        612        612      0.836      0.839      0.885      0.656\n"
     ]
    },
    {
     "name": "stderr",
     "output_type": "stream",
     "text": [
      "\n"
     ]
    },
    {
     "name": "stdout",
     "output_type": "stream",
     "text": [
      "\n",
      "      Epoch    GPU_mem   box_loss   cls_loss   dfl_loss  Instances       Size\n"
     ]
    },
    {
     "name": "stderr",
     "output_type": "stream",
     "text": [
      "      33/50      7.17G     0.9178     0.7879      1.233         21        640: 100%|██████████| 134/134 [01:07<00:00,  1.97it/s]\n",
      "                 Class     Images  Instances      Box(P          R      mAP50  mAP50-95): 100%|██████████| 20/20 [00:08<00:00,  2.41it/s]"
     ]
    },
    {
     "name": "stdout",
     "output_type": "stream",
     "text": [
      "                   all        612        612      0.866      0.838      0.883      0.653\n"
     ]
    },
    {
     "name": "stderr",
     "output_type": "stream",
     "text": [
      "\n"
     ]
    },
    {
     "name": "stdout",
     "output_type": "stream",
     "text": [
      "\n",
      "      Epoch    GPU_mem   box_loss   cls_loss   dfl_loss  Instances       Size\n"
     ]
    },
    {
     "name": "stderr",
     "output_type": "stream",
     "text": [
      "      34/50      7.24G     0.9083     0.7538      1.221         32        640: 100%|██████████| 134/134 [01:07<00:00,  1.97it/s]\n",
      "                 Class     Images  Instances      Box(P          R      mAP50  mAP50-95): 100%|██████████| 20/20 [00:08<00:00,  2.39it/s]"
     ]
    },
    {
     "name": "stdout",
     "output_type": "stream",
     "text": [
      "                   all        612        612      0.882      0.844      0.899      0.664\n"
     ]
    },
    {
     "name": "stderr",
     "output_type": "stream",
     "text": [
      "\n"
     ]
    },
    {
     "name": "stdout",
     "output_type": "stream",
     "text": [
      "\n",
      "      Epoch    GPU_mem   box_loss   cls_loss   dfl_loss  Instances       Size\n"
     ]
    },
    {
     "name": "stderr",
     "output_type": "stream",
     "text": [
      "      35/50      7.31G     0.8991     0.7245      1.203         35        640: 100%|██████████| 134/134 [01:08<00:00,  1.97it/s]\n",
      "                 Class     Images  Instances      Box(P          R      mAP50  mAP50-95): 100%|██████████| 20/20 [00:08<00:00,  2.41it/s]"
     ]
    },
    {
     "name": "stdout",
     "output_type": "stream",
     "text": [
      "                   all        612        612      0.856      0.827      0.885      0.658\n"
     ]
    },
    {
     "name": "stderr",
     "output_type": "stream",
     "text": [
      "\n"
     ]
    },
    {
     "name": "stdout",
     "output_type": "stream",
     "text": [
      "\n",
      "      Epoch    GPU_mem   box_loss   cls_loss   dfl_loss  Instances       Size\n"
     ]
    },
    {
     "name": "stderr",
     "output_type": "stream",
     "text": [
      "      36/50      7.38G     0.8962     0.7144      1.214         25        640: 100%|██████████| 134/134 [01:08<00:00,  1.97it/s]\n",
      "                 Class     Images  Instances      Box(P          R      mAP50  mAP50-95): 100%|██████████| 20/20 [00:08<00:00,  2.42it/s]"
     ]
    },
    {
     "name": "stdout",
     "output_type": "stream",
     "text": [
      "                   all        612        612      0.862      0.847      0.883      0.645\n"
     ]
    },
    {
     "name": "stderr",
     "output_type": "stream",
     "text": [
      "\n"
     ]
    },
    {
     "name": "stdout",
     "output_type": "stream",
     "text": [
      "\n",
      "      Epoch    GPU_mem   box_loss   cls_loss   dfl_loss  Instances       Size\n"
     ]
    },
    {
     "name": "stderr",
     "output_type": "stream",
     "text": [
      "      37/50       6.4G     0.8769      0.704      1.202         20        640: 100%|██████████| 134/134 [01:07<00:00,  1.97it/s]\n",
      "                 Class     Images  Instances      Box(P          R      mAP50  mAP50-95): 100%|██████████| 20/20 [00:08<00:00,  2.44it/s]"
     ]
    },
    {
     "name": "stdout",
     "output_type": "stream",
     "text": [
      "                   all        612        612      0.856      0.841      0.887      0.654\n"
     ]
    },
    {
     "name": "stderr",
     "output_type": "stream",
     "text": [
      "\n"
     ]
    },
    {
     "name": "stdout",
     "output_type": "stream",
     "text": [
      "\n",
      "      Epoch    GPU_mem   box_loss   cls_loss   dfl_loss  Instances       Size\n"
     ]
    },
    {
     "name": "stderr",
     "output_type": "stream",
     "text": [
      "      38/50       6.4G     0.8741      0.705       1.19         31        640: 100%|██████████| 134/134 [01:08<00:00,  1.97it/s]\n",
      "                 Class     Images  Instances      Box(P          R      mAP50  mAP50-95): 100%|██████████| 20/20 [00:08<00:00,  2.43it/s]"
     ]
    },
    {
     "name": "stdout",
     "output_type": "stream",
     "text": [
      "                   all        612        612      0.901      0.852      0.903      0.663\n"
     ]
    },
    {
     "name": "stderr",
     "output_type": "stream",
     "text": [
      "\n"
     ]
    },
    {
     "name": "stdout",
     "output_type": "stream",
     "text": [
      "\n",
      "      Epoch    GPU_mem   box_loss   cls_loss   dfl_loss  Instances       Size\n"
     ]
    },
    {
     "name": "stderr",
     "output_type": "stream",
     "text": [
      "      39/50       6.9G     0.8671     0.6908      1.188         31        640: 100%|██████████| 134/134 [01:07<00:00,  1.97it/s]\n",
      "                 Class     Images  Instances      Box(P          R      mAP50  mAP50-95): 100%|██████████| 20/20 [00:08<00:00,  2.43it/s]"
     ]
    },
    {
     "name": "stdout",
     "output_type": "stream",
     "text": [
      "                   all        612        612      0.863      0.873      0.909      0.679\n"
     ]
    },
    {
     "name": "stderr",
     "output_type": "stream",
     "text": [
      "\n"
     ]
    },
    {
     "name": "stdout",
     "output_type": "stream",
     "text": [
      "\n",
      "      Epoch    GPU_mem   box_loss   cls_loss   dfl_loss  Instances       Size\n"
     ]
    },
    {
     "name": "stderr",
     "output_type": "stream",
     "text": [
      "      40/50      6.96G     0.8316     0.6371      1.173         24        640: 100%|██████████| 134/134 [01:07<00:00,  1.97it/s]\n",
      "                 Class     Images  Instances      Box(P          R      mAP50  mAP50-95): 100%|██████████| 20/20 [00:08<00:00,  2.45it/s]"
     ]
    },
    {
     "name": "stdout",
     "output_type": "stream",
     "text": [
      "                   all        612        612        0.9      0.862        0.9      0.677\n"
     ]
    },
    {
     "name": "stderr",
     "output_type": "stream",
     "text": [
      "\n"
     ]
    },
    {
     "name": "stdout",
     "output_type": "stream",
     "text": [
      "Closing dataloader mosaic\n",
      "\u001b[34m\u001b[1malbumentations: \u001b[0mBlur(p=0.01, blur_limit=(3, 7)), MedianBlur(p=0.01, blur_limit=(3, 7)), ToGray(p=0.01, num_output_channels=3, method='weighted_average'), CLAHE(p=0.01, clip_limit=(1.0, 4.0), tile_grid_size=(8, 8))\n",
      "\n",
      "      Epoch    GPU_mem   box_loss   cls_loss   dfl_loss  Instances       Size\n"
     ]
    },
    {
     "name": "stderr",
     "output_type": "stream",
     "text": [
      "      41/50      7.03G     0.7721     0.5933      1.157         16        640: 100%|██████████| 134/134 [01:08<00:00,  1.96it/s]\n",
      "                 Class     Images  Instances      Box(P          R      mAP50  mAP50-95): 100%|██████████| 20/20 [00:08<00:00,  2.43it/s]"
     ]
    },
    {
     "name": "stdout",
     "output_type": "stream",
     "text": [
      "                   all        612        612      0.892      0.844      0.903      0.675\n"
     ]
    },
    {
     "name": "stderr",
     "output_type": "stream",
     "text": [
      "\n"
     ]
    },
    {
     "name": "stdout",
     "output_type": "stream",
     "text": [
      "\n",
      "      Epoch    GPU_mem   box_loss   cls_loss   dfl_loss  Instances       Size\n"
     ]
    },
    {
     "name": "stderr",
     "output_type": "stream",
     "text": [
      "      42/50       7.1G     0.7328     0.5079      1.124         16        640: 100%|██████████| 134/134 [01:07<00:00,  1.98it/s]\n",
      "                 Class     Images  Instances      Box(P          R      mAP50  mAP50-95): 100%|██████████| 20/20 [00:08<00:00,  2.43it/s]"
     ]
    },
    {
     "name": "stdout",
     "output_type": "stream",
     "text": [
      "                   all        612        612      0.901       0.85      0.906      0.678\n"
     ]
    },
    {
     "name": "stderr",
     "output_type": "stream",
     "text": [
      "\n"
     ]
    },
    {
     "name": "stdout",
     "output_type": "stream",
     "text": [
      "\n",
      "      Epoch    GPU_mem   box_loss   cls_loss   dfl_loss  Instances       Size\n"
     ]
    },
    {
     "name": "stderr",
     "output_type": "stream",
     "text": [
      "      43/50      7.17G      0.727     0.4817      1.121         16        640: 100%|██████████| 134/134 [01:07<00:00,  1.98it/s]\n",
      "                 Class     Images  Instances      Box(P          R      mAP50  mAP50-95): 100%|██████████| 20/20 [00:08<00:00,  2.42it/s]"
     ]
    },
    {
     "name": "stdout",
     "output_type": "stream",
     "text": [
      "                   all        612        612      0.904      0.858      0.914      0.679\n"
     ]
    },
    {
     "name": "stderr",
     "output_type": "stream",
     "text": [
      "\n"
     ]
    },
    {
     "name": "stdout",
     "output_type": "stream",
     "text": [
      "\n",
      "      Epoch    GPU_mem   box_loss   cls_loss   dfl_loss  Instances       Size\n"
     ]
    },
    {
     "name": "stderr",
     "output_type": "stream",
     "text": [
      "      44/50      7.23G     0.7021      0.455      1.095         16        640: 100%|██████████| 134/134 [01:07<00:00,  1.98it/s]\n",
      "                 Class     Images  Instances      Box(P          R      mAP50  mAP50-95): 100%|██████████| 20/20 [00:08<00:00,  2.45it/s]"
     ]
    },
    {
     "name": "stdout",
     "output_type": "stream",
     "text": [
      "                   all        612        612        0.9       0.86      0.915       0.69\n"
     ]
    },
    {
     "name": "stderr",
     "output_type": "stream",
     "text": [
      "\n"
     ]
    },
    {
     "name": "stdout",
     "output_type": "stream",
     "text": [
      "\n",
      "      Epoch    GPU_mem   box_loss   cls_loss   dfl_loss  Instances       Size\n"
     ]
    },
    {
     "name": "stderr",
     "output_type": "stream",
     "text": [
      "      45/50       7.3G     0.6894     0.4505      1.089         16        640: 100%|██████████| 134/134 [01:07<00:00,  1.98it/s]\n",
      "                 Class     Images  Instances      Box(P          R      mAP50  mAP50-95): 100%|██████████| 20/20 [00:08<00:00,  2.45it/s]"
     ]
    },
    {
     "name": "stdout",
     "output_type": "stream",
     "text": [
      "                   all        612        612       0.89       0.86      0.906      0.684\n"
     ]
    },
    {
     "name": "stderr",
     "output_type": "stream",
     "text": [
      "\n"
     ]
    },
    {
     "name": "stdout",
     "output_type": "stream",
     "text": [
      "\n",
      "      Epoch    GPU_mem   box_loss   cls_loss   dfl_loss  Instances       Size\n"
     ]
    },
    {
     "name": "stderr",
     "output_type": "stream",
     "text": [
      "      46/50      7.37G     0.6832      0.435      1.094         16        640: 100%|██████████| 134/134 [01:07<00:00,  1.98it/s]\n",
      "                 Class     Images  Instances      Box(P          R      mAP50  mAP50-95): 100%|██████████| 20/20 [00:08<00:00,  2.45it/s]"
     ]
    },
    {
     "name": "stdout",
     "output_type": "stream",
     "text": [
      "                   all        612        612      0.878      0.867      0.904      0.686\n"
     ]
    },
    {
     "name": "stderr",
     "output_type": "stream",
     "text": [
      "\n"
     ]
    },
    {
     "name": "stdout",
     "output_type": "stream",
     "text": [
      "\n",
      "      Epoch    GPU_mem   box_loss   cls_loss   dfl_loss  Instances       Size\n"
     ]
    },
    {
     "name": "stderr",
     "output_type": "stream",
     "text": [
      "      47/50      6.37G     0.6587     0.4077      1.075         16        640: 100%|██████████| 134/134 [01:07<00:00,  1.98it/s]\n",
      "                 Class     Images  Instances      Box(P          R      mAP50  mAP50-95): 100%|██████████| 20/20 [00:08<00:00,  2.45it/s]"
     ]
    },
    {
     "name": "stdout",
     "output_type": "stream",
     "text": [
      "                   all        612        612      0.893      0.877      0.909      0.682\n"
     ]
    },
    {
     "name": "stderr",
     "output_type": "stream",
     "text": [
      "\n"
     ]
    },
    {
     "name": "stdout",
     "output_type": "stream",
     "text": [
      "\n",
      "      Epoch    GPU_mem   box_loss   cls_loss   dfl_loss  Instances       Size\n"
     ]
    },
    {
     "name": "stderr",
     "output_type": "stream",
     "text": [
      "      48/50      6.37G     0.6509     0.4087      1.065         16        640: 100%|██████████| 134/134 [01:07<00:00,  1.98it/s]\n",
      "                 Class     Images  Instances      Box(P          R      mAP50  mAP50-95): 100%|██████████| 20/20 [00:08<00:00,  2.46it/s]"
     ]
    },
    {
     "name": "stdout",
     "output_type": "stream",
     "text": [
      "                   all        612        612      0.894      0.862      0.909      0.687\n"
     ]
    },
    {
     "name": "stderr",
     "output_type": "stream",
     "text": [
      "\n"
     ]
    },
    {
     "name": "stdout",
     "output_type": "stream",
     "text": [
      "\n",
      "      Epoch    GPU_mem   box_loss   cls_loss   dfl_loss  Instances       Size\n"
     ]
    },
    {
     "name": "stderr",
     "output_type": "stream",
     "text": [
      "      49/50      6.85G     0.6343     0.3872       1.05         16        640: 100%|██████████| 134/134 [01:07<00:00,  1.98it/s]\n",
      "                 Class     Images  Instances      Box(P          R      mAP50  mAP50-95): 100%|██████████| 20/20 [00:08<00:00,  2.44it/s]"
     ]
    },
    {
     "name": "stdout",
     "output_type": "stream",
     "text": [
      "                   all        612        612      0.881      0.875       0.91      0.687\n"
     ]
    },
    {
     "name": "stderr",
     "output_type": "stream",
     "text": [
      "\n"
     ]
    },
    {
     "name": "stdout",
     "output_type": "stream",
     "text": [
      "\n",
      "      Epoch    GPU_mem   box_loss   cls_loss   dfl_loss  Instances       Size\n"
     ]
    },
    {
     "name": "stderr",
     "output_type": "stream",
     "text": [
      "      50/50      6.86G     0.6311      0.384      1.048         16        640: 100%|██████████| 134/134 [01:07<00:00,  1.98it/s]\n",
      "                 Class     Images  Instances      Box(P          R      mAP50  mAP50-95): 100%|██████████| 20/20 [00:08<00:00,  2.44it/s]"
     ]
    },
    {
     "name": "stdout",
     "output_type": "stream",
     "text": [
      "                   all        612        612      0.908      0.865      0.914      0.692\n"
     ]
    },
    {
     "name": "stderr",
     "output_type": "stream",
     "text": [
      "\n"
     ]
    },
    {
     "name": "stdout",
     "output_type": "stream",
     "text": [
      "\n",
      "50 epochs completed in 1.073 hours.\n",
      "Optimizer stripped from /kaggle/working/runs/full_training/custom_exp/weights/last.pt, 52.0MB\n",
      "Optimizer stripped from /kaggle/working/runs/full_training/custom_exp/weights/best.pt, 52.0MB\n",
      "\n",
      "Validating /kaggle/working/runs/full_training/custom_exp/weights/best.pt...\n",
      "Ultralytics 8.3.154 🚀 Python-3.11.11 torch-2.6.0+cu124 CUDA:0 (Tesla T4, 15095MiB)\n",
      "Model summary (fused): 92 layers, 25,841,497 parameters, 0 gradients, 78.7 GFLOPs\n"
     ]
    },
    {
     "name": "stderr",
     "output_type": "stream",
     "text": [
      "                 Class     Images  Instances      Box(P          R      mAP50  mAP50-95): 100%|██████████| 20/20 [00:08<00:00,  2.30it/s]\n",
      "/usr/local/lib/python3.11/dist-packages/matplotlib/colors.py:721: RuntimeWarning: invalid value encountered in less\n",
      "  xa[xa < 0] = -1\n",
      "/usr/local/lib/python3.11/dist-packages/matplotlib/colors.py:721: RuntimeWarning: invalid value encountered in less\n",
      "  xa[xa < 0] = -1\n"
     ]
    },
    {
     "name": "stdout",
     "output_type": "stream",
     "text": [
      "                   all        612        612      0.908      0.865      0.914      0.692\n",
      "                glioma        285        285      0.826       0.74      0.812      0.524\n",
      "            meningioma        142        142      0.956      0.918      0.973      0.816\n",
      "             pituitary        185        185      0.941      0.935      0.955      0.735\n",
      "Speed: 0.2ms preprocess, 10.1ms inference, 0.0ms loss, 1.3ms postprocess per image\n",
      "Results saved to \u001b[1m/kaggle/working/runs/full_training/custom_exp\u001b[0m\n"
     ]
    }
   ],
   "source": [
    "def train_model():\n",
    "    model = YOLO('yolov8m.pt')         # We can also try yolov8n.pt, yolov8s.pt, yolov8l.pt, etc.\n",
    "\n",
    "    model.train(\n",
    "        \n",
    "        data='data.yaml',\n",
    "        epochs = 50,                   # initially trained model with epoch = 1 \n",
    "        imgsz = 640,                   # image size\n",
    "        batch = 16,                    # default batch size for full training \n",
    "        # fraction = 0.05,              # Initially trained on 5% of dataset for training\n",
    "        project='/kaggle/working/runs/full_training',\n",
    "        name='custom_exp',             # This will create: /kaggle/working/runs/train/custom_exp/\n",
    "    )\n",
    "\n",
    "if __name__ == \"__main__\":\n",
    "    train_model()"
   ]
  },
  {
   "cell_type": "markdown",
   "metadata": {},
   "source": [
    "## Plotting Precision, Recall & mAP"
   ]
  },
  {
   "cell_type": "code",
   "execution_count": 13,
   "metadata": {
    "execution": {
     "iopub.execute_input": "2025-06-13T05:19:34.718302Z",
     "iopub.status.busy": "2025-06-13T05:19:34.718023Z",
     "iopub.status.idle": "2025-06-13T05:19:35.000799Z",
     "shell.execute_reply": "2025-06-13T05:19:35.000181Z",
     "shell.execute_reply.started": "2025-06-13T05:19:34.718282Z"
    }
   },
   "outputs": [],
   "source": [
    "import pandas as pd\n",
    "import matplotlib.pyplot as plt"
   ]
  },
  {
   "cell_type": "code",
   "execution_count": null,
   "metadata": {},
   "outputs": [],
   "source": [
    "results_path = '/kaggle/working/runs/full_training/custom_exp/results.csv'\n",
    "df = pd.read_csv(results_path)\n",
    "\n",
    "# Printing column names to see the exact format\n",
    "print(df.columns.tolist())"
   ]
  },
  {
   "cell_type": "code",
   "execution_count": 10,
   "metadata": {
    "execution": {
     "iopub.execute_input": "2025-06-13T04:22:19.690012Z",
     "iopub.status.busy": "2025-06-13T04:22:19.689451Z",
     "iopub.status.idle": "2025-06-13T04:22:19.933596Z",
     "shell.execute_reply": "2025-06-13T04:22:19.932845Z",
     "shell.execute_reply.started": "2025-06-13T04:22:19.689988Z"
    }
   },
   "outputs": [
    {
     "data": {
      "image/png": "[encoded data removed]",
      "text/plain": [
       "<Figure size 1200x600 with 1 Axes>"
      ]
     },
     "metadata": {},
     "output_type": "display_data"
    }
   ],
   "source": [
    "results_path = '/kaggle/working/runs/full_training/custom_exp/results.csv'\n",
    "df = pd.read_csv(results_path)\n",
    "\n",
    "# Plot key training metrics\n",
    "plt.figure(figsize=(12, 6))\n",
    "plt.plot(df['metrics/precision(B)'], label='Precision')\n",
    "plt.plot(df['metrics/recall(B)'], label='Recall')\n",
    "plt.plot(df['metrics/mAP50(B)'], label='mAP@0.5')\n",
    "plt.plot(df['metrics/mAP50-95(B)'], label='mAP@0.5:0.95')\n",
    "plt.xlabel('Epoch')\n",
    "plt.ylabel('Score')\n",
    "plt.title('YOLOv8m Training Metrics Over Epochs')\n",
    "plt.legend()\n",
    "plt.grid(True)\n",
    "plt.tight_layout()\n",
    "\n",
    "plt.show()"
   ]
  },
  {
   "cell_type": "markdown",
   "metadata": {},
   "source": [
    "## Splitting each metric into its own subplot"
   ]
  },
  {
   "cell_type": "code",
   "execution_count": 12,
   "metadata": {
    "execution": {
     "iopub.execute_input": "2025-06-13T04:23:18.261916Z",
     "iopub.status.busy": "2025-06-13T04:23:18.261610Z",
     "iopub.status.idle": "2025-06-13T04:23:18.965249Z",
     "shell.execute_reply": "2025-06-13T04:23:18.964350Z",
     "shell.execute_reply.started": "2025-06-13T04:23:18.261895Z"
    }
   },
   "outputs": [
    {
     "data": {
      "image/png": "[encoded data removed]",
      "text/plain": [
       "<Figure size 1400x1000 with 4 Axes>"
      ]
     },
     "metadata": {},
     "output_type": "display_data"
    }
   ],
   "source": [
    "fig, axes = plt.subplots(2, 2, figsize=(14, 10))\n",
    "\n",
    "# Actual column names\n",
    "metrics = ['metrics/precision(B)', 'metrics/recall(B)', 'metrics/mAP50(B)', 'metrics/mAP50-95(B)']\n",
    "titles = ['Precision', 'Recall', 'mAP@0.5', 'mAP@0.5:0.95']\n",
    "colors = ['tab:blue', 'tab:green', 'tab:orange', 'tab:red']  # You can customize these\n",
    "\n",
    "# Plotting each metric with a different color\n",
    "for ax, metric, title, color in zip(axes.flat, metrics, titles, colors):\n",
    "    ax.plot(df[metric], color=color)\n",
    "    ax.set_title(title)\n",
    "    ax.set_xlabel('Epoch')\n",
    "    ax.set_ylabel('Score')\n",
    "    ax.grid(True)\n",
    "\n",
    "plt.tight_layout()\n",
    "plt.show()"
   ]
  },
  {
   "cell_type": "markdown",
   "metadata": {},
   "source": [
    "## Confusion Matrix"
   ]
  },
  {
   "cell_type": "code",
   "execution_count": 15,
   "metadata": {
    "execution": {
     "iopub.execute_input": "2025-06-13T04:27:01.750400Z",
     "iopub.status.busy": "2025-06-13T04:27:01.750060Z",
     "iopub.status.idle": "2025-06-13T04:27:22.268842Z",
     "shell.execute_reply": "2025-06-13T04:27:22.268079Z",
     "shell.execute_reply.started": "2025-06-13T04:27:01.750375Z"
    }
   },
   "outputs": [
    {
     "name": "stdout",
     "output_type": "stream",
     "text": [
      "Ultralytics 8.3.154 🚀 Python-3.11.11 torch-2.6.0+cu124 CUDA:0 (Tesla T4, 15095MiB)\n",
      "Model summary (fused): 92 layers, 25,841,497 parameters, 0 gradients, 78.7 GFLOPs\n",
      "\u001b[34m\u001b[1mval: \u001b[0mFast image access ✅ (ping: 0.7±0.6 ms, read: 26.4±2.9 MB/s, size: 32.4 KB)\n"
     ]
    },
    {
     "name": "stderr",
     "output_type": "stream",
     "text": [
      "\u001b[34m\u001b[1mval: \u001b[0mScanning /kaggle/input/medical-image-dataset-brain-tumor-detection/BrainTumor/BrainTumorYolov8/valid/labels... 612 images, 0 backgrounds, 0 corrupt: 100%|██████████| 612/612 [00:01<00:00, 523.83it/s]"
     ]
    },
    {
     "name": "stdout",
     "output_type": "stream",
     "text": [
      "WARNING ⚠️ \u001b[34m\u001b[1mval: \u001b[0mCache directory /kaggle/input/medical-image-dataset-brain-tumor-detection/BrainTumor/BrainTumorYolov8/valid is not writeable, cache not saved.\n"
     ]
    },
    {
     "name": "stderr",
     "output_type": "stream",
     "text": [
      "\n",
      "                 Class     Images  Instances      Box(P          R      mAP50  mAP50-95): 100%|██████████| 39/39 [00:15<00:00,  2.45it/s]\n",
      "/usr/local/lib/python3.11/dist-packages/matplotlib/colors.py:721: RuntimeWarning: invalid value encountered in less\n",
      "  xa[xa < 0] = -1\n",
      "/usr/local/lib/python3.11/dist-packages/matplotlib/colors.py:721: RuntimeWarning: invalid value encountered in less\n",
      "  xa[xa < 0] = -1\n"
     ]
    },
    {
     "name": "stdout",
     "output_type": "stream",
     "text": [
      "                   all        612        612      0.908      0.865      0.914      0.693\n",
      "                glioma        285        285      0.826       0.74      0.812      0.525\n",
      "            meningioma        142        142      0.956      0.919      0.973      0.818\n",
      "             pituitary        185        185      0.942      0.935      0.955      0.736\n",
      "Speed: 0.7ms preprocess, 21.7ms inference, 0.0ms loss, 0.7ms postprocess per image\n",
      "Results saved to \u001b[1mruns/detect/val2\u001b[0m\n"
     ]
    },
    {
     "data": {
      "image/png": "[encoded data removed]",
      "text/plain": [
       "<Figure size 800x600 with 2 Axes>"
      ]
     },
     "metadata": {},
     "output_type": "display_data"
    }
   ],
   "source": [
    "from ultralytics import YOLO\n",
    "import seaborn as sns\n",
    "import matplotlib.pyplot as plt\n",
    "import numpy as np\n",
    "\n",
    "# Load trained model\n",
    "model = YOLO('/kaggle/working/runs/full_training/custom_exp/weights/best.pt')\n",
    "\n",
    "# Run validation\n",
    "results = model.val()\n",
    "\n",
    "# Ensure confusion matrix exists\n",
    "if hasattr(results, 'confusion_matrix') and results.confusion_matrix is not None:\n",
    "    cm = results.confusion_matrix.matrix\n",
    "\n",
    "    # YOLO might include background class (no tumor) as 4th class\n",
    "    class_names = ['glioma', 'meningioma', 'pituitary', 'no tumor']\n",
    "\n",
    "    # Ensure it's a numpy array of integers\n",
    "    cm = np.array(cm).astype(int)\n",
    "\n",
    "    # Plot\n",
    "    plt.figure(figsize=(8, 6))\n",
    "    sns.heatmap(cm, annot=True, fmt='d', cmap='Blues',\n",
    "                xticklabels=class_names, yticklabels=class_names)\n",
    "    plt.xlabel('Predicted')\n",
    "    plt.ylabel('Actual')\n",
    "    plt.title('Confusion Matrix')\n",
    "    plt.tight_layout()\n",
    "    plt.show()\n",
    "else:\n",
    "    print(\"Confusion matrix not available. Make sure the model has been validated correctly.\")"
   ]
  },
  {
   "cell_type": "markdown",
   "metadata": {},
   "source": [
    "## Detection"
   ]
  },
  {
   "cell_type": "code",
   "execution_count": null,
   "metadata": {
    "execution": {
     "iopub.execute_input": "2025-06-13T05:27:29.337360Z",
     "iopub.status.busy": "2025-06-13T05:27:29.337073Z",
     "iopub.status.idle": "2025-06-13T05:27:35.288861Z",
     "shell.execute_reply": "2025-06-13T05:27:35.288035Z",
     "shell.execute_reply.started": "2025-06-13T05:27:29.337334Z"
    }
   },
   "outputs": [],
   "source": [
    "import os\n",
    "from ultralytics import YOLO"
   ]
  },
  {
   "cell_type": "code",
   "execution_count": null,
   "metadata": {
    "execution": {
     "iopub.execute_input": "2025-06-13T05:36:04.078440Z",
     "iopub.status.busy": "2025-06-13T05:36:04.077655Z",
     "iopub.status.idle": "2025-06-13T05:36:14.057900Z",
     "shell.execute_reply": "2025-06-13T05:36:14.057330Z",
     "shell.execute_reply.started": "2025-06-13T05:36:04.078415Z"
    }
   },
   "outputs": [
    {
     "name": "stdout",
     "output_type": "stream",
     "text": [
      "\n",
      "image 1/308 /kaggle/input/medical-image-dataset-brain-tumor-detection/BrainTumor/BrainTumorYolov8/test/images/1003_jpg.rf.028d6d76fba92dd9e5dc59dc9d0f7293.jpg: 640x640 1 pituitary, 36.9ms\n",
      "image 2/308 /kaggle/input/medical-image-dataset-brain-tumor-detection/BrainTumor/BrainTumorYolov8/test/images/1012_jpg.rf.a9d8d27f5e1d382e0b93ff4a479f4519.jpg: 640x640 1 pituitary, 35.5ms\n",
      "image 3/308 /kaggle/input/medical-image-dataset-brain-tumor-detection/BrainTumor/BrainTumorYolov8/test/images/1018_jpg.rf.29ed2fb6754ca58ae27204ef24344650.jpg: 640x640 1 pituitary, 35.3ms\n",
      "image 4/308 /kaggle/input/medical-image-dataset-brain-tumor-detection/BrainTumor/BrainTumorYolov8/test/images/102_jpg.rf.e58e0fc30dfea3a7a410d7b901223f16.jpg: 640x640 1 meningioma, 35.3ms\n",
      "image 5/308 /kaggle/input/medical-image-dataset-brain-tumor-detection/BrainTumor/BrainTumorYolov8/test/images/1033_jpg.rf.1b4c0f5bdf30ec0ba218874a3a737720.jpg: 640x640 1 pituitary, 35.3ms\n",
      "image 6/308 /kaggle/input/medical-image-dataset-brain-tumor-detection/BrainTumor/BrainTumorYolov8/test/images/1037_jpg.rf.7c415f051556bbba83bc00f70fe54818.jpg: 640x640 1 pituitary, 31.4ms\n",
      "image 7/308 /kaggle/input/medical-image-dataset-brain-tumor-detection/BrainTumor/BrainTumorYolov8/test/images/1041_jpg.rf.252e75e8f025b79f801db895122613d3.jpg: 640x640 1 pituitary, 20.4ms\n",
      "image 8/308 /kaggle/input/medical-image-dataset-brain-tumor-detection/BrainTumor/BrainTumorYolov8/test/images/1046_jpg.rf.26dd526422308d6d9e989d3308a9ee03.jpg: 640x640 1 pituitary, 21.1ms\n",
      "image 9/308 /kaggle/input/medical-image-dataset-brain-tumor-detection/BrainTumor/BrainTumorYolov8/test/images/104_jpg.rf.e74d25768eb80e77624670d6bc966b81.jpg: 640x640 1 meningioma, 21.3ms\n",
      "image 10/308 /kaggle/input/medical-image-dataset-brain-tumor-detection/BrainTumor/BrainTumorYolov8/test/images/1058_jpg.rf.a8d95af23ed6b011705441ef351c1f73.jpg: 640x640 (no detections), 20.3ms\n",
      "image 11/308 /kaggle/input/medical-image-dataset-brain-tumor-detection/BrainTumor/BrainTumorYolov8/test/images/1072_jpg.rf.e116d0d5edd77ef8dc6867dc9813b964.jpg: 640x640 1 pituitary, 21.6ms\n",
      "image 12/308 /kaggle/input/medical-image-dataset-brain-tumor-detection/BrainTumor/BrainTumorYolov8/test/images/1077_jpg.rf.db5d4838f58af179937c0d9bb7bceb82.jpg: 640x640 1 pituitary, 20.1ms\n",
      "image 13/308 /kaggle/input/medical-image-dataset-brain-tumor-detection/BrainTumor/BrainTumorYolov8/test/images/1083_jpg.rf.daf08bfc8ac851e42c0459c9ce165323.jpg: 640x640 1 pituitary, 22.7ms\n",
      "image 14/308 /kaggle/input/medical-image-dataset-brain-tumor-detection/BrainTumor/BrainTumorYolov8/test/images/1087_jpg.rf.11aea0eb9fc21920ffd9adc7f86be8a5.jpg: 640x640 (no detections), 22.7ms\n",
      "image 15/308 /kaggle/input/medical-image-dataset-brain-tumor-detection/BrainTumor/BrainTumorYolov8/test/images/1090_jpg.rf.49e77ec069279939ebd855ac1f14912c.jpg: 640x640 1 pituitary, 22.7ms\n",
      "image 16/308 /kaggle/input/medical-image-dataset-brain-tumor-detection/BrainTumor/BrainTumorYolov8/test/images/1091_jpg.rf.5308c91865f1e3a19de6936a0d295339.jpg: 640x640 1 pituitary, 21.7ms\n",
      "image 17/308 /kaggle/input/medical-image-dataset-brain-tumor-detection/BrainTumor/BrainTumorYolov8/test/images/10_jpg.rf.efaf1af26de11dabdda3214f4457c931.jpg: 640x640 1 meningioma, 22.1ms\n",
      "image 18/308 /kaggle/input/medical-image-dataset-brain-tumor-detection/BrainTumor/BrainTumorYolov8/test/images/1122_jpg.rf.e5b7d9dd059312db750f9a9574ab9cf2.jpg: 640x640 (no detections), 20.3ms\n",
      "image 19/308 /kaggle/input/medical-image-dataset-brain-tumor-detection/BrainTumor/BrainTumorYolov8/test/images/1125_jpg.rf.82a5cbb71e2dc11bb6227afeaf7eada8.jpg: 640x640 1 pituitary, 22.7ms\n",
      "image 20/308 /kaggle/input/medical-image-dataset-brain-tumor-detection/BrainTumor/BrainTumorYolov8/test/images/1157_jpg.rf.034c9ffcd15fd9a89a3af651dabfeb67.jpg: 640x640 1 pituitary, 21.2ms\n",
      "image 21/308 /kaggle/input/medical-image-dataset-brain-tumor-detection/BrainTumor/BrainTumorYolov8/test/images/1164_jpg.rf.2d69d2534cff1bce9e8f3a96de7e3195.jpg: 640x640 1 pituitary, 22.7ms\n",
      "image 22/308 /kaggle/input/medical-image-dataset-brain-tumor-detection/BrainTumor/BrainTumorYolov8/test/images/1177_jpg.rf.ad059478ecfb84cd3daad08e6c40646f.jpg: 640x640 1 pituitary, 20.8ms\n",
      "image 23/308 /kaggle/input/medical-image-dataset-brain-tumor-detection/BrainTumor/BrainTumorYolov8/test/images/1178_jpg.rf.05e49b5e0a7310cbbdecc37e48153491.jpg: 640x640 1 pituitary, 21.5ms\n",
      "image 24/308 /kaggle/input/medical-image-dataset-brain-tumor-detection/BrainTumor/BrainTumorYolov8/test/images/1186_jpg.rf.b37c183c5d9541bde71a0f147073edcb.jpg: 640x640 1 pituitary, 21.1ms\n",
      "image 25/308 /kaggle/input/medical-image-dataset-brain-tumor-detection/BrainTumor/BrainTumorYolov8/test/images/1188_jpg.rf.ba278053ab4d8aed98dc19ce2aee4e5e.jpg: 640x640 1 pituitary, 21.1ms\n",
      "image 26/308 /kaggle/input/medical-image-dataset-brain-tumor-detection/BrainTumor/BrainTumorYolov8/test/images/1209_jpg.rf.5197fbf7b3d5d06ad469e24df07b3e4e.jpg: 640x640 1 pituitary, 21.8ms\n",
      "image 27/308 /kaggle/input/medical-image-dataset-brain-tumor-detection/BrainTumor/BrainTumorYolov8/test/images/1231_jpg.rf.ff2478caf59fb9b4e63ae6190608b1eb.jpg: 640x640 1 pituitary, 20.6ms\n",
      "image 28/308 /kaggle/input/medical-image-dataset-brain-tumor-detection/BrainTumor/BrainTumorYolov8/test/images/125_jpg.rf.4967795739a86b7885115d2ba13c98cc.jpg: 640x640 1 meningioma, 22.5ms\n",
      "image 29/308 /kaggle/input/medical-image-dataset-brain-tumor-detection/BrainTumor/BrainTumorYolov8/test/images/1270_jpg.rf.b59f6d8cdace875bcf9e211aeaedc570.jpg: 640x640 1 pituitary, 20.8ms\n",
      "image 30/308 /kaggle/input/medical-image-dataset-brain-tumor-detection/BrainTumor/BrainTumorYolov8/test/images/1274_jpg.rf.791d7f528473a46e7cb8ef31b8a585cc.jpg: 640x640 1 pituitary, 22.1ms\n",
      "image 31/308 /kaggle/input/medical-image-dataset-brain-tumor-detection/BrainTumor/BrainTumorYolov8/test/images/1275_jpg.rf.099b1fbe3e7c996412b34c679330289d.jpg: 640x640 1 pituitary, 20.2ms\n",
      "image 32/308 /kaggle/input/medical-image-dataset-brain-tumor-detection/BrainTumor/BrainTumorYolov8/test/images/1284_jpg.rf.a1575f88de4a845442dcd7ac7c7ff607.jpg: 640x640 1 pituitary, 22.5ms\n",
      "image 33/308 /kaggle/input/medical-image-dataset-brain-tumor-detection/BrainTumor/BrainTumorYolov8/test/images/1285_jpg.rf.d5f52bd729b738690f1a30c95bd34bb8.jpg: 640x640 1 pituitary, 20.3ms\n",
      "image 34/308 /kaggle/input/medical-image-dataset-brain-tumor-detection/BrainTumor/BrainTumorYolov8/test/images/130_jpg.rf.f26fbad203da20d0a9c229b7ecbea70d.jpg: 640x640 1 meningioma, 22.6ms\n",
      "image 35/308 /kaggle/input/medical-image-dataset-brain-tumor-detection/BrainTumor/BrainTumorYolov8/test/images/1311_jpg.rf.3c072180d36416037748e0147ee0ad2a.jpg: 640x640 1 pituitary, 20.4ms\n",
      "image 36/308 /kaggle/input/medical-image-dataset-brain-tumor-detection/BrainTumor/BrainTumorYolov8/test/images/1340_jpg.rf.42969e05e60cdacfba091ff9a0e709e0.jpg: 640x640 1 pituitary, 22.1ms\n",
      "image 37/308 /kaggle/input/medical-image-dataset-brain-tumor-detection/BrainTumor/BrainTumorYolov8/test/images/1341_jpg.rf.30e1b2a6fab5123e075bee034679f782.jpg: 640x640 1 pituitary, 20.4ms\n",
      "image 38/308 /kaggle/input/medical-image-dataset-brain-tumor-detection/BrainTumor/BrainTumorYolov8/test/images/1342_jpg.rf.d282167faddbd34230fe5dd2e536e7c5.jpg: 640x640 1 pituitary, 21.4ms\n",
      "image 39/308 /kaggle/input/medical-image-dataset-brain-tumor-detection/BrainTumor/BrainTumorYolov8/test/images/1343_jpg.rf.dd4963fa0550386236d4b93228a3a68a.jpg: 640x640 2 pituitarys, 20.9ms\n",
      "image 40/308 /kaggle/input/medical-image-dataset-brain-tumor-detection/BrainTumor/BrainTumorYolov8/test/images/1344_jpg.rf.6570648282314bc21a98981bce45470f.jpg: 640x640 1 pituitary, 21.2ms\n",
      "image 41/308 /kaggle/input/medical-image-dataset-brain-tumor-detection/BrainTumor/BrainTumorYolov8/test/images/1345_jpg.rf.6255653d1564fe44df7c20bd902c511d.jpg: 640x640 1 pituitary, 19.6ms\n",
      "image 42/308 /kaggle/input/medical-image-dataset-brain-tumor-detection/BrainTumor/BrainTumorYolov8/test/images/1366_jpg.rf.756efab321007f8f79a6b703b3459666.jpg: 640x640 1 pituitary, 19.0ms\n",
      "image 43/308 /kaggle/input/medical-image-dataset-brain-tumor-detection/BrainTumor/BrainTumorYolov8/test/images/1375_jpg.rf.5eb2ef2766a902b1d7bd104962179133.jpg: 640x640 1 pituitary, 20.3ms\n",
      "image 44/308 /kaggle/input/medical-image-dataset-brain-tumor-detection/BrainTumor/BrainTumorYolov8/test/images/1380_jpg.rf.7372dde3f2ee930065ba529b019f29ee.jpg: 640x640 (no detections), 21.8ms\n",
      "image 45/308 /kaggle/input/medical-image-dataset-brain-tumor-detection/BrainTumor/BrainTumorYolov8/test/images/1396_jpg.rf.d60b91690a7b887309eda8226986764f.jpg: 640x640 1 pituitary, 20.7ms\n",
      "image 46/308 /kaggle/input/medical-image-dataset-brain-tumor-detection/BrainTumor/BrainTumorYolov8/test/images/1432_jpg.rf.4421cea6f83014485c4b6bf5aafdbd86.jpg: 640x640 1 pituitary, 22.0ms\n",
      "image 47/308 /kaggle/input/medical-image-dataset-brain-tumor-detection/BrainTumor/BrainTumorYolov8/test/images/1448_jpg.rf.ebbe903a8899de9dc1ba86746832d6b9.jpg: 640x640 1 pituitary, 21.8ms\n",
      "image 48/308 /kaggle/input/medical-image-dataset-brain-tumor-detection/BrainTumor/BrainTumorYolov8/test/images/1472_jpg.rf.da7f6b7f46ef5201e48e90352e01f091.jpg: 640x640 1 pituitary, 21.8ms\n",
      "image 49/308 /kaggle/input/medical-image-dataset-brain-tumor-detection/BrainTumor/BrainTumorYolov8/test/images/1486_jpg.rf.26fcb96c6107adc6407aefd932df5c9a.jpg: 640x640 1 pituitary, 21.1ms\n",
      "image 50/308 /kaggle/input/medical-image-dataset-brain-tumor-detection/BrainTumor/BrainTumorYolov8/test/images/149_jpg.rf.9bb4fe987674ac37bfa59046107461b2.jpg: 640x640 1 meningioma, 22.6ms\n",
      "image 51/308 /kaggle/input/medical-image-dataset-brain-tumor-detection/BrainTumor/BrainTumorYolov8/test/images/1502_jpg.rf.545511fbefa8e14cdb8602a8bb4e59df.jpg: 640x640 1 pituitary, 20.5ms\n",
      "image 52/308 /kaggle/input/medical-image-dataset-brain-tumor-detection/BrainTumor/BrainTumorYolov8/test/images/1503_jpg.rf.afdac19b2e1b747a03fe761bfbab2460.jpg: 640x640 1 pituitary, 22.2ms\n",
      "image 53/308 /kaggle/input/medical-image-dataset-brain-tumor-detection/BrainTumor/BrainTumorYolov8/test/images/1511_jpg.rf.f149f5d409cca5df3f6c90f716e81244.jpg: 640x640 1 pituitary, 20.5ms\n",
      "image 54/308 /kaggle/input/medical-image-dataset-brain-tumor-detection/BrainTumor/BrainTumorYolov8/test/images/152_jpg.rf.35dd89fd16486f808549e0bcf0d73ef7.jpg: 640x640 1 meningioma, 22.2ms\n",
      "image 55/308 /kaggle/input/medical-image-dataset-brain-tumor-detection/BrainTumor/BrainTumorYolov8/test/images/1538_jpg.rf.ca397a75212020ed5e7bccf80c961bdc.jpg: 640x640 1 pituitary, 20.8ms\n",
      "image 56/308 /kaggle/input/medical-image-dataset-brain-tumor-detection/BrainTumor/BrainTumorYolov8/test/images/1564_jpg.rf.c1e0dd340ba5960fc13e374a8ef4b7d5.jpg: 640x640 1 pituitary, 21.8ms\n",
      "image 57/308 /kaggle/input/medical-image-dataset-brain-tumor-detection/BrainTumor/BrainTumorYolov8/test/images/1573_jpg.rf.c0e0d5f3655f6599102567826357a165.jpg: 640x640 1 meningioma, 20.7ms\n",
      "image 58/308 /kaggle/input/medical-image-dataset-brain-tumor-detection/BrainTumor/BrainTumorYolov8/test/images/1574_jpg.rf.83351ec0ad0f1f757b237e6c5e02ba68.jpg: 640x640 1 pituitary, 21.6ms\n",
      "image 59/308 /kaggle/input/medical-image-dataset-brain-tumor-detection/BrainTumor/BrainTumorYolov8/test/images/1583_jpg.rf.ea41474e5ffc139718847dffa4d8c2ee.jpg: 640x640 1 pituitary, 21.5ms\n",
      "image 60/308 /kaggle/input/medical-image-dataset-brain-tumor-detection/BrainTumor/BrainTumorYolov8/test/images/1587_jpg.rf.4e84e06636473a2dc2b2ee1614b30c25.jpg: 640x640 1 pituitary, 21.5ms\n",
      "image 61/308 /kaggle/input/medical-image-dataset-brain-tumor-detection/BrainTumor/BrainTumorYolov8/test/images/160_jpg.rf.f96cc2737510a6bd2accd1f972ab4af2.jpg: 640x640 1 meningioma, 21.3ms\n",
      "image 62/308 /kaggle/input/medical-image-dataset-brain-tumor-detection/BrainTumor/BrainTumorYolov8/test/images/1613_jpg.rf.5c882491aaca86b0516aa62579385aaa.jpg: 640x640 1 pituitary, 21.2ms\n",
      "image 63/308 /kaggle/input/medical-image-dataset-brain-tumor-detection/BrainTumor/BrainTumorYolov8/test/images/1616_jpg.rf.183ca40290650cf04b3d0f19a5731488.jpg: 640x640 1 pituitary, 21.5ms\n",
      "image 64/308 /kaggle/input/medical-image-dataset-brain-tumor-detection/BrainTumor/BrainTumorYolov8/test/images/1629_jpg.rf.d5cb6536907fd787343060675defad02.jpg: 640x640 1 pituitary, 21.1ms\n",
      "image 65/308 /kaggle/input/medical-image-dataset-brain-tumor-detection/BrainTumor/BrainTumorYolov8/test/images/1631_jpg.rf.2f34893d5640e157f6a4becfdb2e23e8.jpg: 640x640 1 pituitary, 21.7ms\n",
      "image 66/308 /kaggle/input/medical-image-dataset-brain-tumor-detection/BrainTumor/BrainTumorYolov8/test/images/1632_jpg.rf.f1d13306a7996d02e67c3cfcac23fc53.jpg: 640x640 1 pituitary, 21.0ms\n",
      "image 67/308 /kaggle/input/medical-image-dataset-brain-tumor-detection/BrainTumor/BrainTumorYolov8/test/images/1639_jpg.rf.3a4ebd302c2c312f045ac91437f74810.jpg: 640x640 1 pituitary, 22.2ms\n",
      "image 68/308 /kaggle/input/medical-image-dataset-brain-tumor-detection/BrainTumor/BrainTumorYolov8/test/images/1641_jpg.rf.c12f8171a7788b077463d75151a660bc.jpg: 640x640 1 pituitary, 20.7ms\n",
      "image 69/308 /kaggle/input/medical-image-dataset-brain-tumor-detection/BrainTumor/BrainTumorYolov8/test/images/1650_jpg.rf.f58d91da8f7153f5ec2ba7ecf27a4572.jpg: 640x640 1 pituitary, 22.5ms\n",
      "image 70/308 /kaggle/input/medical-image-dataset-brain-tumor-detection/BrainTumor/BrainTumorYolov8/test/images/1651_jpg.rf.994bd773e76e28d76686c57b37293014.jpg: 640x640 1 pituitary, 20.8ms\n",
      "image 71/308 /kaggle/input/medical-image-dataset-brain-tumor-detection/BrainTumor/BrainTumorYolov8/test/images/1652_jpg.rf.39e9640006db48d51fc7d613ee2e8b1d.jpg: 640x640 1 pituitary, 22.5ms\n",
      "image 72/308 /kaggle/input/medical-image-dataset-brain-tumor-detection/BrainTumor/BrainTumorYolov8/test/images/1663_jpg.rf.74ab6a97a0791b989d02dfa900eb4188.jpg: 640x640 1 pituitary, 20.9ms\n",
      "image 73/308 /kaggle/input/medical-image-dataset-brain-tumor-detection/BrainTumor/BrainTumorYolov8/test/images/1672_jpg.rf.69e40db584ad1c79aa6a5c46e6f3a5d9.jpg: 640x640 1 pituitary, 22.5ms\n",
      "image 74/308 /kaggle/input/medical-image-dataset-brain-tumor-detection/BrainTumor/BrainTumorYolov8/test/images/1681_jpg.rf.f1be96380961b6e977776a9d73c8f01d.jpg: 640x640 1 pituitary, 20.9ms\n",
      "image 75/308 /kaggle/input/medical-image-dataset-brain-tumor-detection/BrainTumor/BrainTumorYolov8/test/images/1693_jpg.rf.e7ae5548c3ead44346a660bd91830004.jpg: 640x640 1 pituitary, 23.1ms\n",
      "image 76/308 /kaggle/input/medical-image-dataset-brain-tumor-detection/BrainTumor/BrainTumorYolov8/test/images/1695_jpg.rf.b78bac3897bf7ab99f9936821021d56f.jpg: 640x640 1 pituitary, 21.1ms\n",
      "image 77/308 /kaggle/input/medical-image-dataset-brain-tumor-detection/BrainTumor/BrainTumorYolov8/test/images/170_jpg.rf.253ccc367852a533eef6426087de906e.jpg: 640x640 1 meningioma, 23.0ms\n",
      "image 78/308 /kaggle/input/medical-image-dataset-brain-tumor-detection/BrainTumor/BrainTumorYolov8/test/images/1710_jpg.rf.36fe9d822cf5079600022f12aa2d0f3a.jpg: 640x640 1 pituitary, 20.8ms\n",
      "image 79/308 /kaggle/input/medical-image-dataset-brain-tumor-detection/BrainTumor/BrainTumorYolov8/test/images/1711_jpg.rf.5bad8da03f48c2219fef9ad14e226dd4.jpg: 640x640 1 pituitary, 21.9ms\n",
      "image 80/308 /kaggle/input/medical-image-dataset-brain-tumor-detection/BrainTumor/BrainTumorYolov8/test/images/171_jpg.rf.93acd56beb32156ecb4cf8b77fcc98fb.jpg: 640x640 1 meningioma, 20.1ms\n",
      "image 81/308 /kaggle/input/medical-image-dataset-brain-tumor-detection/BrainTumor/BrainTumorYolov8/test/images/1726_jpg.rf.2d635f72cc8182d2bceba7d9daf9d970.jpg: 640x640 1 pituitary, 22.5ms\n",
      "image 82/308 /kaggle/input/medical-image-dataset-brain-tumor-detection/BrainTumor/BrainTumorYolov8/test/images/1759_jpg.rf.91b3c955883a4678cbd33018e29c6c7d.jpg: 640x640 (no detections), 20.4ms\n",
      "image 83/308 /kaggle/input/medical-image-dataset-brain-tumor-detection/BrainTumor/BrainTumorYolov8/test/images/1764_jpg.rf.84eba4eb8f41b13c10ae320dc7b16dcc.jpg: 640x640 1 pituitary, 19.3ms\n",
      "image 84/308 /kaggle/input/medical-image-dataset-brain-tumor-detection/BrainTumor/BrainTumorYolov8/test/images/1775_jpg.rf.f544f793a4372dd3f07f4213b9abfc8b.jpg: 640x640 1 pituitary, 21.2ms\n",
      "image 85/308 /kaggle/input/medical-image-dataset-brain-tumor-detection/BrainTumor/BrainTumorYolov8/test/images/1779_jpg.rf.bee72974d8b5297aab3f9aefa61e78a9.jpg: 640x640 1 pituitary, 21.2ms\n",
      "image 86/308 /kaggle/input/medical-image-dataset-brain-tumor-detection/BrainTumor/BrainTumorYolov8/test/images/1822_jpg.rf.a399a7dceb6e21db070cd5d7fcdde5b9.jpg: 640x640 1 pituitary, 21.2ms\n",
      "image 87/308 /kaggle/input/medical-image-dataset-brain-tumor-detection/BrainTumor/BrainTumorYolov8/test/images/1826_jpg.rf.6eb76a92173459de8f9beecbeb067d9d.jpg: 640x640 1 pituitary, 21.5ms\n",
      "image 88/308 /kaggle/input/medical-image-dataset-brain-tumor-detection/BrainTumor/BrainTumorYolov8/test/images/1831_jpg.rf.09c1dbd0f860a101a87217f173264c44.jpg: 640x640 1 pituitary, 21.1ms\n",
      "image 89/308 /kaggle/input/medical-image-dataset-brain-tumor-detection/BrainTumor/BrainTumorYolov8/test/images/1845_jpg.rf.0f696dec899f9e3d0ee3cccaf1880c99.jpg: 640x640 1 glioma, 21.1ms\n",
      "image 90/308 /kaggle/input/medical-image-dataset-brain-tumor-detection/BrainTumor/BrainTumorYolov8/test/images/1853_jpg.rf.22936007a95786a1540939608726b4d2.jpg: 640x640 (no detections), 20.3ms\n",
      "image 91/308 /kaggle/input/medical-image-dataset-brain-tumor-detection/BrainTumor/BrainTumorYolov8/test/images/1855_jpg.rf.f522b2d6e511f27e3c52681d177c306e.jpg: 640x640 (no detections), 22.0ms\n",
      "image 92/308 /kaggle/input/medical-image-dataset-brain-tumor-detection/BrainTumor/BrainTumorYolov8/test/images/1860_jpg.rf.77431e9d672de1e9c9201f9e6ec73e77.jpg: 640x640 1 glioma, 20.7ms\n",
      "image 93/308 /kaggle/input/medical-image-dataset-brain-tumor-detection/BrainTumor/BrainTumorYolov8/test/images/1864_jpg.rf.acb2bda42df505957e9b381fed5d8a6b.jpg: 640x640 2 gliomas, 22.5ms\n",
      "image 94/308 /kaggle/input/medical-image-dataset-brain-tumor-detection/BrainTumor/BrainTumorYolov8/test/images/1867_jpg.rf.6463f5e7fc2480ed5a7a55d68f58c533.jpg: 640x640 1 glioma, 20.7ms\n",
      "image 95/308 /kaggle/input/medical-image-dataset-brain-tumor-detection/BrainTumor/BrainTumorYolov8/test/images/1884_jpg.rf.e4fe0c8cb99a3aeeed39ea7cec0b0948.jpg: 640x640 2 gliomas, 22.5ms\n",
      "image 96/308 /kaggle/input/medical-image-dataset-brain-tumor-detection/BrainTumor/BrainTumorYolov8/test/images/1885_jpg.rf.fcf3a657b0b2fc6c2e9f9c48612f4d08.jpg: 640x640 (no detections), 20.8ms\n",
      "image 97/308 /kaggle/input/medical-image-dataset-brain-tumor-detection/BrainTumor/BrainTumorYolov8/test/images/1905_jpg.rf.4653fcbe04257e803ef570236faedf2b.jpg: 640x640 1 glioma, 22.5ms\n",
      "image 98/308 /kaggle/input/medical-image-dataset-brain-tumor-detection/BrainTumor/BrainTumorYolov8/test/images/1912_jpg.rf.0c0543ef2dd806ec6990cd21eed4b64b.jpg: 640x640 1 glioma, 20.4ms\n",
      "image 99/308 /kaggle/input/medical-image-dataset-brain-tumor-detection/BrainTumor/BrainTumorYolov8/test/images/192_jpg.rf.8b107bb6b8fc883d1a0ae0cf4a5a330e.jpg: 640x640 1 meningioma, 21.9ms\n",
      "image 100/308 /kaggle/input/medical-image-dataset-brain-tumor-detection/BrainTumor/BrainTumorYolov8/test/images/1945_jpg.rf.7b3b45d292b20e871f02b57469f7bae0.jpg: 640x640 1 glioma, 20.6ms\n",
      "image 101/308 /kaggle/input/medical-image-dataset-brain-tumor-detection/BrainTumor/BrainTumorYolov8/test/images/1947_jpg.rf.688008eb57dd3e2c7eed931faaed7f79.jpg: 640x640 1 glioma, 22.4ms\n",
      "image 102/308 /kaggle/input/medical-image-dataset-brain-tumor-detection/BrainTumor/BrainTumorYolov8/test/images/194_jpg.rf.1a52d6a31349b58286f0e950dc131288.jpg: 640x640 1 meningioma, 21.0ms\n",
      "image 103/308 /kaggle/input/medical-image-dataset-brain-tumor-detection/BrainTumor/BrainTumorYolov8/test/images/1950_jpg.rf.cba6ad0049301dfc47409eafd92b8014.jpg: 640x640 1 glioma, 22.0ms\n",
      "image 104/308 /kaggle/input/medical-image-dataset-brain-tumor-detection/BrainTumor/BrainTumorYolov8/test/images/1951_jpg.rf.eb08d051c58cf70408f3def1b2f274de.jpg: 640x640 1 glioma, 21.0ms\n",
      "image 105/308 /kaggle/input/medical-image-dataset-brain-tumor-detection/BrainTumor/BrainTumorYolov8/test/images/1970_jpg.rf.8091ad01b620280c7171d511ce690e6e.jpg: 640x640 (no detections), 21.6ms\n",
      "image 106/308 /kaggle/input/medical-image-dataset-brain-tumor-detection/BrainTumor/BrainTumorYolov8/test/images/1975_jpg.rf.10c3b09915a13b0be5178a9738485a6e.jpg: 640x640 3 gliomas, 20.6ms\n",
      "image 107/308 /kaggle/input/medical-image-dataset-brain-tumor-detection/BrainTumor/BrainTumorYolov8/test/images/1999_jpg.rf.2b6f52703a64ead20b91dea96eef0178.jpg: 640x640 1 glioma, 21.9ms\n",
      "image 108/308 /kaggle/input/medical-image-dataset-brain-tumor-detection/BrainTumor/BrainTumorYolov8/test/images/2009_jpg.rf.bc09ea2f70c2daed3f2fe5f785bd1a58.jpg: 640x640 1 glioma, 20.6ms\n",
      "image 109/308 /kaggle/input/medical-image-dataset-brain-tumor-detection/BrainTumor/BrainTumorYolov8/test/images/2029_jpg.rf.a958de6a1510d6d7e3b0b103e779663f.jpg: 640x640 1 glioma, 21.9ms\n",
      "image 110/308 /kaggle/input/medical-image-dataset-brain-tumor-detection/BrainTumor/BrainTumorYolov8/test/images/2032_jpg.rf.7ff78b48dc4e5d376e7fc8249b7e59f5.jpg: 640x640 2 gliomas, 20.3ms\n",
      "image 111/308 /kaggle/input/medical-image-dataset-brain-tumor-detection/BrainTumor/BrainTumorYolov8/test/images/2033_jpg.rf.a8066ff978dec1e789ccfd53e2f32b95.jpg: 640x640 1 glioma, 21.2ms\n",
      "image 112/308 /kaggle/input/medical-image-dataset-brain-tumor-detection/BrainTumor/BrainTumorYolov8/test/images/2037_jpg.rf.4cc13f9ee6bf6b992c3e09547c9557a4.jpg: 640x640 1 glioma, 20.0ms\n",
      "image 113/308 /kaggle/input/medical-image-dataset-brain-tumor-detection/BrainTumor/BrainTumorYolov8/test/images/2038_jpg.rf.e5ee2a9c1800acaa17419a51e78615c3.jpg: 640x640 1 glioma, 21.6ms\n",
      "image 114/308 /kaggle/input/medical-image-dataset-brain-tumor-detection/BrainTumor/BrainTumorYolov8/test/images/2045_jpg.rf.6c1658b7de16f85a947d98a760866842.jpg: 640x640 1 glioma, 20.1ms\n",
      "image 115/308 /kaggle/input/medical-image-dataset-brain-tumor-detection/BrainTumor/BrainTumorYolov8/test/images/2054_jpg.rf.f8fc31417ac7299e05ecd3da246915b8.jpg: 640x640 (no detections), 21.6ms\n",
      "image 116/308 /kaggle/input/medical-image-dataset-brain-tumor-detection/BrainTumor/BrainTumorYolov8/test/images/2066_jpg.rf.52e2f56bc5f3ddd77a2af99fb985ab0f.jpg: 640x640 1 glioma, 19.3ms\n",
      "image 117/308 /kaggle/input/medical-image-dataset-brain-tumor-detection/BrainTumor/BrainTumorYolov8/test/images/206_jpg.rf.00000c4649b91d940751d98d36cc3d17.jpg: 640x640 1 meningioma, 18.6ms\n",
      "image 118/308 /kaggle/input/medical-image-dataset-brain-tumor-detection/BrainTumor/BrainTumorYolov8/test/images/2070_jpg.rf.f6703ffa58066e5a7dd9d6e00ab5cd13.jpg: 640x640 1 glioma, 22.5ms\n",
      "image 119/308 /kaggle/input/medical-image-dataset-brain-tumor-detection/BrainTumor/BrainTumorYolov8/test/images/2079_jpg.rf.8dff473ffb745cb673bf5faef95736b4.jpg: 640x640 1 glioma, 20.8ms\n",
      "image 120/308 /kaggle/input/medical-image-dataset-brain-tumor-detection/BrainTumor/BrainTumorYolov8/test/images/2098_jpg.rf.2739ad43fd1f67bec9c3040dca11e676.jpg: 640x640 (no detections), 22.5ms\n",
      "image 121/308 /kaggle/input/medical-image-dataset-brain-tumor-detection/BrainTumor/BrainTumorYolov8/test/images/2100_jpg.rf.2910fd99c8bdd49d25d56f4c9f97068b.jpg: 640x640 1 meningioma, 20.8ms\n",
      "image 122/308 /kaggle/input/medical-image-dataset-brain-tumor-detection/BrainTumor/BrainTumorYolov8/test/images/2109_jpg.rf.93f55acd8ce5c8fb728c6705602fe153.jpg: 640x640 1 glioma, 22.8ms\n",
      "image 123/308 /kaggle/input/medical-image-dataset-brain-tumor-detection/BrainTumor/BrainTumorYolov8/test/images/2115_jpg.rf.6c0e37ceb10f6b65e87b6abd65199ec4.jpg: 640x640 1 glioma, 20.8ms\n",
      "image 124/308 /kaggle/input/medical-image-dataset-brain-tumor-detection/BrainTumor/BrainTumorYolov8/test/images/2122_jpg.rf.d1793b09414253b05700d42584306acb.jpg: 640x640 1 glioma, 22.5ms\n",
      "image 125/308 /kaggle/input/medical-image-dataset-brain-tumor-detection/BrainTumor/BrainTumorYolov8/test/images/2129_jpg.rf.7a7282026236ced3f8b4f8b767c3739c.jpg: 640x640 1 glioma, 20.5ms\n",
      "image 126/308 /kaggle/input/medical-image-dataset-brain-tumor-detection/BrainTumor/BrainTumorYolov8/test/images/2140_jpg.rf.c8d56b4ab6ffb754171c0baf66740ff9.jpg: 640x640 1 glioma, 22.5ms\n",
      "image 127/308 /kaggle/input/medical-image-dataset-brain-tumor-detection/BrainTumor/BrainTumorYolov8/test/images/2153_jpg.rf.b7046b5b3aa144bdd718c4a60e16ba6c.jpg: 640x640 2 gliomas, 20.8ms\n",
      "image 128/308 /kaggle/input/medical-image-dataset-brain-tumor-detection/BrainTumor/BrainTumorYolov8/test/images/2165_jpg.rf.1c6902be0d181a537f3b6bce5ccfd079.jpg: 640x640 1 glioma, 22.5ms\n",
      "image 129/308 /kaggle/input/medical-image-dataset-brain-tumor-detection/BrainTumor/BrainTumorYolov8/test/images/217_jpg.rf.1d89c6be1dd4e97ea32ee8ba39726df9.jpg: 640x640 1 meningioma, 20.5ms\n",
      "image 130/308 /kaggle/input/medical-image-dataset-brain-tumor-detection/BrainTumor/BrainTumorYolov8/test/images/2180_jpg.rf.b9da2d59f3afe7d75785c533f24cd5f4.jpg: 640x640 1 glioma, 22.5ms\n",
      "image 131/308 /kaggle/input/medical-image-dataset-brain-tumor-detection/BrainTumor/BrainTumorYolov8/test/images/2186_jpg.rf.8daa24355ea684babbf7c3bf3923cc95.jpg: 640x640 (no detections), 20.5ms\n",
      "image 132/308 /kaggle/input/medical-image-dataset-brain-tumor-detection/BrainTumor/BrainTumorYolov8/test/images/2200_jpg.rf.7be896ca079a8b8801845a14b8f9b2b5.jpg: 640x640 1 glioma, 23.1ms\n",
      "image 133/308 /kaggle/input/medical-image-dataset-brain-tumor-detection/BrainTumor/BrainTumorYolov8/test/images/2209_jpg.rf.4b6f922c1a9e4553086aebbb6abb563a.jpg: 640x640 1 glioma, 21.0ms\n",
      "image 134/308 /kaggle/input/medical-image-dataset-brain-tumor-detection/BrainTumor/BrainTumorYolov8/test/images/2222_jpg.rf.b145d4307bbb4ae70c59e81a94286079.jpg: 640x640 1 glioma, 22.6ms\n",
      "image 135/308 /kaggle/input/medical-image-dataset-brain-tumor-detection/BrainTumor/BrainTumorYolov8/test/images/2225_jpg.rf.8a8cb1c9d8d9fd7b97540e0bc6b5bbc5.jpg: 640x640 1 glioma, 20.8ms\n",
      "image 136/308 /kaggle/input/medical-image-dataset-brain-tumor-detection/BrainTumor/BrainTumorYolov8/test/images/2227_jpg.rf.1eec53cb0f5ebb1728defbf2778e9e71.jpg: 640x640 1 glioma, 22.7ms\n",
      "image 137/308 /kaggle/input/medical-image-dataset-brain-tumor-detection/BrainTumor/BrainTumorYolov8/test/images/2231_jpg.rf.3896d9a386f787ad08f5afc80b480603.jpg: 640x640 1 glioma, 20.7ms\n",
      "image 138/308 /kaggle/input/medical-image-dataset-brain-tumor-detection/BrainTumor/BrainTumorYolov8/test/images/2232_jpg.rf.3399096c7c503b05689be5799e8388c4.jpg: 640x640 1 glioma, 22.6ms\n",
      "image 139/308 /kaggle/input/medical-image-dataset-brain-tumor-detection/BrainTumor/BrainTumorYolov8/test/images/2240_jpg.rf.643b96430344165c1181c859aef3efd5.jpg: 640x640 1 glioma, 20.6ms\n",
      "image 140/308 /kaggle/input/medical-image-dataset-brain-tumor-detection/BrainTumor/BrainTumorYolov8/test/images/2242_jpg.rf.2a39144f4a2f0c1e6b3af1631549f60d.jpg: 640x640 2 gliomas, 22.5ms\n",
      "image 141/308 /kaggle/input/medical-image-dataset-brain-tumor-detection/BrainTumor/BrainTumorYolov8/test/images/2248_jpg.rf.cc0db07933d5628780bff3e982916b53.jpg: 640x640 1 glioma, 20.5ms\n",
      "image 142/308 /kaggle/input/medical-image-dataset-brain-tumor-detection/BrainTumor/BrainTumorYolov8/test/images/2259_jpg.rf.1ce4c8e7150fd3b47c4d5e6bd7ceefdc.jpg: 640x640 1 glioma, 23.0ms\n",
      "image 143/308 /kaggle/input/medical-image-dataset-brain-tumor-detection/BrainTumor/BrainTumorYolov8/test/images/2263_jpg.rf.eb9ce4936b5e65e467c9356616990757.jpg: 640x640 1 glioma, 20.8ms\n",
      "image 144/308 /kaggle/input/medical-image-dataset-brain-tumor-detection/BrainTumor/BrainTumorYolov8/test/images/2264_jpg.rf.d50d7d89f4fc9a5c6c0e88b4c85ef5bf.jpg: 640x640 1 glioma, 22.2ms\n",
      "image 145/308 /kaggle/input/medical-image-dataset-brain-tumor-detection/BrainTumor/BrainTumorYolov8/test/images/2276_jpg.rf.d62901fd37c3ee87da51b2c7aa3f0bcc.jpg: 640x640 1 glioma, 20.8ms\n",
      "image 146/308 /kaggle/input/medical-image-dataset-brain-tumor-detection/BrainTumor/BrainTumorYolov8/test/images/2278_jpg.rf.36dd4fff23e253924259387cda33a1c8.jpg: 640x640 (no detections), 21.9ms\n",
      "image 147/308 /kaggle/input/medical-image-dataset-brain-tumor-detection/BrainTumor/BrainTumorYolov8/test/images/2294_jpg.rf.fe5b37c011413bb3352e83fb2f4fb8e2.jpg: 640x640 (no detections), 20.2ms\n",
      "image 148/308 /kaggle/input/medical-image-dataset-brain-tumor-detection/BrainTumor/BrainTumorYolov8/test/images/2297_jpg.rf.ee0c9d2ee893bc79156cf301e66abae7.jpg: 640x640 1 glioma, 23.0ms\n",
      "image 149/308 /kaggle/input/medical-image-dataset-brain-tumor-detection/BrainTumor/BrainTumorYolov8/test/images/2312_jpg.rf.238be38efcae3858b374942125ac8844.jpg: 640x640 1 glioma, 20.7ms\n",
      "image 150/308 /kaggle/input/medical-image-dataset-brain-tumor-detection/BrainTumor/BrainTumorYolov8/test/images/2315_jpg.rf.758f1c8518253384cef29b43b6530b6a.jpg: 640x640 1 glioma, 22.5ms\n",
      "image 151/308 /kaggle/input/medical-image-dataset-brain-tumor-detection/BrainTumor/BrainTumorYolov8/test/images/2320_jpg.rf.96ade57fc72ea3c9b1c5d969ed11658a.jpg: 640x640 1 glioma, 20.8ms\n",
      "image 152/308 /kaggle/input/medical-image-dataset-brain-tumor-detection/BrainTumor/BrainTumorYolov8/test/images/2321_jpg.rf.bbebb683ebe5646503158844f551ecdc.jpg: 640x640 1 glioma, 22.1ms\n",
      "image 153/308 /kaggle/input/medical-image-dataset-brain-tumor-detection/BrainTumor/BrainTumorYolov8/test/images/2338_jpg.rf.10d54e8101f0da558b08fad29666875a.jpg: 640x640 1 glioma, 20.7ms\n",
      "image 154/308 /kaggle/input/medical-image-dataset-brain-tumor-detection/BrainTumor/BrainTumorYolov8/test/images/233_jpg.rf.f8e76a85f9415a5bb5b8bd9f6cd8c5be.jpg: 640x640 1 meningioma, 22.5ms\n",
      "image 155/308 /kaggle/input/medical-image-dataset-brain-tumor-detection/BrainTumor/BrainTumorYolov8/test/images/2340_jpg.rf.4f747b6f6011a0af0813efd1830dfab3.jpg: 640x640 2 gliomas, 20.8ms\n",
      "image 156/308 /kaggle/input/medical-image-dataset-brain-tumor-detection/BrainTumor/BrainTumorYolov8/test/images/2347_jpg.rf.3a9d113da7e0bcd3ea58a80a19254a1a.jpg: 640x640 1 glioma, 22.4ms\n",
      "image 157/308 /kaggle/input/medical-image-dataset-brain-tumor-detection/BrainTumor/BrainTumorYolov8/test/images/234_jpg.rf.19fbc092be70165d474d671de82d77a2.jpg: 640x640 1 meningioma, 20.7ms\n",
      "image 158/308 /kaggle/input/medical-image-dataset-brain-tumor-detection/BrainTumor/BrainTumorYolov8/test/images/2350_jpg.rf.97c970c1eaa99150a5ff681da63013ea.jpg: 640x640 1 glioma, 22.2ms\n",
      "image 159/308 /kaggle/input/medical-image-dataset-brain-tumor-detection/BrainTumor/BrainTumorYolov8/test/images/2354_jpg.rf.f8ae873ab57d03d0887a7c6856f4f8fa.jpg: 640x640 1 glioma, 20.7ms\n",
      "image 160/308 /kaggle/input/medical-image-dataset-brain-tumor-detection/BrainTumor/BrainTumorYolov8/test/images/2355_jpg.rf.4efb398d9a28b05c2ad82cf662b52afd.jpg: 640x640 1 glioma, 22.3ms\n",
      "image 161/308 /kaggle/input/medical-image-dataset-brain-tumor-detection/BrainTumor/BrainTumorYolov8/test/images/2371_jpg.rf.3a8afe42a5f29dac13e24c055177ed1f.jpg: 640x640 1 glioma, 20.7ms\n",
      "image 162/308 /kaggle/input/medical-image-dataset-brain-tumor-detection/BrainTumor/BrainTumorYolov8/test/images/2386_jpg.rf.ac4ea45cecd745925c818a3a7140b4e9.jpg: 640x640 1 glioma, 21.6ms\n",
      "image 163/308 /kaggle/input/medical-image-dataset-brain-tumor-detection/BrainTumor/BrainTumorYolov8/test/images/238_jpg.rf.65430d94abbce87d2b08f7ea39476912.jpg: 640x640 1 meningioma, 20.6ms\n",
      "image 164/308 /kaggle/input/medical-image-dataset-brain-tumor-detection/BrainTumor/BrainTumorYolov8/test/images/2393_jpg.rf.cc4a702878cd4c69d84a37be11625197.jpg: 640x640 1 glioma, 21.8ms\n",
      "image 165/308 /kaggle/input/medical-image-dataset-brain-tumor-detection/BrainTumor/BrainTumorYolov8/test/images/2394_jpg.rf.3bb0bbd4c76c46ff1cd85c06f234686a.jpg: 640x640 1 glioma, 20.6ms\n",
      "image 166/308 /kaggle/input/medical-image-dataset-brain-tumor-detection/BrainTumor/BrainTumorYolov8/test/images/2401_jpg.rf.605ecb1bcd25a099a492d60bed8e4c29.jpg: 640x640 (no detections), 22.2ms\n",
      "image 167/308 /kaggle/input/medical-image-dataset-brain-tumor-detection/BrainTumor/BrainTumorYolov8/test/images/2402_jpg.rf.d98c0aff9256bbe19e23978ea0bad2b5.jpg: 640x640 (no detections), 20.7ms\n",
      "image 168/308 /kaggle/input/medical-image-dataset-brain-tumor-detection/BrainTumor/BrainTumorYolov8/test/images/2422_jpg.rf.e6f2adf3e3de342608dfcb8c63f7e201.jpg: 640x640 1 glioma, 22.0ms\n",
      "image 169/308 /kaggle/input/medical-image-dataset-brain-tumor-detection/BrainTumor/BrainTumorYolov8/test/images/2438_jpg.rf.566a3aa2f80ba84d4cdd9594181028cc.jpg: 640x640 1 glioma, 20.5ms\n",
      "image 170/308 /kaggle/input/medical-image-dataset-brain-tumor-detection/BrainTumor/BrainTumorYolov8/test/images/2444_jpg.rf.5b8b6af3bccdffe3383b550b7121440d.jpg: 640x640 1 glioma, 23.0ms\n",
      "image 171/308 /kaggle/input/medical-image-dataset-brain-tumor-detection/BrainTumor/BrainTumorYolov8/test/images/2456_jpg.rf.82096230c8b6753f719385416ac75f3d.jpg: 640x640 1 glioma, 20.8ms\n",
      "image 172/308 /kaggle/input/medical-image-dataset-brain-tumor-detection/BrainTumor/BrainTumorYolov8/test/images/2481_jpg.rf.609335209d6ed374fe490873a5517795.jpg: 640x640 1 glioma, 21.9ms\n",
      "image 173/308 /kaggle/input/medical-image-dataset-brain-tumor-detection/BrainTumor/BrainTumorYolov8/test/images/2484_jpg.rf.846d2c597e294828e5dea173e96e0459.jpg: 640x640 1 glioma, 20.6ms\n",
      "image 174/308 /kaggle/input/medical-image-dataset-brain-tumor-detection/BrainTumor/BrainTumorYolov8/test/images/2488_jpg.rf.548bbaa4ca83edc355bedb85aafef322.jpg: 640x640 2 gliomas, 22.0ms\n",
      "image 175/308 /kaggle/input/medical-image-dataset-brain-tumor-detection/BrainTumor/BrainTumorYolov8/test/images/2501_jpg.rf.a330a38d228e8f5fcfe756a0a0ce5734.jpg: 640x640 1 glioma, 20.7ms\n",
      "image 176/308 /kaggle/input/medical-image-dataset-brain-tumor-detection/BrainTumor/BrainTumorYolov8/test/images/2531_jpg.rf.608517f4444d6322e094245b4099acd9.jpg: 640x640 1 glioma, 21.9ms\n",
      "image 177/308 /kaggle/input/medical-image-dataset-brain-tumor-detection/BrainTumor/BrainTumorYolov8/test/images/2536_jpg.rf.cb649840c4ee9344bd6c0177deb0fd40.jpg: 640x640 1 glioma, 20.3ms\n",
      "image 178/308 /kaggle/input/medical-image-dataset-brain-tumor-detection/BrainTumor/BrainTumorYolov8/test/images/2548_jpg.rf.ac53adca8ccdd9528c674565e3fc089f.jpg: 640x640 1 glioma, 22.0ms\n",
      "image 179/308 /kaggle/input/medical-image-dataset-brain-tumor-detection/BrainTumor/BrainTumorYolov8/test/images/2556_jpg.rf.fbf7395ccd18ac6fdf8b87a099323fda.jpg: 640x640 1 glioma, 20.4ms\n",
      "image 180/308 /kaggle/input/medical-image-dataset-brain-tumor-detection/BrainTumor/BrainTumorYolov8/test/images/2563_jpg.rf.894a15258c4836a6ab1c3b8c1816e8e3.jpg: 640x640 1 glioma, 21.9ms\n",
      "image 181/308 /kaggle/input/medical-image-dataset-brain-tumor-detection/BrainTumor/BrainTumorYolov8/test/images/2583_jpg.rf.bced2defac9914a8ade0d3b18ca74cf0.jpg: 640x640 2 gliomas, 20.4ms\n",
      "image 182/308 /kaggle/input/medical-image-dataset-brain-tumor-detection/BrainTumor/BrainTumorYolov8/test/images/2584_jpg.rf.0ae276b8bfe9f7e3ef6b74934166bf29.jpg: 640x640 2 gliomas, 22.5ms\n",
      "image 183/308 /kaggle/input/medical-image-dataset-brain-tumor-detection/BrainTumor/BrainTumorYolov8/test/images/2586_jpg.rf.44c76682b69c3314b23fb388d11be6a3.jpg: 640x640 (no detections), 20.8ms\n",
      "image 184/308 /kaggle/input/medical-image-dataset-brain-tumor-detection/BrainTumor/BrainTumorYolov8/test/images/2617_jpg.rf.62e2abf10342499048df0f87c99e3682.jpg: 640x640 (no detections), 22.2ms\n",
      "image 185/308 /kaggle/input/medical-image-dataset-brain-tumor-detection/BrainTumor/BrainTumorYolov8/test/images/2634_jpg.rf.a0ea6d8e56c596bd56c55cfa306f4072.jpg: 640x640 1 glioma, 20.4ms\n",
      "image 186/308 /kaggle/input/medical-image-dataset-brain-tumor-detection/BrainTumor/BrainTumorYolov8/test/images/2644_jpg.rf.a0fc4011f23db39f54925c2a1a997bfb.jpg: 640x640 (no detections), 23.0ms\n",
      "image 187/308 /kaggle/input/medical-image-dataset-brain-tumor-detection/BrainTumor/BrainTumorYolov8/test/images/2656_jpg.rf.7c0322f566dd09818ab099bb18f48552.jpg: 640x640 1 glioma, 21.1ms\n",
      "image 188/308 /kaggle/input/medical-image-dataset-brain-tumor-detection/BrainTumor/BrainTumorYolov8/test/images/2657_jpg.rf.3682b4bc734fbc4ace8d831043c87fe9.jpg: 640x640 1 glioma, 22.7ms\n",
      "image 189/308 /kaggle/input/medical-image-dataset-brain-tumor-detection/BrainTumor/BrainTumorYolov8/test/images/2675_jpg.rf.f0b1aca2e7d6ce694791348cecbc1451.jpg: 640x640 (no detections), 20.9ms\n",
      "image 190/308 /kaggle/input/medical-image-dataset-brain-tumor-detection/BrainTumor/BrainTumorYolov8/test/images/2682_jpg.rf.55f36f4a88d75c8065b1ff8817665cce.jpg: 640x640 (no detections), 23.0ms\n",
      "image 191/308 /kaggle/input/medical-image-dataset-brain-tumor-detection/BrainTumor/BrainTumorYolov8/test/images/2717_jpg.rf.be5ba1a6b59da5b6335d7ca8cb12529e.jpg: 640x640 1 glioma, 21.1ms\n",
      "image 192/308 /kaggle/input/medical-image-dataset-brain-tumor-detection/BrainTumor/BrainTumorYolov8/test/images/2728_jpg.rf.b04df2c64856f68a0cf4c075ff0539e5.jpg: 640x640 1 glioma, 22.6ms\n",
      "image 193/308 /kaggle/input/medical-image-dataset-brain-tumor-detection/BrainTumor/BrainTumorYolov8/test/images/2730_jpg.rf.309f7c1c9025eab338904a87db63c603.jpg: 640x640 1 glioma, 20.6ms\n",
      "image 194/308 /kaggle/input/medical-image-dataset-brain-tumor-detection/BrainTumor/BrainTumorYolov8/test/images/2735_jpg.rf.78d6e2a2559ddf3c2479eb7f72dd7de9.jpg: 640x640 2 gliomas, 23.0ms\n",
      "image 195/308 /kaggle/input/medical-image-dataset-brain-tumor-detection/BrainTumor/BrainTumorYolov8/test/images/2748_jpg.rf.187db47b1d14080c2c986ae5f35ceae9.jpg: 640x640 (no detections), 21.0ms\n",
      "image 196/308 /kaggle/input/medical-image-dataset-brain-tumor-detection/BrainTumor/BrainTumorYolov8/test/images/2754_jpg.rf.d2145cab8b8cb80c87bb41290ab5e4a9.jpg: 640x640 1 glioma, 22.7ms\n",
      "image 197/308 /kaggle/input/medical-image-dataset-brain-tumor-detection/BrainTumor/BrainTumorYolov8/test/images/2755_jpg.rf.965ec3490920a37fd46dcca12f160f1c.jpg: 640x640 1 glioma, 20.9ms\n",
      "image 198/308 /kaggle/input/medical-image-dataset-brain-tumor-detection/BrainTumor/BrainTumorYolov8/test/images/2769_jpg.rf.e730f6c0a9287adb99054a477e9d462e.jpg: 640x640 1 glioma, 22.0ms\n",
      "image 199/308 /kaggle/input/medical-image-dataset-brain-tumor-detection/BrainTumor/BrainTumorYolov8/test/images/2773_jpg.rf.8dd0009a9eedcd33eaa16dfdd1d7efaf.jpg: 640x640 1 glioma, 20.4ms\n",
      "image 200/308 /kaggle/input/medical-image-dataset-brain-tumor-detection/BrainTumor/BrainTumorYolov8/test/images/2776_jpg.rf.0f23e983c7385f8880f2ec1e8ae7eb76.jpg: 640x640 1 glioma, 22.5ms\n",
      "image 201/308 /kaggle/input/medical-image-dataset-brain-tumor-detection/BrainTumor/BrainTumorYolov8/test/images/2781_jpg.rf.175843f75a531e87b7bd8bb7eed737f8.jpg: 640x640 1 glioma, 20.8ms\n",
      "image 202/308 /kaggle/input/medical-image-dataset-brain-tumor-detection/BrainTumor/BrainTumorYolov8/test/images/2788_jpg.rf.aaaba360c40e6083a4dd2eb0e79088e2.jpg: 640x640 1 glioma, 22.5ms\n",
      "image 203/308 /kaggle/input/medical-image-dataset-brain-tumor-detection/BrainTumor/BrainTumorYolov8/test/images/2810_jpg.rf.0457632175030eefa6ce39affb1357ae.jpg: 640x640 1 glioma, 20.8ms\n",
      "image 204/308 /kaggle/input/medical-image-dataset-brain-tumor-detection/BrainTumor/BrainTumorYolov8/test/images/2811_jpg.rf.b3d29d806414da3850045e1dada19247.jpg: 640x640 1 glioma, 22.0ms\n",
      "image 205/308 /kaggle/input/medical-image-dataset-brain-tumor-detection/BrainTumor/BrainTumorYolov8/test/images/2812_jpg.rf.f4ebd1fa63f34d83a5d871791ff1b200.jpg: 640x640 1 glioma, 20.7ms\n",
      "image 206/308 /kaggle/input/medical-image-dataset-brain-tumor-detection/BrainTumor/BrainTumorYolov8/test/images/2815_jpg.rf.81624e0074c19dd034b6ef6e5ffe98cd.jpg: 640x640 1 glioma, 22.0ms\n",
      "image 207/308 /kaggle/input/medical-image-dataset-brain-tumor-detection/BrainTumor/BrainTumorYolov8/test/images/2816_jpg.rf.f9a1ed0b6cabef59cda0d34705612195.jpg: 640x640 1 glioma, 20.7ms\n",
      "image 208/308 /kaggle/input/medical-image-dataset-brain-tumor-detection/BrainTumor/BrainTumorYolov8/test/images/281_jpg.rf.a21bc0f6896e0d182d7a858f4ab7e4ae.jpg: 640x640 1 meningioma, 22.0ms\n",
      "image 209/308 /kaggle/input/medical-image-dataset-brain-tumor-detection/BrainTumor/BrainTumorYolov8/test/images/2821_jpg.rf.af3a466c75bd89deb03e482ae65b22dc.jpg: 640x640 1 glioma, 20.7ms\n",
      "image 210/308 /kaggle/input/medical-image-dataset-brain-tumor-detection/BrainTumor/BrainTumorYolov8/test/images/2835_jpg.rf.870b5373177d8ec7deab1117500aeda8.jpg: 640x640 1 glioma, 22.5ms\n",
      "image 211/308 /kaggle/input/medical-image-dataset-brain-tumor-detection/BrainTumor/BrainTumorYolov8/test/images/2841_jpg.rf.549f29996aa6d61bbfccb194bcaaaba4.jpg: 640x640 2 gliomas, 21.1ms\n",
      "image 212/308 /kaggle/input/medical-image-dataset-brain-tumor-detection/BrainTumor/BrainTumorYolov8/test/images/2853_jpg.rf.4ecdc10983675bfa19f91e37e5e3beaf.jpg: 640x640 1 glioma, 22.0ms\n",
      "image 213/308 /kaggle/input/medical-image-dataset-brain-tumor-detection/BrainTumor/BrainTumorYolov8/test/images/2868_jpg.rf.52075c63e7df642f333876ba41e487e6.jpg: 640x640 1 glioma, 20.6ms\n",
      "image 214/308 /kaggle/input/medical-image-dataset-brain-tumor-detection/BrainTumor/BrainTumorYolov8/test/images/2872_jpg.rf.dd344fb6aad754495708b68abc4290a0.jpg: 640x640 1 glioma, 22.4ms\n",
      "image 215/308 /kaggle/input/medical-image-dataset-brain-tumor-detection/BrainTumor/BrainTumorYolov8/test/images/2876_jpg.rf.d2b1fd2368dfd0f21f5c5ab288311247.jpg: 640x640 (no detections), 21.4ms\n",
      "image 216/308 /kaggle/input/medical-image-dataset-brain-tumor-detection/BrainTumor/BrainTumorYolov8/test/images/2881_jpg.rf.ceb1c9a3e08931040b2a321b70ba03fb.jpg: 640x640 1 glioma, 22.2ms\n",
      "image 217/308 /kaggle/input/medical-image-dataset-brain-tumor-detection/BrainTumor/BrainTumorYolov8/test/images/2884_jpg.rf.6e1fc048ccc5af32ee622eece72d18b7.jpg: 640x640 1 glioma, 21.1ms\n",
      "image 218/308 /kaggle/input/medical-image-dataset-brain-tumor-detection/BrainTumor/BrainTumorYolov8/test/images/2899_jpg.rf.f2bd57393e2ce7541cc819771a5312a0.jpg: 640x640 1 glioma, 21.6ms\n",
      "image 219/308 /kaggle/input/medical-image-dataset-brain-tumor-detection/BrainTumor/BrainTumorYolov8/test/images/2904_jpg.rf.cbc4872603a5087d632f8ae70af6dfe9.jpg: 640x640 1 glioma, 21.2ms\n",
      "image 220/308 /kaggle/input/medical-image-dataset-brain-tumor-detection/BrainTumor/BrainTumorYolov8/test/images/2914_jpg.rf.c1566b94cdecb5e7e6e07333695727ce.jpg: 640x640 (no detections), 21.9ms\n",
      "image 221/308 /kaggle/input/medical-image-dataset-brain-tumor-detection/BrainTumor/BrainTumorYolov8/test/images/291_jpg.rf.b4e6bf6837ad838e6a472cc4ca881fae.jpg: 640x640 1 meningioma, 21.1ms\n",
      "image 222/308 /kaggle/input/medical-image-dataset-brain-tumor-detection/BrainTumor/BrainTumorYolov8/test/images/2943_jpg.rf.5aac81a0a865f53224c18379f6e77e18.jpg: 640x640 1 glioma, 22.2ms\n",
      "image 223/308 /kaggle/input/medical-image-dataset-brain-tumor-detection/BrainTumor/BrainTumorYolov8/test/images/2946_jpg.rf.855119c7ea912804400e339a720afcc0.jpg: 640x640 1 glioma, 21.5ms\n",
      "image 224/308 /kaggle/input/medical-image-dataset-brain-tumor-detection/BrainTumor/BrainTumorYolov8/test/images/2959_jpg.rf.b55f5b153b86ea97190b4955ff1568c2.jpg: 640x640 1 glioma, 21.7ms\n",
      "image 225/308 /kaggle/input/medical-image-dataset-brain-tumor-detection/BrainTumor/BrainTumorYolov8/test/images/2968_jpg.rf.a0cb25df31fb4976b1f3e4cefd4c99f0.jpg: 640x640 1 glioma, 21.5ms\n",
      "image 226/308 /kaggle/input/medical-image-dataset-brain-tumor-detection/BrainTumor/BrainTumorYolov8/test/images/296_jpg.rf.bd6b78269ecccd92cfa32e2ee286c0ec.jpg: 640x640 1 meningioma, 21.2ms\n",
      "image 227/308 /kaggle/input/medical-image-dataset-brain-tumor-detection/BrainTumor/BrainTumorYolov8/test/images/2986_jpg.rf.dbda892491521eb209234b34bccdcdb0.jpg: 640x640 1 glioma, 21.2ms\n",
      "image 228/308 /kaggle/input/medical-image-dataset-brain-tumor-detection/BrainTumor/BrainTumorYolov8/test/images/3001_jpg.rf.1c8c3754bf91838f91711e73bb28ec50.jpg: 640x640 1 glioma, 21.9ms\n",
      "image 229/308 /kaggle/input/medical-image-dataset-brain-tumor-detection/BrainTumor/BrainTumorYolov8/test/images/3003_jpg.rf.4a331d96dc252f259f08c9046c4ae490.jpg: 640x640 (no detections), 22.3ms\n",
      "image 230/308 /kaggle/input/medical-image-dataset-brain-tumor-detection/BrainTumor/BrainTumorYolov8/test/images/3017_jpg.rf.15692bfdec45e2e34f8b1a602b33268d.jpg: 640x640 1 glioma, 21.7ms\n",
      "image 231/308 /kaggle/input/medical-image-dataset-brain-tumor-detection/BrainTumor/BrainTumorYolov8/test/images/3026_jpg.rf.d56624b1c71fe8a9a2c9226cde44fa4b.jpg: 640x640 1 glioma, 21.8ms\n",
      "image 232/308 /kaggle/input/medical-image-dataset-brain-tumor-detection/BrainTumor/BrainTumorYolov8/test/images/3027_jpg.rf.e87302cfca0a8ecf8370bfa39b8c47a3.jpg: 640x640 1 glioma, 21.0ms\n",
      "image 233/308 /kaggle/input/medical-image-dataset-brain-tumor-detection/BrainTumor/BrainTumorYolov8/test/images/3037_jpg.rf.47e86b095266f90f6a5225e2c34db661.jpg: 640x640 1 glioma, 21.3ms\n",
      "image 234/308 /kaggle/input/medical-image-dataset-brain-tumor-detection/BrainTumor/BrainTumorYolov8/test/images/3042_jpg.rf.8e9abeea8293c539d7b839b728e90785.jpg: 640x640 3 gliomas, 21.9ms\n",
      "image 235/308 /kaggle/input/medical-image-dataset-brain-tumor-detection/BrainTumor/BrainTumorYolov8/test/images/3045_jpg.rf.6a1e02d25dee2159b3ff4a58214dcf3c.jpg: 640x640 1 glioma, 21.5ms\n",
      "image 236/308 /kaggle/input/medical-image-dataset-brain-tumor-detection/BrainTumor/BrainTumorYolov8/test/images/3060_jpg.rf.0fc2b3c867d2357cca571db4571726ea.jpg: 640x640 2 gliomas, 21.3ms\n",
      "image 237/308 /kaggle/input/medical-image-dataset-brain-tumor-detection/BrainTumor/BrainTumorYolov8/test/images/3063_jpg.rf.e73677893aa50fb44107a9c04faf30af.jpg: 640x640 1 meningioma, 21.5ms\n",
      "image 238/308 /kaggle/input/medical-image-dataset-brain-tumor-detection/BrainTumor/BrainTumorYolov8/test/images/309_jpg.rf.33785c14232d6ede3876d09968debfac.jpg: 640x640 1 meningioma, 20.9ms\n",
      "image 239/308 /kaggle/input/medical-image-dataset-brain-tumor-detection/BrainTumor/BrainTumorYolov8/test/images/30_jpg.rf.ed67030833ab55428267e6f9c38cc730.jpg: 640x640 1 meningioma, 21.4ms\n",
      "image 240/308 /kaggle/input/medical-image-dataset-brain-tumor-detection/BrainTumor/BrainTumorYolov8/test/images/310_jpg.rf.21049e990cc91dafed2cc8ea4256ad3d.jpg: 640x640 1 meningioma, 20.0ms\n",
      "image 241/308 /kaggle/input/medical-image-dataset-brain-tumor-detection/BrainTumor/BrainTumorYolov8/test/images/316_jpg.rf.20eb15dddad6b4cab879dce543ddecef.jpg: 640x640 1 meningioma, 21.8ms\n",
      "image 242/308 /kaggle/input/medical-image-dataset-brain-tumor-detection/BrainTumor/BrainTumorYolov8/test/images/335_jpg.rf.0f1f7f6141300c3424d5a15f4d019102.jpg: 640x640 1 meningioma, 20.4ms\n",
      "image 243/308 /kaggle/input/medical-image-dataset-brain-tumor-detection/BrainTumor/BrainTumorYolov8/test/images/336_jpg.rf.b9fdfe6fd7dd25f5b3d08552d4592989.jpg: 640x640 1 meningioma, 23.1ms\n",
      "image 244/308 /kaggle/input/medical-image-dataset-brain-tumor-detection/BrainTumor/BrainTumorYolov8/test/images/341_jpg.rf.8b912d015591484f95a1f7d21a7305ca.jpg: 640x640 1 meningioma, 20.9ms\n",
      "image 245/308 /kaggle/input/medical-image-dataset-brain-tumor-detection/BrainTumor/BrainTumorYolov8/test/images/38_jpg.rf.1a9b0715faf5528bc2070c2b8e786241.jpg: 640x640 1 pituitary, 22.8ms\n",
      "image 246/308 /kaggle/input/medical-image-dataset-brain-tumor-detection/BrainTumor/BrainTumorYolov8/test/images/417_jpg.rf.53f1304f03553ff59bc45005589f6d35.jpg: 640x640 1 meningioma, 20.7ms\n",
      "image 247/308 /kaggle/input/medical-image-dataset-brain-tumor-detection/BrainTumor/BrainTumorYolov8/test/images/424_jpg.rf.67077f54759c004780327d905c6f10f4.jpg: 640x640 1 meningioma, 21.8ms\n",
      "image 248/308 /kaggle/input/medical-image-dataset-brain-tumor-detection/BrainTumor/BrainTumorYolov8/test/images/431_jpg.rf.bc347f3a6882c2727fda056a6edebc0b.jpg: 640x640 1 meningioma, 20.3ms\n",
      "image 249/308 /kaggle/input/medical-image-dataset-brain-tumor-detection/BrainTumor/BrainTumorYolov8/test/images/432_jpg.rf.bc7547878a2db743dcad32ac1315c1e9.jpg: 640x640 1 meningioma, 22.5ms\n",
      "image 250/308 /kaggle/input/medical-image-dataset-brain-tumor-detection/BrainTumor/BrainTumorYolov8/test/images/438_jpg.rf.521fb2dc8f1a3bedab5cbb45e4a643cb.jpg: 640x640 1 meningioma, 21.1ms\n",
      "image 251/308 /kaggle/input/medical-image-dataset-brain-tumor-detection/BrainTumor/BrainTumorYolov8/test/images/445_jpg.rf.9a81d2a3a01aa42d480b9c770cc6ac11.jpg: 640x640 1 meningioma, 22.0ms\n",
      "image 252/308 /kaggle/input/medical-image-dataset-brain-tumor-detection/BrainTumor/BrainTumorYolov8/test/images/465_jpg.rf.6ddd8f1d917d646e007619c524044539.jpg: 640x640 1 meningioma, 21.2ms\n",
      "image 253/308 /kaggle/input/medical-image-dataset-brain-tumor-detection/BrainTumor/BrainTumorYolov8/test/images/470_jpg.rf.920bf9910223bd311fdc7a820da29198.jpg: 640x640 1 meningioma, 21.7ms\n",
      "image 254/308 /kaggle/input/medical-image-dataset-brain-tumor-detection/BrainTumor/BrainTumorYolov8/test/images/476_jpg.rf.106a9acc3adb30e53d3259525d81d06d.jpg: 640x640 1 meningioma, 21.6ms\n",
      "image 255/308 /kaggle/input/medical-image-dataset-brain-tumor-detection/BrainTumor/BrainTumorYolov8/test/images/478_jpg.rf.ec513d779acab2dfeea2886432765fc3.jpg: 640x640 1 meningioma, 21.7ms\n",
      "image 256/308 /kaggle/input/medical-image-dataset-brain-tumor-detection/BrainTumor/BrainTumorYolov8/test/images/47_jpg.rf.ef7e1e5d6276a7912d01d00f93566ddc.jpg: 640x640 1 meningioma, 21.2ms\n",
      "image 257/308 /kaggle/input/medical-image-dataset-brain-tumor-detection/BrainTumor/BrainTumorYolov8/test/images/486_jpg.rf.c031eb647132ccbdff6e916399c5a73a.jpg: 640x640 1 meningioma, 21.0ms\n",
      "image 258/308 /kaggle/input/medical-image-dataset-brain-tumor-detection/BrainTumor/BrainTumorYolov8/test/images/487_jpg.rf.08f80ae5b6c4f3c3c40cb3ca1188bcdf.jpg: 640x640 1 meningioma, 21.2ms\n",
      "image 259/308 /kaggle/input/medical-image-dataset-brain-tumor-detection/BrainTumor/BrainTumorYolov8/test/images/544_jpg.rf.2573c6038397efa16c2dce4e77ddaed8.jpg: 640x640 1 meningioma, 21.1ms\n",
      "image 260/308 /kaggle/input/medical-image-dataset-brain-tumor-detection/BrainTumor/BrainTumorYolov8/test/images/554_jpg.rf.a4b4fccd77171929d3c2261aceb237b6.jpg: 640x640 1 meningioma, 21.8ms\n",
      "image 261/308 /kaggle/input/medical-image-dataset-brain-tumor-detection/BrainTumor/BrainTumorYolov8/test/images/561_jpg.rf.eba670f92c723927bb240762950ea480.jpg: 640x640 (no detections), 20.3ms\n",
      "image 262/308 /kaggle/input/medical-image-dataset-brain-tumor-detection/BrainTumor/BrainTumorYolov8/test/images/567_jpg.rf.d73c7f303d552e7bd554da617ebdf9e8.jpg: 640x640 1 meningioma, 23.1ms\n",
      "image 263/308 /kaggle/input/medical-image-dataset-brain-tumor-detection/BrainTumor/BrainTumorYolov8/test/images/571_jpg.rf.ed65129e8c11ba5cc4761d5fbee49eff.jpg: 640x640 1 meningioma, 20.7ms\n",
      "image 264/308 /kaggle/input/medical-image-dataset-brain-tumor-detection/BrainTumor/BrainTumorYolov8/test/images/58_jpg.rf.f3c516fd23aa8c8c65025dc08285ef2d.jpg: 640x640 (no detections), 22.8ms\n",
      "image 265/308 /kaggle/input/medical-image-dataset-brain-tumor-detection/BrainTumor/BrainTumorYolov8/test/images/593_jpg.rf.c2654f680d2f411dc9d641205a53efeb.jpg: 640x640 1 meningioma, 20.6ms\n",
      "image 266/308 /kaggle/input/medical-image-dataset-brain-tumor-detection/BrainTumor/BrainTumorYolov8/test/images/602_jpg.rf.bbb51d078837e053c54dac0180c2913f.jpg: 640x640 1 meningioma, 22.6ms\n",
      "image 267/308 /kaggle/input/medical-image-dataset-brain-tumor-detection/BrainTumor/BrainTumorYolov8/test/images/615_jpg.rf.f2af9f7efd4c14deab8b647bccd6dfe5.jpg: 640x640 1 meningioma, 20.8ms\n",
      "image 268/308 /kaggle/input/medical-image-dataset-brain-tumor-detection/BrainTumor/BrainTumorYolov8/test/images/642_jpg.rf.cc90bba88783a1c75acd289a80b52f90.jpg: 640x640 1 meningioma, 22.5ms\n",
      "image 269/308 /kaggle/input/medical-image-dataset-brain-tumor-detection/BrainTumor/BrainTumorYolov8/test/images/646_jpg.rf.518b0b892840ea6e76c2574add0b94b6.jpg: 640x640 1 meningioma, 20.8ms\n",
      "image 270/308 /kaggle/input/medical-image-dataset-brain-tumor-detection/BrainTumor/BrainTumorYolov8/test/images/663_jpg.rf.317c1dda38684f7a28865be102d29686.jpg: 640x640 1 meningioma, 22.5ms\n",
      "image 271/308 /kaggle/input/medical-image-dataset-brain-tumor-detection/BrainTumor/BrainTumorYolov8/test/images/676_jpg.rf.95b480131f4317ee0cd620bf95c03a3c.jpg: 640x640 1 meningioma, 20.8ms\n",
      "image 272/308 /kaggle/input/medical-image-dataset-brain-tumor-detection/BrainTumor/BrainTumorYolov8/test/images/687_jpg.rf.f7a2ace2eee43bb38782f1c7f5724db2.jpg: 640x640 1 meningioma, 22.0ms\n",
      "image 273/308 /kaggle/input/medical-image-dataset-brain-tumor-detection/BrainTumor/BrainTumorYolov8/test/images/68_jpg.rf.41f015e4f5a5ef1b98a9039274441ad2.jpg: 640x640 1 meningioma, 20.7ms\n",
      "image 274/308 /kaggle/input/medical-image-dataset-brain-tumor-detection/BrainTumor/BrainTumorYolov8/test/images/698_jpg.rf.af76ea240b910e3f4c102cfa29573fee.jpg: 640x640 1 meningioma, 22.0ms\n",
      "image 275/308 /kaggle/input/medical-image-dataset-brain-tumor-detection/BrainTumor/BrainTumorYolov8/test/images/708_jpg.rf.130a968bfb0e6bee44e0e5eaade988ed.jpg: 640x640 1 meningioma, 20.7ms\n",
      "image 276/308 /kaggle/input/medical-image-dataset-brain-tumor-detection/BrainTumor/BrainTumorYolov8/test/images/710_jpg.rf.4d5f1b36c6ad7a638cc7bbefe7df8866.jpg: 640x640 1 pituitary, 22.1ms\n",
      "image 277/308 /kaggle/input/medical-image-dataset-brain-tumor-detection/BrainTumor/BrainTumorYolov8/test/images/716_jpg.rf.dfd526c73892008fd330c8a80aaa39db.jpg: 640x640 1 glioma, 20.8ms\n",
      "image 278/308 /kaggle/input/medical-image-dataset-brain-tumor-detection/BrainTumor/BrainTumorYolov8/test/images/729_jpg.rf.8b38a672084b1a657486ea01112caecd.jpg: 640x640 (no detections), 22.5ms\n",
      "image 279/308 /kaggle/input/medical-image-dataset-brain-tumor-detection/BrainTumor/BrainTumorYolov8/test/images/733_jpg.rf.c4435dc9fc79ad36292d2f43f6df321c.jpg: 640x640 1 glioma, 20.7ms\n",
      "image 280/308 /kaggle/input/medical-image-dataset-brain-tumor-detection/BrainTumor/BrainTumorYolov8/test/images/735_jpg.rf.ed374c10732cb218d6aeb06bbdf54186.jpg: 640x640 1 glioma, 1 meningioma, 22.5ms\n",
      "image 281/308 /kaggle/input/medical-image-dataset-brain-tumor-detection/BrainTumor/BrainTumorYolov8/test/images/751_jpg.rf.bc5530cedd66bcdfae038ac2e95e74c4.jpg: 640x640 1 glioma, 1 meningioma, 21.1ms\n",
      "image 282/308 /kaggle/input/medical-image-dataset-brain-tumor-detection/BrainTumor/BrainTumorYolov8/test/images/752_jpg.rf.f03b3b81c0efd345f067a0b5725f50ab.jpg: 640x640 1 glioma, 22.0ms\n",
      "image 283/308 /kaggle/input/medical-image-dataset-brain-tumor-detection/BrainTumor/BrainTumorYolov8/test/images/760_jpg.rf.7d3b238103bbe1475d46b1a8783d81af.jpg: 640x640 1 meningioma, 21.6ms\n",
      "image 284/308 /kaggle/input/medical-image-dataset-brain-tumor-detection/BrainTumor/BrainTumorYolov8/test/images/765_jpg.rf.817a8ef020ebc50692ce0d67b206c2f7.jpg: 640x640 1 glioma, 21.9ms\n",
      "image 285/308 /kaggle/input/medical-image-dataset-brain-tumor-detection/BrainTumor/BrainTumorYolov8/test/images/780_jpg.rf.cd01e21d78007e5b08a240b7d67e259d.jpg: 640x640 2 gliomas, 21.4ms\n",
      "image 286/308 /kaggle/input/medical-image-dataset-brain-tumor-detection/BrainTumor/BrainTumorYolov8/test/images/79_jpg.rf.998f0f6bcbdf528473cdbbba4a1482d3.jpg: 640x640 1 meningioma, 20.7ms\n",
      "image 287/308 /kaggle/input/medical-image-dataset-brain-tumor-detection/BrainTumor/BrainTumorYolov8/test/images/808_jpg.rf.97f1beadeac516003bbfc111b98a5561.jpg: 640x640 (no detections), 21.2ms\n",
      "image 288/308 /kaggle/input/medical-image-dataset-brain-tumor-detection/BrainTumor/BrainTumorYolov8/test/images/80_jpg.rf.4a8a52c5f37e21d3d6f0ac79871a9f16.jpg: 640x640 1 meningioma, 21.8ms\n",
      "image 289/308 /kaggle/input/medical-image-dataset-brain-tumor-detection/BrainTumor/BrainTumorYolov8/test/images/814_jpg.rf.4e0728ca5f9993e528087a0124e72fae.jpg: 640x640 1 glioma, 21.2ms\n",
      "image 290/308 /kaggle/input/medical-image-dataset-brain-tumor-detection/BrainTumor/BrainTumorYolov8/test/images/819_jpg.rf.d0c38d30b8ac128257535a1509103e86.jpg: 640x640 1 glioma, 21.5ms\n",
      "image 291/308 /kaggle/input/medical-image-dataset-brain-tumor-detection/BrainTumor/BrainTumorYolov8/test/images/834_jpg.rf.2ee5f522f97e358e3bb6f3c7ec12f143.jpg: 640x640 1 glioma, 21.2ms\n",
      "image 292/308 /kaggle/input/medical-image-dataset-brain-tumor-detection/BrainTumor/BrainTumorYolov8/test/images/83_jpg.rf.8a8638c8d0cb21d172032172260d1453.jpg: 640x640 1 meningioma, 21.9ms\n",
      "image 293/308 /kaggle/input/medical-image-dataset-brain-tumor-detection/BrainTumor/BrainTumorYolov8/test/images/847_jpg.rf.2dc346a6966f354e814f5a44aad76850.jpg: 640x640 1 glioma, 21.2ms\n",
      "image 294/308 /kaggle/input/medical-image-dataset-brain-tumor-detection/BrainTumor/BrainTumorYolov8/test/images/851_jpg.rf.2eca43fe592d92eb4bc1a7afacbd0072.jpg: 640x640 1 glioma, 20.8ms\n",
      "image 295/308 /kaggle/input/medical-image-dataset-brain-tumor-detection/BrainTumor/BrainTumorYolov8/test/images/880_jpg.rf.820fdd0175c897a5334c8b4a9e5a65bc.jpg: 640x640 (no detections), 22.0ms\n",
      "image 296/308 /kaggle/input/medical-image-dataset-brain-tumor-detection/BrainTumor/BrainTumorYolov8/test/images/882_jpg.rf.ffc07ad6a95db14d77d6280f023d2a33.jpg: 640x640 1 glioma, 20.7ms\n",
      "image 297/308 /kaggle/input/medical-image-dataset-brain-tumor-detection/BrainTumor/BrainTumorYolov8/test/images/900_jpg.rf.70fdbdeca5b71e51595bd918985f600e.jpg: 640x640 1 glioma, 22.2ms\n",
      "image 298/308 /kaggle/input/medical-image-dataset-brain-tumor-detection/BrainTumor/BrainTumorYolov8/test/images/912_jpg.rf.ac888fc2add125a4540daaf0109ad04e.jpg: 640x640 1 glioma, 20.4ms\n",
      "image 299/308 /kaggle/input/medical-image-dataset-brain-tumor-detection/BrainTumor/BrainTumorYolov8/test/images/916_jpg.rf.a00683f3f153d2e361a9867caa9ce6bb.jpg: 640x640 1 glioma, 22.6ms\n",
      "image 300/308 /kaggle/input/medical-image-dataset-brain-tumor-detection/BrainTumor/BrainTumorYolov8/test/images/917_jpg.rf.7568a738ce7a4b465334c64cf3abb21d.jpg: 640x640 1 glioma, 20.6ms\n",
      "image 301/308 /kaggle/input/medical-image-dataset-brain-tumor-detection/BrainTumor/BrainTumorYolov8/test/images/918_jpg.rf.92c25602c2447e0f02ca9050b78d7bce.jpg: 640x640 1 pituitary, 23.4ms\n",
      "image 302/308 /kaggle/input/medical-image-dataset-brain-tumor-detection/BrainTumor/BrainTumorYolov8/test/images/921_jpg.rf.5b8b6aeacbdec995344cff66160dee07.jpg: 640x640 1 pituitary, 20.9ms\n",
      "image 303/308 /kaggle/input/medical-image-dataset-brain-tumor-detection/BrainTumor/BrainTumorYolov8/test/images/932_jpg.rf.708e79286bfe559dbba4f3a2c4e2f568.jpg: 640x640 1 pituitary, 22.5ms\n",
      "image 304/308 /kaggle/input/medical-image-dataset-brain-tumor-detection/BrainTumor/BrainTumorYolov8/test/images/937_jpg.rf.f1aeff71adf047fc3774da3706a9c18d.jpg: 640x640 1 pituitary, 20.7ms\n",
      "image 305/308 /kaggle/input/medical-image-dataset-brain-tumor-detection/BrainTumor/BrainTumorYolov8/test/images/940_jpg.rf.b20d2f1451241d70bbbc6f6599180f2e.jpg: 640x640 1 pituitary, 22.0ms\n",
      "image 306/308 /kaggle/input/medical-image-dataset-brain-tumor-detection/BrainTumor/BrainTumorYolov8/test/images/956_jpg.rf.98844fd6cb49702609e2f9414dc68649.jpg: 640x640 1 pituitary, 20.3ms\n",
      "image 307/308 /kaggle/input/medical-image-dataset-brain-tumor-detection/BrainTumor/BrainTumorYolov8/test/images/964_jpg.rf.7ce0bb422c279b80d38fbe1b4d46dabf.jpg: 640x640 1 pituitary, 21.2ms\n",
      "image 308/308 /kaggle/input/medical-image-dataset-brain-tumor-detection/BrainTumor/BrainTumorYolov8/test/images/979_jpg.rf.8fad468a4755ad718f4a8b8b6893535c.jpg: 640x640 1 pituitary, 22.3ms\n",
      "Speed: 2.0ms preprocess, 21.7ms inference, 1.3ms postprocess per image at shape (1, 3, 640, 640)\n",
      "Results saved to \u001b[1mresults/yolo_batch_detection\u001b[0m\n",
      "Detection completed. Annotated images saved to ../results/yolo_batch_detection/\n"
     ]
    }
   ],
   "source": [
    "from ultralytics import YOLO\n",
    "import os\n",
    "\n",
    "def detect_folder(\n",
    "    test_folder = '/kaggle/input/medical-image-dataset-brain-tumor-detection/BrainTumor/BrainTumorYolov8/test/images',\n",
    "    model_weights = '/kaggle/input/my-uploaded-model/best.pt',\n",
    "    confidence_threshold = 0.5):\n",
    "\n",
    "    # Load the model\n",
    "    model = YOLO(model_weights)\n",
    "\n",
    "    # Run prediction on all images in the folder\n",
    "    model.predict(\n",
    "        source = test_folder,\n",
    "        show = False,                           # Show might not work in Kaggle\n",
    "        save = True,                            # Save annotated images\n",
    "        conf = confidence_threshold,\n",
    "        line_width = 2,\n",
    "        project = 'results',                    # Folder to save results\n",
    "        name = 'yolo_batch_detection'           # Subfolder name\n",
    "    )\n",
    "\n",
    "    print(f\"Detection completed. Annotated images saved to ../results/yolo_batch_detection/\")\n",
    "\n",
    "if __name__ == \"__main__\":\n",
    "    detect_folder()"
   ]
  },
  {
   "cell_type": "code",
   "execution_count": 8,
   "metadata": {
    "execution": {
     "iopub.execute_input": "2025-06-13T05:36:45.401884Z",
     "iopub.status.busy": "2025-06-13T05:36:45.401331Z",
     "iopub.status.idle": "2025-06-13T05:36:46.450301Z",
     "shell.execute_reply": "2025-06-13T05:36:46.449605Z",
     "shell.execute_reply.started": "2025-06-13T05:36:45.401858Z"
    }
   },
   "outputs": [
    {
     "name": "stdout",
     "output_type": "stream",
     "text": [
      "  adding: kaggle/working/results/yolo_batch_detection/ (stored 0%)\n",
      "  adding: kaggle/working/results/yolo_batch_detection/615_jpg.rf.f2af9f7efd4c14deab8b647bccd6dfe5.jpg (deflated 4%)\n",
      "  adding: kaggle/working/results/yolo_batch_detection/1033_jpg.rf.1b4c0f5bdf30ec0ba218874a3a737720.jpg (deflated 4%)\n",
      "  adding: kaggle/working/results/yolo_batch_detection/2644_jpg.rf.a0fc4011f23db39f54925c2a1a997bfb.jpg (deflated 5%)\n",
      "  adding: kaggle/working/results/yolo_batch_detection/1951_jpg.rf.eb08d051c58cf70408f3def1b2f274de.jpg (deflated 5%)\n",
      "  adding: kaggle/working/results/yolo_batch_detection/2548_jpg.rf.ac53adca8ccdd9528c674565e3fc089f.jpg (deflated 6%)\n",
      "  adding: kaggle/working/results/yolo_batch_detection/2242_jpg.rf.2a39144f4a2f0c1e6b3af1631549f60d.jpg (deflated 5%)\n",
      "  adding: kaggle/working/results/yolo_batch_detection/1999_jpg.rf.2b6f52703a64ead20b91dea96eef0178.jpg (deflated 6%)\n",
      "  adding: kaggle/working/results/yolo_batch_detection/1710_jpg.rf.36fe9d822cf5079600022f12aa2d0f3a.jpg (deflated 4%)\n",
      "  adding: kaggle/working/results/yolo_batch_detection/1340_jpg.rf.42969e05e60cdacfba091ff9a0e709e0.jpg (deflated 4%)\n",
      "  adding: kaggle/working/results/yolo_batch_detection/1695_jpg.rf.b78bac3897bf7ab99f9936821021d56f.jpg (deflated 4%)\n",
      "  adding: kaggle/working/results/yolo_batch_detection/2586_jpg.rf.44c76682b69c3314b23fb388d11be6a3.jpg (deflated 4%)\n",
      "  adding: kaggle/working/results/yolo_batch_detection/2481_jpg.rf.609335209d6ed374fe490873a5517795.jpg (deflated 5%)\n",
      "  adding: kaggle/working/results/yolo_batch_detection/1632_jpg.rf.f1d13306a7996d02e67c3cfcac23fc53.jpg (deflated 4%)\n",
      "  adding: kaggle/working/results/yolo_batch_detection/1912_jpg.rf.0c0543ef2dd806ec6990cd21eed4b64b.jpg (deflated 5%)\n",
      "  adding: kaggle/working/results/yolo_batch_detection/921_jpg.rf.5b8b6aeacbdec995344cff66160dee07.jpg (deflated 4%)\n",
      "  adding: kaggle/working/results/yolo_batch_detection/780_jpg.rf.cd01e21d78007e5b08a240b7d67e259d.jpg (deflated 5%)\n",
      "  adding: kaggle/working/results/yolo_batch_detection/79_jpg.rf.998f0f6bcbdf528473cdbbba4a1482d3.jpg (deflated 5%)\n",
      "  adding: kaggle/working/results/yolo_batch_detection/2776_jpg.rf.0f23e983c7385f8880f2ec1e8ae7eb76.jpg (deflated 5%)\n",
      "  adding: kaggle/working/results/yolo_batch_detection/2821_jpg.rf.af3a466c75bd89deb03e482ae65b22dc.jpg (deflated 4%)\n",
      "  adding: kaggle/working/results/yolo_batch_detection/882_jpg.rf.ffc07ad6a95db14d77d6280f023d2a33.jpg (deflated 5%)\n",
      "  adding: kaggle/working/results/yolo_batch_detection/2066_jpg.rf.52e2f56bc5f3ddd77a2af99fb985ab0f.jpg (deflated 4%)\n",
      "  adding: kaggle/working/results/yolo_batch_detection/2634_jpg.rf.a0ea6d8e56c596bd56c55cfa306f4072.jpg (deflated 5%)\n",
      "  adding: kaggle/working/results/yolo_batch_detection/1884_jpg.rf.e4fe0c8cb99a3aeeed39ea7cec0b0948.jpg (deflated 5%)\n",
      "  adding: kaggle/working/results/yolo_batch_detection/1629_jpg.rf.d5cb6536907fd787343060675defad02.jpg (deflated 4%)\n",
      "  adding: kaggle/working/results/yolo_batch_detection/160_jpg.rf.f96cc2737510a6bd2accd1f972ab4af2.jpg (deflated 5%)\n",
      "  adding: kaggle/working/results/yolo_batch_detection/2755_jpg.rf.965ec3490920a37fd46dcca12f160f1c.jpg (deflated 4%)\n",
      "  adding: kaggle/working/results/yolo_batch_detection/642_jpg.rf.cc90bba88783a1c75acd289a80b52f90.jpg (deflated 4%)\n",
      "  adding: kaggle/working/results/yolo_batch_detection/130_jpg.rf.f26fbad203da20d0a9c229b7ecbea70d.jpg (deflated 5%)\n",
      "  adding: kaggle/working/results/yolo_batch_detection/2556_jpg.rf.fbf7395ccd18ac6fdf8b87a099323fda.jpg (deflated 5%)\n",
      "  adding: kaggle/working/results/yolo_batch_detection/1344_jpg.rf.6570648282314bc21a98981bce45470f.jpg (deflated 4%)\n",
      "  adding: kaggle/working/results/yolo_batch_detection/2484_jpg.rf.846d2c597e294828e5dea173e96e0459.jpg (deflated 5%)\n",
      "  adding: kaggle/working/results/yolo_batch_detection/83_jpg.rf.8a8638c8d0cb21d172032172260d1453.jpg (deflated 6%)\n",
      "  adding: kaggle/working/results/yolo_batch_detection/2730_jpg.rf.309f7c1c9025eab338904a87db63c603.jpg (deflated 5%)\n",
      "  adding: kaggle/working/results/yolo_batch_detection/3060_jpg.rf.0fc2b3c867d2357cca571db4571726ea.jpg (deflated 5%)\n",
      "  adding: kaggle/working/results/yolo_batch_detection/1587_jpg.rf.4e84e06636473a2dc2b2ee1614b30c25.jpg (deflated 4%)\n",
      "  adding: kaggle/working/results/yolo_batch_detection/3063_jpg.rf.e73677893aa50fb44107a9c04faf30af.jpg (deflated 5%)\n",
      "  adding: kaggle/working/results/yolo_batch_detection/2276_jpg.rf.d62901fd37c3ee87da51b2c7aa3f0bcc.jpg (deflated 5%)\n",
      "  adding: kaggle/working/results/yolo_batch_detection/2129_jpg.rf.7a7282026236ced3f8b4f8b767c3739c.jpg (deflated 5%)\n",
      "  adding: kaggle/working/results/yolo_batch_detection/2009_jpg.rf.bc09ea2f70c2daed3f2fe5f785bd1a58.jpg (deflated 7%)\n",
      "  adding: kaggle/working/results/yolo_batch_detection/2402_jpg.rf.d98c0aff9256bbe19e23978ea0bad2b5.jpg (deflated 7%)\n",
      "  adding: kaggle/working/results/yolo_batch_detection/1855_jpg.rf.f522b2d6e511f27e3c52681d177c306e.jpg (deflated 5%)\n",
      "  adding: kaggle/working/results/yolo_batch_detection/47_jpg.rf.ef7e1e5d6276a7912d01d00f93566ddc.jpg (deflated 5%)\n",
      "  adding: kaggle/working/results/yolo_batch_detection/2259_jpg.rf.1ce4c8e7150fd3b47c4d5e6bd7ceefdc.jpg (deflated 5%)\n",
      "  adding: kaggle/working/results/yolo_batch_detection/1231_jpg.rf.ff2478caf59fb9b4e63ae6190608b1eb.jpg (deflated 4%)\n",
      "  adding: kaggle/working/results/yolo_batch_detection/2914_jpg.rf.c1566b94cdecb5e7e6e07333695727ce.jpg (deflated 5%)\n",
      "  adding: kaggle/working/results/yolo_batch_detection/2682_jpg.rf.55f36f4a88d75c8065b1ff8817665cce.jpg (deflated 5%)\n",
      "  adding: kaggle/working/results/yolo_batch_detection/2748_jpg.rf.187db47b1d14080c2c986ae5f35ceae9.jpg (deflated 5%)\n",
      "  adding: kaggle/working/results/yolo_batch_detection/1041_jpg.rf.252e75e8f025b79f801db895122613d3.jpg (deflated 4%)\n",
      "  adding: kaggle/working/results/yolo_batch_detection/2393_jpg.rf.cc4a702878cd4c69d84a37be11625197.jpg (deflated 6%)\n",
      "  adding: kaggle/working/results/yolo_batch_detection/445_jpg.rf.9a81d2a3a01aa42d480b9c770cc6ac11.jpg (deflated 5%)\n",
      "  adding: kaggle/working/results/yolo_batch_detection/1975_jpg.rf.10c3b09915a13b0be5178a9738485a6e.jpg (deflated 4%)\n",
      "  adding: kaggle/working/results/yolo_batch_detection/1125_jpg.rf.82a5cbb71e2dc11bb6227afeaf7eada8.jpg (deflated 4%)\n",
      "  adding: kaggle/working/results/yolo_batch_detection/2781_jpg.rf.175843f75a531e87b7bd8bb7eed737f8.jpg (deflated 4%)\n",
      "  adding: kaggle/working/results/yolo_batch_detection/916_jpg.rf.a00683f3f153d2e361a9867caa9ce6bb.jpg (deflated 5%)\n",
      "  adding: kaggle/working/results/yolo_batch_detection/1343_jpg.rf.dd4963fa0550386236d4b93228a3a68a.jpg (deflated 4%)\n",
      "  adding: kaggle/working/results/yolo_batch_detection/1970_jpg.rf.8091ad01b620280c7171d511ce690e6e.jpg (deflated 5%)\n",
      "  adding: kaggle/working/results/yolo_batch_detection/1188_jpg.rf.ba278053ab4d8aed98dc19ce2aee4e5e.jpg (deflated 5%)\n",
      "  adding: kaggle/working/results/yolo_batch_detection/296_jpg.rf.bd6b78269ecccd92cfa32e2ee286c0ec.jpg (deflated 6%)\n",
      "  adding: kaggle/working/results/yolo_batch_detection/58_jpg.rf.f3c516fd23aa8c8c65025dc08285ef2d.jpg (deflated 6%)\n",
      "  adding: kaggle/working/results/yolo_batch_detection/233_jpg.rf.f8e76a85f9415a5bb5b8bd9f6cd8c5be.jpg (deflated 5%)\n",
      "  adding: kaggle/working/results/yolo_batch_detection/2531_jpg.rf.608517f4444d6322e094245b4099acd9.jpg (deflated 4%)\n",
      "  adding: kaggle/working/results/yolo_batch_detection/912_jpg.rf.ac888fc2add125a4540daaf0109ad04e.jpg (deflated 4%)\n",
      "  adding: kaggle/working/results/yolo_batch_detection/571_jpg.rf.ed65129e8c11ba5cc4761d5fbee49eff.jpg (deflated 4%)\n",
      "  adding: kaggle/working/results/yolo_batch_detection/1650_jpg.rf.f58d91da8f7153f5ec2ba7ecf27a4572.jpg (deflated 4%)\n",
      "  adding: kaggle/working/results/yolo_batch_detection/2079_jpg.rf.8dff473ffb745cb673bf5faef95736b4.jpg (deflated 5%)\n",
      "  adding: kaggle/working/results/yolo_batch_detection/2754_jpg.rf.d2145cab8b8cb80c87bb41290ab5e4a9.jpg (deflated 4%)\n",
      "  adding: kaggle/working/results/yolo_batch_detection/2240_jpg.rf.643b96430344165c1181c859aef3efd5.jpg (deflated 5%)\n",
      "  adding: kaggle/working/results/yolo_batch_detection/1663_jpg.rf.74ab6a97a0791b989d02dfa900eb4188.jpg (deflated 4%)\n",
      "  adding: kaggle/working/results/yolo_batch_detection/554_jpg.rf.a4b4fccd77171929d3c2261aceb237b6.jpg (deflated 4%)\n",
      "  adding: kaggle/working/results/yolo_batch_detection/2037_jpg.rf.4cc13f9ee6bf6b992c3e09547c9557a4.jpg (deflated 6%)\n",
      "  adding: kaggle/working/results/yolo_batch_detection/2872_jpg.rf.dd344fb6aad754495708b68abc4290a0.jpg (deflated 4%)\n",
      "  adding: kaggle/working/results/yolo_batch_detection/2033_jpg.rf.a8066ff978dec1e789ccfd53e2f32b95.jpg (deflated 5%)\n",
      "  adding: kaggle/working/results/yolo_batch_detection/2278_jpg.rf.36dd4fff23e253924259387cda33a1c8.jpg (deflated 6%)\n",
      "  adding: kaggle/working/results/yolo_batch_detection/2371_jpg.rf.3a8afe42a5f29dac13e24c055177ed1f.jpg (deflated 6%)\n",
      "  adding: kaggle/working/results/yolo_batch_detection/152_jpg.rf.35dd89fd16486f808549e0bcf0d73ef7.jpg (deflated 4%)\n",
      "  adding: kaggle/working/results/yolo_batch_detection/217_jpg.rf.1d89c6be1dd4e97ea32ee8ba39726df9.jpg (deflated 4%)\n",
      "  adding: kaggle/working/results/yolo_batch_detection/710_jpg.rf.4d5f1b36c6ad7a638cc7bbefe7df8866.jpg (deflated 4%)\n",
      "  adding: kaggle/working/results/yolo_batch_detection/979_jpg.rf.8fad468a4755ad718f4a8b8b6893535c.jpg (deflated 4%)\n",
      "  adding: kaggle/working/results/yolo_batch_detection/2165_jpg.rf.1c6902be0d181a537f3b6bce5ccfd079.jpg (deflated 6%)\n",
      "  adding: kaggle/working/results/yolo_batch_detection/2657_jpg.rf.3682b4bc734fbc4ace8d831043c87fe9.jpg (deflated 5%)\n",
      "  adding: kaggle/working/results/yolo_batch_detection/1285_jpg.rf.d5f52bd729b738690f1a30c95bd34bb8.jpg (deflated 4%)\n",
      "  adding: kaggle/working/results/yolo_batch_detection/2853_jpg.rf.4ecdc10983675bfa19f91e37e5e3beaf.jpg (deflated 5%)\n",
      "  adding: kaggle/working/results/yolo_batch_detection/2675_jpg.rf.f0b1aca2e7d6ce694791348cecbc1451.jpg (deflated 5%)\n",
      "  adding: kaggle/working/results/yolo_batch_detection/847_jpg.rf.2dc346a6966f354e814f5a44aad76850.jpg (deflated 4%)\n",
      "  adding: kaggle/working/results/yolo_batch_detection/814_jpg.rf.4e0728ca5f9993e528087a0124e72fae.jpg (deflated 5%)\n",
      "  adding: kaggle/working/results/yolo_batch_detection/2209_jpg.rf.4b6f922c1a9e4553086aebbb6abb563a.jpg (deflated 5%)\n",
      "  adding: kaggle/working/results/yolo_batch_detection/1275_jpg.rf.099b1fbe3e7c996412b34c679330289d.jpg (deflated 4%)\n",
      "  adding: kaggle/working/results/yolo_batch_detection/2812_jpg.rf.f4ebd1fa63f34d83a5d871791ff1b200.jpg (deflated 5%)\n",
      "  adding: kaggle/working/results/yolo_batch_detection/2347_jpg.rf.3a9d113da7e0bcd3ea58a80a19254a1a.jpg (deflated 7%)\n",
      "  adding: kaggle/working/results/yolo_batch_detection/851_jpg.rf.2eca43fe592d92eb4bc1a7afacbd0072.jpg (deflated 4%)\n",
      "  adding: kaggle/working/results/yolo_batch_detection/2227_jpg.rf.1eec53cb0f5ebb1728defbf2778e9e71.jpg (deflated 6%)\n",
      "  adding: kaggle/working/results/yolo_batch_detection/735_jpg.rf.ed374c10732cb218d6aeb06bbdf54186.jpg (deflated 5%)\n",
      "  adding: kaggle/working/results/yolo_batch_detection/1864_jpg.rf.acb2bda42df505957e9b381fed5d8a6b.jpg (deflated 5%)\n",
      "  adding: kaggle/working/results/yolo_batch_detection/2444_jpg.rf.5b8b6af3bccdffe3383b550b7121440d.jpg (deflated 5%)\n",
      "  adding: kaggle/working/results/yolo_batch_detection/3045_jpg.rf.6a1e02d25dee2159b3ff4a58214dcf3c.jpg (deflated 6%)\n",
      "  adding: kaggle/working/results/yolo_batch_detection/309_jpg.rf.33785c14232d6ede3876d09968debfac.jpg (deflated 5%)\n",
      "  adding: kaggle/working/results/yolo_batch_detection/2583_jpg.rf.bced2defac9914a8ade0d3b18ca74cf0.jpg (deflated 4%)\n",
      "  adding: kaggle/working/results/yolo_batch_detection/1164_jpg.rf.2d69d2534cff1bce9e8f3a96de7e3195.jpg (deflated 4%)\n",
      "  adding: kaggle/working/results/yolo_batch_detection/1822_jpg.rf.a399a7dceb6e21db070cd5d7fcdde5b9.jpg (deflated 4%)\n",
      "  adding: kaggle/working/results/yolo_batch_detection/567_jpg.rf.d73c7f303d552e7bd554da617ebdf9e8.jpg (deflated 5%)\n",
      "  adding: kaggle/working/results/yolo_batch_detection/1573_jpg.rf.c0e0d5f3655f6599102567826357a165.jpg (deflated 4%)\n",
      "  adding: kaggle/working/results/yolo_batch_detection/2153_jpg.rf.b7046b5b3aa144bdd718c4a60e16ba6c.jpg (deflated 4%)\n",
      "  adding: kaggle/working/results/yolo_batch_detection/956_jpg.rf.98844fd6cb49702609e2f9414dc68649.jpg (deflated 4%)\n",
      "  adding: kaggle/working/results/yolo_batch_detection/194_jpg.rf.1a52d6a31349b58286f0e950dc131288.jpg (deflated 5%)\n",
      "  adding: kaggle/working/results/yolo_batch_detection/2438_jpg.rf.566a3aa2f80ba84d4cdd9594181028cc.jpg (deflated 5%)\n",
      "  adding: kaggle/working/results/yolo_batch_detection/2656_jpg.rf.7c0322f566dd09818ab099bb18f48552.jpg (deflated 5%)\n",
      "  adding: kaggle/working/results/yolo_batch_detection/1486_jpg.rf.26fcb96c6107adc6407aefd932df5c9a.jpg (deflated 4%)\n",
      "  adding: kaggle/working/results/yolo_batch_detection/171_jpg.rf.93acd56beb32156ecb4cf8b77fcc98fb.jpg (deflated 7%)\n",
      "  adding: kaggle/working/results/yolo_batch_detection/2029_jpg.rf.a958de6a1510d6d7e3b0b103e779663f.jpg (deflated 4%)\n",
      "  adding: kaggle/working/results/yolo_batch_detection/2350_jpg.rf.97c970c1eaa99150a5ff681da63013ea.jpg (deflated 4%)\n",
      "  adding: kaggle/working/results/yolo_batch_detection/1018_jpg.rf.29ed2fb6754ca58ae27204ef24344650.jpg (deflated 4%)\n",
      "  adding: kaggle/working/results/yolo_batch_detection/1831_jpg.rf.09c1dbd0f860a101a87217f173264c44.jpg (deflated 4%)\n",
      "  adding: kaggle/working/results/yolo_batch_detection/1945_jpg.rf.7b3b45d292b20e871f02b57469f7bae0.jpg (deflated 5%)\n",
      "  adding: kaggle/working/results/yolo_batch_detection/1726_jpg.rf.2d635f72cc8182d2bceba7d9daf9d970.jpg (deflated 6%)\n",
      "  adding: kaggle/working/results/yolo_batch_detection/1012_jpg.rf.a9d8d27f5e1d382e0b93ff4a479f4519.jpg (deflated 4%)\n",
      "  adding: kaggle/working/results/yolo_batch_detection/2986_jpg.rf.dbda892491521eb209234b34bccdcdb0.jpg (deflated 5%)\n",
      "  adding: kaggle/working/results/yolo_batch_detection/1270_jpg.rf.b59f6d8cdace875bcf9e211aeaedc570.jpg (deflated 4%)\n",
      "  adding: kaggle/working/results/yolo_batch_detection/149_jpg.rf.9bb4fe987674ac37bfa59046107461b2.jpg (deflated 5%)\n",
      "  adding: kaggle/working/results/yolo_batch_detection/602_jpg.rf.bbb51d078837e053c54dac0180c2913f.jpg (deflated 4%)\n",
      "  adding: kaggle/working/results/yolo_batch_detection/2841_jpg.rf.549f29996aa6d61bbfccb194bcaaaba4.jpg (deflated 6%)\n",
      "  adding: kaggle/working/results/yolo_batch_detection/593_jpg.rf.c2654f680d2f411dc9d641205a53efeb.jpg (deflated 5%)\n",
      "  adding: kaggle/working/results/yolo_batch_detection/1375_jpg.rf.5eb2ef2766a902b1d7bd104962179133.jpg (deflated 4%)\n",
      "  adding: kaggle/working/results/yolo_batch_detection/1448_jpg.rf.ebbe903a8899de9dc1ba86746832d6b9.jpg (deflated 4%)\n",
      "  adding: kaggle/working/results/yolo_batch_detection/424_jpg.rf.67077f54759c004780327d905c6f10f4.jpg (deflated 5%)\n",
      "  adding: kaggle/working/results/yolo_batch_detection/2735_jpg.rf.78d6e2a2559ddf3c2479eb7f72dd7de9.jpg (deflated 5%)\n",
      "  adding: kaggle/working/results/yolo_batch_detection/1380_jpg.rf.7372dde3f2ee930065ba529b019f29ee.jpg (deflated 5%)\n",
      "  adding: kaggle/working/results/yolo_batch_detection/2835_jpg.rf.870b5373177d8ec7deab1117500aeda8.jpg (deflated 4%)\n",
      "  adding: kaggle/working/results/yolo_batch_detection/10_jpg.rf.efaf1af26de11dabdda3214f4457c931.jpg (deflated 6%)\n",
      "  adding: kaggle/working/results/yolo_batch_detection/2959_jpg.rf.b55f5b153b86ea97190b4955ff1568c2.jpg (deflated 5%)\n",
      "  adding: kaggle/working/results/yolo_batch_detection/1077_jpg.rf.db5d4838f58af179937c0d9bb7bceb82.jpg (deflated 4%)\n",
      "  adding: kaggle/working/results/yolo_batch_detection/3042_jpg.rf.8e9abeea8293c539d7b839b728e90785.jpg (deflated 7%)\n",
      "  adding: kaggle/working/results/yolo_batch_detection/2946_jpg.rf.855119c7ea912804400e339a720afcc0.jpg (deflated 6%)\n",
      "  adding: kaggle/working/results/yolo_batch_detection/238_jpg.rf.65430d94abbce87d2b08f7ea39476912.jpg (deflated 5%)\n",
      "  adding: kaggle/working/results/yolo_batch_detection/1947_jpg.rf.688008eb57dd3e2c7eed931faaed7f79.jpg (deflated 5%)\n",
      "  adding: kaggle/working/results/yolo_batch_detection/2422_jpg.rf.e6f2adf3e3de342608dfcb8c63f7e201.jpg (deflated 5%)\n",
      "  adding: kaggle/working/results/yolo_batch_detection/2263_jpg.rf.eb9ce4936b5e65e467c9356616990757.jpg (deflated 5%)\n",
      "  adding: kaggle/working/results/yolo_batch_detection/478_jpg.rf.ec513d779acab2dfeea2886432765fc3.jpg (deflated 4%)\n",
      "  adding: kaggle/working/results/yolo_batch_detection/3003_jpg.rf.4a331d96dc252f259f08c9046c4ae490.jpg (deflated 5%)\n",
      "  adding: kaggle/working/results/yolo_batch_detection/751_jpg.rf.bc5530cedd66bcdfae038ac2e95e74c4.jpg (deflated 4%)\n",
      "  adding: kaggle/working/results/yolo_batch_detection/1209_jpg.rf.5197fbf7b3d5d06ad469e24df07b3e4e.jpg (deflated 4%)\n",
      "  adding: kaggle/working/results/yolo_batch_detection/1860_jpg.rf.77431e9d672de1e9c9201f9e6ec73e77.jpg (deflated 5%)\n",
      "  adding: kaggle/working/results/yolo_batch_detection/1274_jpg.rf.791d7f528473a46e7cb8ef31b8a585cc.jpg (deflated 4%)\n",
      "  adding: kaggle/working/results/yolo_batch_detection/2617_jpg.rf.62e2abf10342499048df0f87c99e3682.jpg (deflated 5%)\n",
      "  adding: kaggle/working/results/yolo_batch_detection/2264_jpg.rf.d50d7d89f4fc9a5c6c0e88b4c85ef5bf.jpg (deflated 4%)\n",
      "  adding: kaggle/working/results/yolo_batch_detection/708_jpg.rf.130a968bfb0e6bee44e0e5eaade988ed.jpg (deflated 6%)\n",
      "  adding: kaggle/working/results/yolo_batch_detection/1651_jpg.rf.994bd773e76e28d76686c57b37293014.jpg (deflated 4%)\n",
      "  adding: kaggle/working/results/yolo_batch_detection/1090_jpg.rf.49e77ec069279939ebd855ac1f14912c.jpg (deflated 4%)\n",
      "  adding: kaggle/working/results/yolo_batch_detection/476_jpg.rf.106a9acc3adb30e53d3259525d81d06d.jpg (deflated 5%)\n",
      "  adding: kaggle/working/results/yolo_batch_detection/2904_jpg.rf.cbc4872603a5087d632f8ae70af6dfe9.jpg (deflated 5%)\n",
      "  adding: kaggle/working/results/yolo_batch_detection/2488_jpg.rf.548bbaa4ca83edc355bedb85aafef322.jpg (deflated 5%)\n",
      "  adding: kaggle/working/results/yolo_batch_detection/1574_jpg.rf.83351ec0ad0f1f757b237e6c5e02ba68.jpg (deflated 4%)\n",
      "  adding: kaggle/working/results/yolo_batch_detection/2340_jpg.rf.4f747b6f6011a0af0813efd1830dfab3.jpg (deflated 5%)\n",
      "  adding: kaggle/working/results/yolo_batch_detection/544_jpg.rf.2573c6038397efa16c2dce4e77ddaed8.jpg (deflated 5%)\n",
      "  adding: kaggle/working/results/yolo_batch_detection/2248_jpg.rf.cc0db07933d5628780bff3e982916b53.jpg (deflated 5%)\n",
      "  adding: kaggle/working/results/yolo_batch_detection/3027_jpg.rf.e87302cfca0a8ecf8370bfa39b8c47a3.jpg (deflated 5%)\n",
      "  adding: kaggle/working/results/yolo_batch_detection/2122_jpg.rf.d1793b09414253b05700d42584306acb.jpg (deflated 6%)\n",
      "  adding: kaggle/working/results/yolo_batch_detection/192_jpg.rf.8b107bb6b8fc883d1a0ae0cf4a5a330e.jpg (deflated 5%)\n",
      "  adding: kaggle/working/results/yolo_batch_detection/3037_jpg.rf.47e86b095266f90f6a5225e2c34db661.jpg (deflated 5%)\n",
      "  adding: kaggle/working/results/yolo_batch_detection/2315_jpg.rf.758f1c8518253384cef29b43b6530b6a.jpg (deflated 5%)\n",
      "  adding: kaggle/working/results/yolo_batch_detection/281_jpg.rf.a21bc0f6896e0d182d7a858f4ab7e4ae.jpg (deflated 4%)\n",
      "  adding: kaggle/working/results/yolo_batch_detection/1764_jpg.rf.84eba4eb8f41b13c10ae320dc7b16dcc.jpg (deflated 4%)\n",
      "  adding: kaggle/working/results/yolo_batch_detection/819_jpg.rf.d0c38d30b8ac128257535a1509103e86.jpg (deflated 4%)\n",
      "  adding: kaggle/working/results/yolo_batch_detection/487_jpg.rf.08f80ae5b6c4f3c3c40cb3ca1188bcdf.jpg (deflated 4%)\n",
      "  adding: kaggle/working/results/yolo_batch_detection/2070_jpg.rf.f6703ffa58066e5a7dd9d6e00ab5cd13.jpg (deflated 5%)\n",
      "  adding: kaggle/working/results/yolo_batch_detection/1950_jpg.rf.cba6ad0049301dfc47409eafd92b8014.jpg (deflated 4%)\n",
      "  adding: kaggle/working/results/yolo_batch_detection/932_jpg.rf.708e79286bfe559dbba4f3a2c4e2f568.jpg (deflated 4%)\n",
      "  adding: kaggle/working/results/yolo_batch_detection/918_jpg.rf.92c25602c2447e0f02ca9050b78d7bce.jpg (deflated 4%)\n",
      "  adding: kaggle/working/results/yolo_batch_detection/3001_jpg.rf.1c8c3754bf91838f91711e73bb28ec50.jpg (deflated 5%)\n",
      "  adding: kaggle/working/results/yolo_batch_detection/486_jpg.rf.c031eb647132ccbdff6e916399c5a73a.jpg (deflated 5%)\n",
      "  adding: kaggle/working/results/yolo_batch_detection/2536_jpg.rf.cb649840c4ee9344bd6c0177deb0fd40.jpg (deflated 5%)\n",
      "  adding: kaggle/working/results/yolo_batch_detection/940_jpg.rf.b20d2f1451241d70bbbc6f6599180f2e.jpg (deflated 4%)\n",
      "  adding: kaggle/working/results/yolo_batch_detection/1826_jpg.rf.6eb76a92173459de8f9beecbeb067d9d.jpg (deflated 4%)\n",
      "  adding: kaggle/working/results/yolo_batch_detection/2811_jpg.rf.b3d29d806414da3850045e1dada19247.jpg (deflated 5%)\n",
      "  adding: kaggle/working/results/yolo_batch_detection/1366_jpg.rf.756efab321007f8f79a6b703b3459666.jpg (deflated 4%)\n",
      "  adding: kaggle/working/results/yolo_batch_detection/2456_jpg.rf.82096230c8b6753f719385416ac75f3d.jpg (deflated 5%)\n",
      "  adding: kaggle/working/results/yolo_batch_detection/2773_jpg.rf.8dd0009a9eedcd33eaa16dfdd1d7efaf.jpg (deflated 5%)\n",
      "  adding: kaggle/working/results/yolo_batch_detection/465_jpg.rf.6ddd8f1d917d646e007619c524044539.jpg (deflated 5%)\n",
      "  adding: kaggle/working/results/yolo_batch_detection/880_jpg.rf.820fdd0175c897a5334c8b4a9e5a65bc.jpg (deflated 4%)\n",
      "  adding: kaggle/working/results/yolo_batch_detection/1564_jpg.rf.c1e0dd340ba5960fc13e374a8ef4b7d5.jpg (deflated 4%)\n",
      "  adding: kaggle/working/results/yolo_batch_detection/470_jpg.rf.920bf9910223bd311fdc7a820da29198.jpg (deflated 4%)\n",
      "  adding: kaggle/working/results/yolo_batch_detection/1681_jpg.rf.f1be96380961b6e977776a9d73c8f01d.jpg (deflated 4%)\n",
      "  adding: kaggle/working/results/yolo_batch_detection/316_jpg.rf.20eb15dddad6b4cab879dce543ddecef.jpg (deflated 4%)\n",
      "  adding: kaggle/working/results/yolo_batch_detection/2180_jpg.rf.b9da2d59f3afe7d75785c533f24cd5f4.jpg (deflated 5%)\n",
      "  adding: kaggle/working/results/yolo_batch_detection/2788_jpg.rf.aaaba360c40e6083a4dd2eb0e79088e2.jpg (deflated 5%)\n",
      "  adding: kaggle/working/results/yolo_batch_detection/1711_jpg.rf.5bad8da03f48c2219fef9ad14e226dd4.jpg (deflated 4%)\n",
      "  adding: kaggle/working/results/yolo_batch_detection/2881_jpg.rf.ceb1c9a3e08931040b2a321b70ba03fb.jpg (deflated 5%)\n",
      "  adding: kaggle/working/results/yolo_batch_detection/1003_jpg.rf.028d6d76fba92dd9e5dc59dc9d0f7293.jpg (deflated 4%)\n",
      "  adding: kaggle/working/results/yolo_batch_detection/2222_jpg.rf.b145d4307bbb4ae70c59e81a94286079.jpg (deflated 6%)\n",
      "  adding: kaggle/working/results/yolo_batch_detection/310_jpg.rf.21049e990cc91dafed2cc8ea4256ad3d.jpg (deflated 5%)\n",
      "  adding: kaggle/working/results/yolo_batch_detection/1178_jpg.rf.05e49b5e0a7310cbbdecc37e48153491.jpg (deflated 4%)\n",
      "  adding: kaggle/working/results/yolo_batch_detection/38_jpg.rf.1a9b0715faf5528bc2070c2b8e786241.jpg (deflated 4%)\n",
      "  adding: kaggle/working/results/yolo_batch_detection/2200_jpg.rf.7be896ca079a8b8801845a14b8f9b2b5.jpg (deflated 5%)\n",
      "  adding: kaggle/working/results/yolo_batch_detection/2943_jpg.rf.5aac81a0a865f53224c18379f6e77e18.jpg (deflated 5%)\n",
      "  adding: kaggle/working/results/yolo_batch_detection/561_jpg.rf.eba670f92c723927bb240762950ea480.jpg (deflated 5%)\n",
      "  adding: kaggle/working/results/yolo_batch_detection/2968_jpg.rf.a0cb25df31fb4976b1f3e4cefd4c99f0.jpg (deflated 4%)\n",
      "  adding: kaggle/working/results/yolo_batch_detection/2728_jpg.rf.b04df2c64856f68a0cf4c075ff0539e5.jpg (deflated 5%)\n",
      "  adding: kaggle/working/results/yolo_batch_detection/937_jpg.rf.f1aeff71adf047fc3774da3706a9c18d.jpg (deflated 4%)\n",
      "  adding: kaggle/working/results/yolo_batch_detection/1905_jpg.rf.4653fcbe04257e803ef570236faedf2b.jpg (deflated 5%)\n",
      "  adding: kaggle/working/results/yolo_batch_detection/1775_jpg.rf.f544f793a4372dd3f07f4213b9abfc8b.jpg (deflated 4%)\n",
      "  adding: kaggle/working/results/yolo_batch_detection/80_jpg.rf.4a8a52c5f37e21d3d6f0ac79871a9f16.jpg (deflated 5%)\n",
      "  adding: kaggle/working/results/yolo_batch_detection/2232_jpg.rf.3399096c7c503b05689be5799e8388c4.jpg (deflated 5%)\n",
      "  adding: kaggle/working/results/yolo_batch_detection/335_jpg.rf.0f1f7f6141300c3424d5a15f4d019102.jpg (deflated 5%)\n",
      "  adding: kaggle/working/results/yolo_batch_detection/68_jpg.rf.41f015e4f5a5ef1b98a9039274441ad2.jpg (deflated 5%)\n",
      "  adding: kaggle/working/results/yolo_batch_detection/104_jpg.rf.e74d25768eb80e77624670d6bc966b81.jpg (deflated 5%)\n",
      "  adding: kaggle/working/results/yolo_batch_detection/2884_jpg.rf.6e1fc048ccc5af32ee622eece72d18b7.jpg (deflated 4%)\n",
      "  adding: kaggle/working/results/yolo_batch_detection/431_jpg.rf.bc347f3a6882c2727fda056a6edebc0b.jpg (deflated 4%)\n",
      "  adding: kaggle/working/results/yolo_batch_detection/1867_jpg.rf.6463f5e7fc2480ed5a7a55d68f58c533.jpg (deflated 5%)\n",
      "  adding: kaggle/working/results/yolo_batch_detection/1693_jpg.rf.e7ae5548c3ead44346a660bd91830004.jpg (deflated 4%)\n",
      "  adding: kaggle/working/results/yolo_batch_detection/733_jpg.rf.c4435dc9fc79ad36292d2f43f6df321c.jpg (deflated 5%)\n",
      "  adding: kaggle/working/results/yolo_batch_detection/2100_jpg.rf.2910fd99c8bdd49d25d56f4c9f97068b.jpg (deflated 4%)\n",
      "  adding: kaggle/working/results/yolo_batch_detection/1284_jpg.rf.a1575f88de4a845442dcd7ac7c7ff607.jpg (deflated 4%)\n",
      "  adding: kaggle/working/results/yolo_batch_detection/2297_jpg.rf.ee0c9d2ee893bc79156cf301e66abae7.jpg (deflated 5%)\n",
      "  adding: kaggle/working/results/yolo_batch_detection/2225_jpg.rf.8a8cb1c9d8d9fd7b97540e0bc6b5bbc5.jpg (deflated 7%)\n",
      "  adding: kaggle/working/results/yolo_batch_detection/917_jpg.rf.7568a738ce7a4b465334c64cf3abb21d.jpg (deflated 5%)\n",
      "  adding: kaggle/working/results/yolo_batch_detection/2815_jpg.rf.81624e0074c19dd034b6ef6e5ffe98cd.jpg (deflated 4%)\n",
      "  adding: kaggle/working/results/yolo_batch_detection/438_jpg.rf.521fb2dc8f1a3bedab5cbb45e4a643cb.jpg (deflated 5%)\n",
      "  adding: kaggle/working/results/yolo_batch_detection/2563_jpg.rf.894a15258c4836a6ab1c3b8c1816e8e3.jpg (deflated 5%)\n",
      "  adding: kaggle/working/results/yolo_batch_detection/170_jpg.rf.253ccc367852a533eef6426087de906e.jpg (deflated 6%)\n",
      "  adding: kaggle/working/results/yolo_batch_detection/2320_jpg.rf.96ade57fc72ea3c9b1c5d969ed11658a.jpg (deflated 5%)\n",
      "  adding: kaggle/working/results/yolo_batch_detection/1631_jpg.rf.2f34893d5640e157f6a4becfdb2e23e8.jpg (deflated 4%)\n",
      "  adding: kaggle/working/results/yolo_batch_detection/30_jpg.rf.ed67030833ab55428267e6f9c38cc730.jpg (deflated 5%)\n",
      "  adding: kaggle/working/results/yolo_batch_detection/1503_jpg.rf.afdac19b2e1b747a03fe761bfbab2460.jpg (deflated 4%)\n",
      "  adding: kaggle/working/results/yolo_batch_detection/2401_jpg.rf.605ecb1bcd25a099a492d60bed8e4c29.jpg (deflated 6%)\n",
      "  adding: kaggle/working/results/yolo_batch_detection/1853_jpg.rf.22936007a95786a1540939608726b4d2.jpg (deflated 5%)\n",
      "  adding: kaggle/working/results/yolo_batch_detection/3017_jpg.rf.15692bfdec45e2e34f8b1a602b33268d.jpg (deflated 5%)\n",
      "  adding: kaggle/working/results/yolo_batch_detection/760_jpg.rf.7d3b238103bbe1475d46b1a8783d81af.jpg (deflated 7%)\n",
      "  adding: kaggle/working/results/yolo_batch_detection/234_jpg.rf.19fbc092be70165d474d671de82d77a2.jpg (deflated 5%)\n",
      "  adding: kaggle/working/results/yolo_batch_detection/1396_jpg.rf.d60b91690a7b887309eda8226986764f.jpg (deflated 4%)\n",
      "  adding: kaggle/working/results/yolo_batch_detection/341_jpg.rf.8b912d015591484f95a1f7d21a7305ca.jpg (deflated 5%)\n",
      "  adding: kaggle/working/results/yolo_batch_detection/2140_jpg.rf.c8d56b4ab6ffb754171c0baf66740ff9.jpg (deflated 6%)\n",
      "  adding: kaggle/working/results/yolo_batch_detection/646_jpg.rf.518b0b892840ea6e76c2574add0b94b6.jpg (deflated 5%)\n",
      "  adding: kaggle/working/results/yolo_batch_detection/2899_jpg.rf.f2bd57393e2ce7541cc819771a5312a0.jpg (deflated 4%)\n",
      "  adding: kaggle/working/results/yolo_batch_detection/1885_jpg.rf.fcf3a657b0b2fc6c2e9f9c48612f4d08.jpg (deflated 6%)\n",
      "  adding: kaggle/working/results/yolo_batch_detection/2038_jpg.rf.e5ee2a9c1800acaa17419a51e78615c3.jpg (deflated 6%)\n",
      "  adding: kaggle/working/results/yolo_batch_detection/291_jpg.rf.b4e6bf6837ad838e6a472cc4ca881fae.jpg (deflated 4%)\n",
      "  adding: kaggle/working/results/yolo_batch_detection/102_jpg.rf.e58e0fc30dfea3a7a410d7b901223f16.jpg (deflated 5%)\n",
      "  adding: kaggle/working/results/yolo_batch_detection/1511_jpg.rf.f149f5d409cca5df3f6c90f716e81244.jpg (deflated 4%)\n",
      "  adding: kaggle/working/results/yolo_batch_detection/2868_jpg.rf.52075c63e7df642f333876ba41e487e6.jpg (deflated 5%)\n",
      "  adding: kaggle/working/results/yolo_batch_detection/1641_jpg.rf.c12f8171a7788b077463d75151a660bc.jpg (deflated 4%)\n",
      "  adding: kaggle/working/results/yolo_batch_detection/1345_jpg.rf.6255653d1564fe44df7c20bd902c511d.jpg (deflated 4%)\n",
      "  adding: kaggle/working/results/yolo_batch_detection/1122_jpg.rf.e5b7d9dd059312db750f9a9574ab9cf2.jpg (deflated 4%)\n",
      "  adding: kaggle/working/results/yolo_batch_detection/1058_jpg.rf.a8d95af23ed6b011705441ef351c1f73.jpg (deflated 4%)\n",
      "  adding: kaggle/working/results/yolo_batch_detection/2816_jpg.rf.f9a1ed0b6cabef59cda0d34705612195.jpg (deflated 4%)\n",
      "  adding: kaggle/working/results/yolo_batch_detection/336_jpg.rf.b9fdfe6fd7dd25f5b3d08552d4592989.jpg (deflated 5%)\n",
      "  adding: kaggle/working/results/yolo_batch_detection/1759_jpg.rf.91b3c955883a4678cbd33018e29c6c7d.jpg (deflated 4%)\n",
      "  adding: kaggle/working/results/yolo_batch_detection/1639_jpg.rf.3a4ebd302c2c312f045ac91437f74810.jpg (deflated 4%)\n",
      "  adding: kaggle/working/results/yolo_batch_detection/687_jpg.rf.f7a2ace2eee43bb38782f1c7f5724db2.jpg (deflated 4%)\n",
      "  adding: kaggle/working/results/yolo_batch_detection/808_jpg.rf.97f1beadeac516003bbfc111b98a5561.jpg (deflated 5%)\n",
      "  adding: kaggle/working/results/yolo_batch_detection/2186_jpg.rf.8daa24355ea684babbf7c3bf3923cc95.jpg (deflated 5%)\n",
      "  adding: kaggle/working/results/yolo_batch_detection/1538_jpg.rf.ca397a75212020ed5e7bccf80c961bdc.jpg (deflated 4%)\n",
      "  adding: kaggle/working/results/yolo_batch_detection/676_jpg.rf.95b480131f4317ee0cd620bf95c03a3c.jpg (deflated 5%)\n",
      "  adding: kaggle/working/results/yolo_batch_detection/698_jpg.rf.af76ea240b910e3f4c102cfa29573fee.jpg (deflated 5%)\n",
      "  adding: kaggle/working/results/yolo_batch_detection/2109_jpg.rf.93f55acd8ce5c8fb728c6705602fe153.jpg (deflated 4%)\n",
      "  adding: kaggle/working/results/yolo_batch_detection/1341_jpg.rf.30e1b2a6fab5123e075bee034679f782.jpg (deflated 4%)\n",
      "  adding: kaggle/working/results/yolo_batch_detection/729_jpg.rf.8b38a672084b1a657486ea01112caecd.jpg (deflated 4%)\n",
      "  adding: kaggle/working/results/yolo_batch_detection/2338_jpg.rf.10d54e8101f0da558b08fad29666875a.jpg (deflated 5%)\n",
      "  adding: kaggle/working/results/yolo_batch_detection/125_jpg.rf.4967795739a86b7885115d2ba13c98cc.jpg (deflated 5%)\n",
      "  adding: kaggle/working/results/yolo_batch_detection/752_jpg.rf.f03b3b81c0efd345f067a0b5725f50ab.jpg (deflated 4%)\n",
      "  adding: kaggle/working/results/yolo_batch_detection/2354_jpg.rf.f8ae873ab57d03d0887a7c6856f4f8fa.jpg (deflated 5%)\n",
      "  adding: kaggle/working/results/yolo_batch_detection/2045_jpg.rf.6c1658b7de16f85a947d98a760866842.jpg (deflated 5%)\n",
      "  adding: kaggle/working/results/yolo_batch_detection/900_jpg.rf.70fdbdeca5b71e51595bd918985f600e.jpg (deflated 5%)\n",
      "  adding: kaggle/working/results/yolo_batch_detection/1652_jpg.rf.39e9640006db48d51fc7d613ee2e8b1d.jpg (deflated 4%)\n",
      "  adding: kaggle/working/results/yolo_batch_detection/1672_jpg.rf.69e40db584ad1c79aa6a5c46e6f3a5d9.jpg (deflated 4%)\n",
      "  adding: kaggle/working/results/yolo_batch_detection/2501_jpg.rf.a330a38d228e8f5fcfe756a0a0ce5734.jpg (deflated 7%)\n",
      "  adding: kaggle/working/results/yolo_batch_detection/2054_jpg.rf.f8fc31417ac7299e05ecd3da246915b8.jpg (deflated 5%)\n",
      "  adding: kaggle/working/results/yolo_batch_detection/1502_jpg.rf.545511fbefa8e14cdb8602a8bb4e59df.jpg (deflated 4%)\n",
      "  adding: kaggle/working/results/yolo_batch_detection/1613_jpg.rf.5c882491aaca86b0516aa62579385aaa.jpg (deflated 4%)\n",
      "  adding: kaggle/working/results/yolo_batch_detection/1087_jpg.rf.11aea0eb9fc21920ffd9adc7f86be8a5.jpg (deflated 4%)\n",
      "  adding: kaggle/working/results/yolo_batch_detection/417_jpg.rf.53f1304f03553ff59bc45005589f6d35.jpg (deflated 4%)\n",
      "  adding: kaggle/working/results/yolo_batch_detection/2810_jpg.rf.0457632175030eefa6ce39affb1357ae.jpg (deflated 5%)\n",
      "  adding: kaggle/working/results/yolo_batch_detection/1091_jpg.rf.5308c91865f1e3a19de6936a0d295339.jpg (deflated 4%)\n",
      "  adding: kaggle/working/results/yolo_batch_detection/2876_jpg.rf.d2b1fd2368dfd0f21f5c5ab288311247.jpg (deflated 5%)\n",
      "  adding: kaggle/working/results/yolo_batch_detection/2584_jpg.rf.0ae276b8bfe9f7e3ef6b74934166bf29.jpg (deflated 4%)\n",
      "  adding: kaggle/working/results/yolo_batch_detection/964_jpg.rf.7ce0bb422c279b80d38fbe1b4d46dabf.jpg (deflated 4%)\n",
      "  adding: kaggle/working/results/yolo_batch_detection/2355_jpg.rf.4efb398d9a28b05c2ad82cf662b52afd.jpg (deflated 5%)\n",
      "  adding: kaggle/working/results/yolo_batch_detection/1342_jpg.rf.d282167faddbd34230fe5dd2e536e7c5.jpg (deflated 4%)\n",
      "  adding: kaggle/working/results/yolo_batch_detection/2386_jpg.rf.ac4ea45cecd745925c818a3a7140b4e9.jpg (deflated 5%)\n",
      "  adding: kaggle/working/results/yolo_batch_detection/1779_jpg.rf.bee72974d8b5297aab3f9aefa61e78a9.jpg (deflated 4%)\n",
      "  adding: kaggle/working/results/yolo_batch_detection/2032_jpg.rf.7ff78b48dc4e5d376e7fc8249b7e59f5.jpg (deflated 5%)\n",
      "  adding: kaggle/working/results/yolo_batch_detection/2098_jpg.rf.2739ad43fd1f67bec9c3040dca11e676.jpg (deflated 5%)\n",
      "  adding: kaggle/working/results/yolo_batch_detection/1037_jpg.rf.7c415f051556bbba83bc00f70fe54818.jpg (deflated 4%)\n",
      "  adding: kaggle/working/results/yolo_batch_detection/432_jpg.rf.bc7547878a2db743dcad32ac1315c1e9.jpg (deflated 4%)\n",
      "  adding: kaggle/working/results/yolo_batch_detection/1311_jpg.rf.3c072180d36416037748e0147ee0ad2a.jpg (deflated 4%)\n",
      "  adding: kaggle/working/results/yolo_batch_detection/206_jpg.rf.00000c4649b91d940751d98d36cc3d17.jpg (deflated 5%)\n",
      "  adding: kaggle/working/results/yolo_batch_detection/1046_jpg.rf.26dd526422308d6d9e989d3308a9ee03.jpg (deflated 4%)\n",
      "  adding: kaggle/working/results/yolo_batch_detection/2231_jpg.rf.3896d9a386f787ad08f5afc80b480603.jpg (deflated 5%)\n",
      "  adding: kaggle/working/results/yolo_batch_detection/716_jpg.rf.dfd526c73892008fd330c8a80aaa39db.jpg (deflated 5%)\n",
      "  adding: kaggle/working/results/yolo_batch_detection/2717_jpg.rf.be5ba1a6b59da5b6335d7ca8cb12529e.jpg (deflated 4%)\n",
      "  adding: kaggle/working/results/yolo_batch_detection/1583_jpg.rf.ea41474e5ffc139718847dffa4d8c2ee.jpg (deflated 4%)\n",
      "  adding: kaggle/working/results/yolo_batch_detection/2312_jpg.rf.238be38efcae3858b374942125ac8844.jpg (deflated 6%)\n",
      "  adding: kaggle/working/results/yolo_batch_detection/1072_jpg.rf.e116d0d5edd77ef8dc6867dc9813b964.jpg (deflated 5%)\n",
      "  adding: kaggle/working/results/yolo_batch_detection/834_jpg.rf.2ee5f522f97e358e3bb6f3c7ec12f143.jpg (deflated 5%)\n",
      "  adding: kaggle/working/results/yolo_batch_detection/2769_jpg.rf.e730f6c0a9287adb99054a477e9d462e.jpg (deflated 6%)\n",
      "  adding: kaggle/working/results/yolo_batch_detection/3026_jpg.rf.d56624b1c71fe8a9a2c9226cde44fa4b.jpg (deflated 5%)\n",
      "  adding: kaggle/working/results/yolo_batch_detection/2394_jpg.rf.3bb0bbd4c76c46ff1cd85c06f234686a.jpg (deflated 6%)\n",
      "  adding: kaggle/working/results/yolo_batch_detection/765_jpg.rf.817a8ef020ebc50692ce0d67b206c2f7.jpg (deflated 5%)\n",
      "  adding: kaggle/working/results/yolo_batch_detection/2321_jpg.rf.bbebb683ebe5646503158844f551ecdc.jpg (deflated 4%)\n",
      "  adding: kaggle/working/results/yolo_batch_detection/1157_jpg.rf.034c9ffcd15fd9a89a3af651dabfeb67.jpg (deflated 4%)\n",
      "  adding: kaggle/working/results/yolo_batch_detection/2294_jpg.rf.fe5b37c011413bb3352e83fb2f4fb8e2.jpg (deflated 5%)\n",
      "  adding: kaggle/working/results/yolo_batch_detection/1083_jpg.rf.daf08bfc8ac851e42c0459c9ce165323.jpg (deflated 4%)\n",
      "  adding: kaggle/working/results/yolo_batch_detection/1432_jpg.rf.4421cea6f83014485c4b6bf5aafdbd86.jpg (deflated 4%)\n",
      "  adding: kaggle/working/results/yolo_batch_detection/1186_jpg.rf.b37c183c5d9541bde71a0f147073edcb.jpg (deflated 4%)\n",
      "  adding: kaggle/working/results/yolo_batch_detection/1616_jpg.rf.183ca40290650cf04b3d0f19a5731488.jpg (deflated 4%)\n",
      "  adding: kaggle/working/results/yolo_batch_detection/663_jpg.rf.317c1dda38684f7a28865be102d29686.jpg (deflated 5%)\n",
      "  adding: kaggle/working/results/yolo_batch_detection/1177_jpg.rf.ad059478ecfb84cd3daad08e6c40646f.jpg (deflated 4%)\n",
      "  adding: kaggle/working/results/yolo_batch_detection/1845_jpg.rf.0f696dec899f9e3d0ee3cccaf1880c99.jpg (deflated 5%)\n",
      "  adding: kaggle/working/results/yolo_batch_detection/1472_jpg.rf.da7f6b7f46ef5201e48e90352e01f091.jpg (deflated 4%)\n",
      "  adding: kaggle/working/results/yolo_batch_detection/2115_jpg.rf.6c0e37ceb10f6b65e87b6abd65199ec4.jpg (deflated 6%)\n"
     ]
    },
    {
     "data": {
      "text/html": [
       "<a href='/kaggle/working/detected_images.zip' target='_blank'>/kaggle/working/detected_images.zip</a><br>"
      ],
      "text/plain": [
       "/kaggle/working/detected_images.zip"
      ]
     },
     "execution_count": 8,
     "metadata": {},
     "output_type": "execute_result"
    }
   ],
   "source": [
    "!zip -r /kaggle/working/detected_images.zip /kaggle/working/results/yolo_batch_detection\n",
    "from IPython.display import FileLink\n",
    "FileLink('/kaggle/working/detected_images.zip')"
   ]
  },
  {
   "cell_type": "code",
   "execution_count": null,
   "metadata": {},
   "outputs": [],
   "source": []
  }
 ],
 "metadata": {
  "kaggle": {
   "accelerator": "nvidiaTeslaT4",
   "dataSources": [
    {
     "datasetId": 4327413,
     "sourceId": 10716308,
     "sourceType": "datasetVersion"
    },
    {
     "datasetId": 7652276,
     "sourceId": 12150350,
     "sourceType": "datasetVersion"
    }
   ],
   "dockerImageVersionId": 31040,
   "isGpuEnabled": true,
   "isInternetEnabled": true,
   "language": "python",
   "sourceType": "notebook"
  },
  "kernelspec": {
   "display_name": "Python 3 (ipykernel)",
   "language": "python",
   "name": "python3"
  },
  "language_info": {
   "codemirror_mode": {
    "name": "ipython",
    "version": 3
   },
   "file_extension": ".py",
   "mimetype": "text/x-python",
   "name": "python",
   "nbconvert_exporter": "python",
   "pygments_lexer": "ipython3",
   "version": "3.11.2"
  }
 },
 "nbformat": 4,
 "nbformat_minor": 4
}
