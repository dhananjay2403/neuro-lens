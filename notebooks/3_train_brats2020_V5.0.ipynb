{
 "cells": [
  {
   "cell_type": "code",
   "execution_count": null,
   "id": "e0dc323a",
   "metadata": {},
   "outputs": [],
   "source": [
    "\"\"\"\n",
    "Code to train batches of cropped BraTS 2020 images using 3D U-net.\n",
    "\n",
    "Please get the data ready and define custom data gnerator using the other\n",
    "files in this directory.\n",
    "\n",
    "Images are expected to be 128x128x128x3 npy data (3 corresponds to the 3 channels for \n",
    "                                                  test_image_flair, test_image_t1ce, test_image_t2)\n",
    "                                        \n",
    "Change the U-net input shape based on your input dataset shape (e.g. if you decide to only se 2 channels or all 4 channels)\n",
    "\n",
    "Masks are expected to be 128x128x128x3 npy data (4 corresponds to the 4 classes / labels)\n",
    "\n",
    "\n",
    "You can change input image sizes to customize for your computing resources.\n",
    "\"\"\"\n",
    "\n",
    "import os\n",
    "import numpy as np\n",
    "from custom_datagen import imageLoader\n",
    "#import tensorflow as tf\n",
    "import keras\n",
    "from matplotlib import pyplot as plt\n",
    "import glob\n",
    "import random"
   ]
  },
  {
   "cell_type": "code",
   "execution_count": null,
   "id": "ac885f60",
   "metadata": {},
   "outputs": [],
   "source": [
    "# Define directories where our images & masks are stored\n",
    "train_img_dir = \"BraTS2020_TrainingData/input_data_128/train/images/\"\n",
    "train_mask_dir = \"BraTS2020_TrainingData/input_data_128/train/masks/\""
   ]
  },
  {
   "cell_type": "code",
   "execution_count": null,
   "id": "41f797b0",
   "metadata": {},
   "outputs": [],
   "source": [
    "# Extract file names\n",
    "img_list = os.listdir(train_img_dir)\n",
    "msk_list = os.listdir(train_mask_dir)"
   ]
  },
  {
   "cell_type": "code",
   "execution_count": null,
   "id": "a3d9c97b",
   "metadata": {},
   "outputs": [],
   "source": [
    "num_images = len(os.listdir(train_img_dir))"
   ]
  },
  {
   "cell_type": "code",
   "execution_count": null,
   "id": "6a2fbd04",
   "metadata": {},
   "outputs": [],
   "source": [
    "img_num = random.randint(0,num_images-1)\n",
    "test_img = np.load(train_img_dir+img_list[img_num])\n",
    "test_mask = np.load(train_mask_dir+msk_list[img_num])\n",
    "test_mask = np.argmax(test_mask, axis=3)"
   ]
  },
  {
   "cell_type": "code",
   "execution_count": null,
   "id": "70bbfce2",
   "metadata": {},
   "outputs": [],
   "source": [
    "n_slice=random.randint(0, test_mask.shape[2])\n",
    "plt.figure(figsize=(12, 8))\n",
    "\n",
    "plt.subplot(221)\n",
    "plt.imshow(test_img[:,:,n_slice, 0], cmap='gray')\n",
    "plt.title('Image flair')\n",
    "plt.subplot(222)\n",
    "plt.imshow(test_img[:,:,n_slice, 1], cmap='gray')\n",
    "plt.title('Image t1ce')\n",
    "plt.subplot(223)\n",
    "plt.imshow(test_img[:,:,n_slice, 2], cmap='gray')\n",
    "plt.title('Image t2')\n",
    "plt.subplot(224)\n",
    "plt.imshow(test_mask[:,:,n_slice])\n",
    "plt.title('Mask')\n",
    "plt.show()"
   ]
  },
  {
   "cell_type": "code",
   "execution_count": null,
   "id": "f3b8b06f",
   "metadata": {},
   "outputs": [],
   "source": [
    "#Optional step of finding the distribution of each class and calculating appropriate weights\n",
    "#Alternatively you can just assign equal weights and see how well the model performs: 0.25, 0.25, 0.25, 0.25\n",
    "\n",
    "import pandas as pd\n",
    "columns = ['0','1', '2', '3']\n",
    "df = pd.DataFrame(columns=columns)\n",
    "train_mask_list = sorted(glob.glob('BraTS2020_TrainingData/input_data_128/train/masks/*.npy'))\n",
    "for img in range(len(train_mask_list)):\n",
    "    print(img)\n",
    "    temp_image=np.load(train_mask_list[img])\n",
    "    temp_image = np.argmax(temp_image, axis=3)\n",
    "    val, counts = np.unique(temp_image, return_counts=True)\n",
    "    zipped = zip(columns, counts)\n",
    "    conts_dict = dict(zipped)\n",
    "    \n",
    "    df = df.append(conts_dict, ignore_index=True)\n",
    "\n",
    "label_0 = df['0'].sum()\n",
    "label_1 = df['1'].sum()\n",
    "label_2 = df['1'].sum()\n",
    "label_3 = df['3'].sum()\n",
    "total_labels = label_0 + label_1 + label_2 + label_3\n",
    "n_classes = 4\n",
    "#Class weights claculation: n_samples / (n_classes * n_samples_for_class)\n",
    "wt0 = round((total_labels/(n_classes*label_0)), 2) #round to 2 decimals\n",
    "wt1 = round((total_labels/(n_classes*label_1)), 2)\n",
    "wt2 = round((total_labels/(n_classes*label_2)), 2)\n",
    "wt3 = round((total_labels/(n_classes*label_3)), 2)\n",
    "\n",
    "# Weights are: 0.26, 22.53, 22.53, 26.21\n",
    "# wt0, wt1, wt2, wt3 = 0.26, 22.53, 22.53, 26.21\n",
    "# These weihts can be used for Dice loss "
   ]
  },
  {
   "cell_type": "code",
   "execution_count": null,
   "id": "9fa285fa",
   "metadata": {},
   "outputs": [],
   "source": [
    "#Define the image generators for training and validation\n",
    "\n",
    "# Image & mask directory for training dataset \n",
    "train_img_dir = \"BraTS2020_TrainingData/input_data_128/train/images/\"\n",
    "train_mask_dir = \"BraTS2020_TrainingData/input_data_128/train/masks/\"\n",
    "\n",
    "# Image & mask directory for validation dataset \n",
    "val_img_dir = \"BraTS2020_TrainingData/input_data_128/val/images/\"\n",
    "val_mask_dir = \"BraTS2020_TrainingData/input_data_128/val/masks/\"\n",
    "\n",
    "# Image & mask list for training dataset \n",
    "train_img_list=os.listdir(train_img_dir)\n",
    "train_mask_list = os.listdir(train_mask_dir)\n",
    "\n",
    "# Image & mask list for validation dataset \n",
    "val_img_list=os.listdir(val_img_dir)\n",
    "val_mask_list = os.listdir(val_mask_dir)"
   ]
  },
  {
   "cell_type": "code",
   "execution_count": null,
   "id": "d13876b7",
   "metadata": {},
   "outputs": [],
   "source": [
    "batch_size = 2          # we took a small batch size coz our volume size is 128*128*128, 3 such volumes all fused together\n",
    "\n",
    "train_img_datagen = imageLoader(train_img_dir, train_img_list, \n",
    "                                train_mask_dir, train_mask_list, batch_size)\n",
    "\n",
    "val_img_datagen = imageLoader(val_img_dir, val_img_list, \n",
    "                                val_mask_dir, val_mask_list, batch_size)"
   ]
  },
  {
   "cell_type": "code",
   "execution_count": null,
   "id": "aab40f11",
   "metadata": {},
   "outputs": [],
   "source": [
    "#Verify generator.... In python 3 next() is renamed as __next__()\n",
    "img, msk = train_img_datagen.__next__()"
   ]
  },
  {
   "cell_type": "code",
   "execution_count": null,
   "id": "736602e7",
   "metadata": {},
   "outputs": [],
   "source": [
    "# Plot it again to make sure everything is working as expected\n",
    "img_num = random.randint(0,img.shape[0]-1)\n",
    "test_img=img[img_num]\n",
    "test_mask=msk[img_num]\n",
    "test_mask=np.argmax(test_mask, axis=3)\n",
    "\n",
    "n_slice=random.randint(0, test_mask.shape[2])\n",
    "plt.figure(figsize=(12, 8))\n",
    "\n",
    "plt.subplot(221)\n",
    "plt.imshow(test_img[:,:,n_slice, 0], cmap='gray')\n",
    "plt.title('Image flair')\n",
    "plt.subplot(222)\n",
    "plt.imshow(test_img[:,:,n_slice, 1], cmap='gray')\n",
    "plt.title('Image t1ce')\n",
    "plt.subplot(223)\n",
    "plt.imshow(test_img[:,:,n_slice, 2], cmap='gray')\n",
    "plt.title('Image t2')\n",
    "plt.subplot(224)\n",
    "plt.imshow(test_mask[:,:,n_slice])\n",
    "plt.title('Mask')\n",
    "plt.show()"
   ]
  },
  {
   "cell_type": "code",
   "execution_count": null,
   "id": "9ef96743",
   "metadata": {},
   "outputs": [],
   "source": [
    "#Define loss, metrics and optimizer to be used for training\n",
    "wt0, wt1, wt2, wt3 = 0.25,0.25,0.25,0.25"
   ]
  },
  {
   "cell_type": "code",
   "execution_count": null,
   "id": "65008f99",
   "metadata": {},
   "outputs": [],
   "source": [
    "import segmentation_models_3D as sm\n",
    "dice_loss = sm.losses.DiceLoss(class_weights=np.array([wt0, wt1, wt2, wt3])) \n",
    "focal_loss = sm.losses.CategoricalFocalLoss()\n",
    "total_loss = dice_loss + (1 * focal_loss)"
   ]
  },
  {
   "cell_type": "code",
   "execution_count": null,
   "id": "5b420bed",
   "metadata": {},
   "outputs": [],
   "source": [
    "metrics = ['accuracy', sm.metrics.IOUScore(threshold=0.5)]"
   ]
  },
  {
   "cell_type": "code",
   "execution_count": null,
   "id": "57f4ec04",
   "metadata": {},
   "outputs": [],
   "source": [
    "LR = 0.0001         # Learning Rate\n",
    "optim = keras.optimizers.Adam(LR)"
   ]
  },
  {
   "cell_type": "markdown",
   "id": "84530387",
   "metadata": {},
   "source": [
    "## Fit the Model"
   ]
  },
  {
   "cell_type": "code",
   "execution_count": null,
   "id": "a97fffbd",
   "metadata": {},
   "outputs": [],
   "source": [
    "steps_per_epoch = len(train_img_list)//batch_size"
   ]
  },
  {
   "cell_type": "code",
   "execution_count": null,
   "id": "57c73343",
   "metadata": {},
   "outputs": [],
   "source": [
    "val_steps_per_epoch = len(val_img_list)//batch_size"
   ]
  },
  {
   "cell_type": "code",
   "execution_count": null,
   "id": "c72e19f6",
   "metadata": {},
   "outputs": [],
   "source": [
    "from  simple_3d_unet import simple_unet_model\n",
    "\n",
    "model = simple_unet_model(IMG_HEIGHT=128, \n",
    "                          IMG_WIDTH=128, \n",
    "                          IMG_DEPTH=128, \n",
    "                          IMG_CHANNELS=3, \n",
    "                          num_classes=4)"
   ]
  },
  {
   "cell_type": "code",
   "execution_count": null,
   "id": "101e4edf",
   "metadata": {},
   "outputs": [],
   "source": [
    "model.compile(optimizer = optim, loss=total_loss, metrics=metrics)\n",
    "print(model.summary())"
   ]
  },
  {
   "cell_type": "code",
   "execution_count": null,
   "id": "497d21ed",
   "metadata": {},
   "outputs": [],
   "source": [
    "print(model.input_shape)\n",
    "print(model.output_shape)"
   ]
  },
  {
   "cell_type": "code",
   "execution_count": null,
   "id": "e5960fa7",
   "metadata": {},
   "outputs": [],
   "source": [
    "history=model.fit(train_img_datagen,\n",
    "          steps_per_epoch=steps_per_epoch,\n",
    "          epochs=100,\n",
    "          verbose=1,\n",
    "          validation_data=val_img_datagen,\n",
    "          validation_steps=val_steps_per_epoch,\n",
    "          )\n",
    "\n",
    "model.save('brats_3d.hdf5')"
   ]
  },
  {
   "cell_type": "code",
   "execution_count": null,
   "id": "63d474e1",
   "metadata": {},
   "outputs": [],
   "source": [
    "#plot the training and validation IoU and loss at each epoch\n",
    "loss = history.history['loss']\n",
    "val_loss = history.history['val_loss']\n",
    "epochs = range(1, len(loss) + 1)\n",
    "plt.plot(epochs, loss, 'y', label='Training loss')\n",
    "plt.plot(epochs, val_loss, 'r', label='Validation loss')\n",
    "plt.title('Training and validation loss')\n",
    "plt.xlabel('Epochs')\n",
    "plt.ylabel('Loss')\n",
    "plt.legend()\n",
    "plt.show()"
   ]
  },
  {
   "cell_type": "code",
   "execution_count": null,
   "id": "4fb6367b",
   "metadata": {},
   "outputs": [],
   "source": [
    "acc = history.history['accuracy']\n",
    "val_acc = history.history['val_accuracy']"
   ]
  },
  {
   "cell_type": "code",
   "execution_count": null,
   "id": "65856640",
   "metadata": {},
   "outputs": [],
   "source": [
    "plt.plot(epochs, acc, 'y', label='Training accuracy')\n",
    "plt.plot(epochs, val_acc, 'r', label='Validation accuracy')\n",
    "plt.title('Training and validation accuracy')\n",
    "plt.xlabel('Epochs')\n",
    "plt.ylabel('Accuracy')\n",
    "plt.legend()\n",
    "plt.show()"
   ]
  },
  {
   "cell_type": "code",
   "execution_count": null,
   "id": "52163641",
   "metadata": {},
   "outputs": [],
   "source": [
    "#Load model for prediction or continue training\n",
    "from keras.models import load_model"
   ]
  },
  {
   "cell_type": "code",
   "execution_count": null,
   "id": "d6e4295f",
   "metadata": {},
   "outputs": [],
   "source": [
    "#For continuing training....\n",
    "#The following gives an error: Unknown loss function: dice_loss_plus_1focal_loss\n",
    "#This is because the model does not save loss function and metrics. So to compile and \n",
    "#continue training we need to provide these as custom_objects.\n",
    "my_model = load_model('saved_models/brats_3d_100epochs_simple_unet_weighted_dice.hdf5')              # Add compile=False to avoid retraining the model"
   ]
  },
  {
   "cell_type": "code",
   "execution_count": null,
   "id": "3cb52242",
   "metadata": {},
   "outputs": [],
   "source": [
    "#So let us add the loss as custom object... but the following throws another error...\n",
    "#Unknown metric function: iou_score\n",
    "my_model = load_model('saved_models/brats_3d_100epochs_simple_unet_weighted_dice.hdf5', \n",
    "                      custom_objects={'dice_loss_plus_1focal_loss': total_loss})"
   ]
  },
  {
   "cell_type": "code",
   "execution_count": null,
   "id": "610ce55f",
   "metadata": {},
   "outputs": [],
   "source": [
    "#Now, let us add the iou_score function we used during our initial training\n",
    "my_model = load_model('saved_models/brats_3d_100epochs_simple_unet_weighted_dice.hdf5', \n",
    "                      custom_objects={'dice_loss_plus_1focal_loss': total_loss,\n",
    "                                      'iou_score':sm.metrics.IOUScore(threshold=0.5)})"
   ]
  },
  {
   "cell_type": "code",
   "execution_count": null,
   "id": "b480e127",
   "metadata": {},
   "outputs": [],
   "source": [
    "#Now all set to continue the training process. \n",
    "history2=my_model.fit(train_img_datagen,\n",
    "          steps_per_epoch=steps_per_epoch,\n",
    "          epochs=1,\n",
    "          verbose=1,\n",
    "          validation_data=val_img_datagen,\n",
    "          validation_steps=val_steps_per_epoch,\n",
    "          )"
   ]
  },
  {
   "cell_type": "markdown",
   "id": "4cf3ecc2",
   "metadata": {},
   "source": [
    "---"
   ]
  },
  {
   "cell_type": "code",
   "execution_count": null,
   "id": "60730e7f",
   "metadata": {},
   "outputs": [],
   "source": [
    "#For predictions you do not need to compile the model, so ...\n",
    "my_model = load_model('saved_models/brats_3d_100epochs_simple_unet_weighted_dice.hdf5', \n",
    "                      compile=False)"
   ]
  },
  {
   "cell_type": "code",
   "execution_count": null,
   "id": "49893349",
   "metadata": {},
   "outputs": [],
   "source": [
    "#Verify IoU on a batch of images from the test dataset using built in keras function for IoU (Only works on TF > 2.0)\n",
    "from keras.metrics import MeanIoU"
   ]
  },
  {
   "cell_type": "code",
   "execution_count": null,
   "id": "22ad4bd2",
   "metadata": {},
   "outputs": [],
   "source": [
    "batch_size=8 #Check IoU for a batch of images\n",
    "test_img_datagen = imageLoader(val_img_dir, val_img_list, \n",
    "                                val_mask_dir, val_mask_list, batch_size)"
   ]
  },
  {
   "cell_type": "code",
   "execution_count": null,
   "id": "da5e7ce5",
   "metadata": {},
   "outputs": [],
   "source": [
    "#Verify generator.... In python 3 next() is renamed as __next__()\n",
    "test_image_batch, test_mask_batch = test_img_datagen.__next__()"
   ]
  },
  {
   "cell_type": "code",
   "execution_count": null,
   "id": "6a84b784",
   "metadata": {},
   "outputs": [],
   "source": [
    "test_mask_batch_argmax = np.argmax(test_mask_batch, axis=4)"
   ]
  },
  {
   "cell_type": "code",
   "execution_count": null,
   "id": "879dbdb4",
   "metadata": {},
   "outputs": [],
   "source": [
    "test_pred_batch = my_model.predict(test_image_batch)"
   ]
  },
  {
   "cell_type": "code",
   "execution_count": null,
   "id": "5f19d370",
   "metadata": {},
   "outputs": [],
   "source": [
    "test_pred_batch_argmax = np.argmax(test_pred_batch, axis=4)"
   ]
  },
  {
   "cell_type": "code",
   "execution_count": null,
   "id": "b0f6e64b",
   "metadata": {},
   "outputs": [],
   "source": [
    "n_classes = 4\n",
    "IOU_keras = MeanIoU(num_classes=n_classes)  \n",
    "IOU_keras.update_state(test_pred_batch_argmax, test_mask_batch_argmax)\n",
    "print(\"Mean IoU =\", IOU_keras.result().numpy())"
   ]
  },
  {
   "cell_type": "markdown",
   "id": "7bd4bd1d",
   "metadata": {},
   "source": [
    "---"
   ]
  },
  {
   "cell_type": "code",
   "execution_count": null,
   "id": "732391e0",
   "metadata": {},
   "outputs": [],
   "source": [
    "#Predict on a few test images, one at a time\n",
    "#Try images: \n",
    "img_num = 82\n",
    "\n",
    "test_img = np.load(\"BraTS2020_TrainingData/input_data_128/val/images/image_\"+str(img_num)+\".npy\")\n",
    "\n",
    "test_mask = np.load(\"BraTS2020_TrainingData/input_data_128/val/masks/mask_\"+str(img_num)+\".npy\")\n",
    "test_mask_argmax=np.argmax(test_mask, axis=3)\n",
    "\n",
    "test_img_input = np.expand_dims(test_img, axis=0)\n",
    "test_prediction = my_model.predict(test_img_input)\n",
    "test_prediction_argmax=np.argmax(test_prediction, axis=4)[0,:,:,:]\n",
    "\n",
    "\n",
    "# print(test_prediction_argmax.shape)\n",
    "# print(test_mask_argmax.shape)\n",
    "# print(np.unique(test_prediction_argmax))"
   ]
  },
  {
   "cell_type": "code",
   "execution_count": null,
   "id": "ff79c5bf",
   "metadata": {},
   "outputs": [],
   "source": [
    "#Plot individual slices from test predictions for verification\n",
    "from matplotlib import pyplot as plt\n",
    "import random\n",
    "\n",
    "#n_slice=random.randint(0, test_prediction_argmax.shape[2])\n",
    "n_slice = 55\n",
    "plt.figure(figsize=(12, 8))\n",
    "plt.subplot(231)\n",
    "plt.title('Testing Image')\n",
    "plt.imshow(test_img[:,:,n_slice,1], cmap='gray')\n",
    "plt.subplot(232)\n",
    "plt.title('Testing Label')\n",
    "plt.imshow(test_mask_argmax[:,:,n_slice])\n",
    "plt.subplot(233)\n",
    "plt.title('Prediction on test image')\n",
    "plt.imshow(test_prediction_argmax[:,:, n_slice])\n",
    "plt.show()"
   ]
  }
 ],
 "metadata": {
  "language_info": {
   "name": "python"
  }
 },
 "nbformat": 4,
 "nbformat_minor": 5
}
